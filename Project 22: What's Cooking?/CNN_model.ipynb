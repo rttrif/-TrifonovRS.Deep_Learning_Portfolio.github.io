{
 "cells": [
  {
   "cell_type": "markdown",
   "id": "72acbb63-8b14-4fc0-82f2-e6fd9d49894c",
   "metadata": {
    "tags": []
   },
   "source": [
    "## PROJECT 22: What's Cooking?\n",
    "\n",
    "> ### TASK: Use recipe ingredients to categorize the cuisine with Natural Language Processing \n",
    "\n",
    "### Project goals and objectives\n",
    "\n",
    "#### Project goal\n",
    "\n",
    "- Studying **Convolutional Neural Networks for NPL**\n",
    "\n",
    "#### Project objectives\n",
    "\n",
    "1. Explore and prepare data \n",
    "2. Training several 1D CNN"
   ]
  },
  {
   "cell_type": "markdown",
   "id": "1f51d53e-37fc-4c7b-8c32-ce2ce29619aa",
   "metadata": {},
   "source": [
    "#### IMPORT LIBRARIES"
   ]
  },
  {
   "cell_type": "code",
   "execution_count": 1,
   "id": "62e3b8f1-b325-45c9-9a88-31ebdb2efe78",
   "metadata": {},
   "outputs": [],
   "source": [
    "import pandas as pd\n",
    "import numpy as np\n",
    "import seaborn as sns\n",
    "import matplotlib.pyplot as plt\n",
    "import random\n",
    "\n",
    "from tqdm import tqdm\n",
    "tqdm.pandas()\n",
    "\n",
    "import re\n",
    "import unidecode\n",
    "\n",
    "from collections import Counter\n",
    "\n",
    "import nltk\n",
    "from nltk.stem import WordNetLemmatizer\n",
    "\n",
    "from sklearn.model_selection import train_test_split\n",
    "from sklearn.feature_extraction.text import TfidfVectorizer\n",
    "from sklearn.naive_bayes import MultinomialNB\n",
    "from sklearn.pipeline import Pipeline\n",
    "from sklearn.metrics import accuracy_score, precision_recall_fscore_support\n",
    "from sklearn.preprocessing import OneHotEncoder\n",
    "from sklearn.preprocessing import LabelEncoder\n",
    "\n",
    "import tensorflow as tf\n",
    "from tensorflow.keras.layers import Conv1D, GlobalMaxPool1D, Dropout, Dense,GlobalAveragePooling1D, Input, Embedding, MaxPool1D, Flatten\n",
    "from tensorflow.keras.layers.experimental.preprocessing import TextVectorization\n",
    "from tensorflow.keras.models import Model\n",
    "\n",
    "from tensorflow.keras.preprocessing.text import one_hot, Tokenizer\n",
    "from tensorflow.keras.preprocessing.sequence import pad_sequences\n",
    "\n",
    "\n",
    "import pydot\n",
    "import graphviz"
   ]
  },
  {
   "cell_type": "markdown",
   "id": "3df8d0bf-6619-4e5a-bddb-c440e7a2bbe7",
   "metadata": {},
   "source": [
    "#### Load data"
   ]
  },
  {
   "cell_type": "code",
   "execution_count": 2,
   "id": "27b90c33-3c33-4bfe-ae09-6b82aa9b1113",
   "metadata": {
    "tags": []
   },
   "outputs": [],
   "source": [
    "# Path to data\n",
    "train_data_path = \"data/train.json\"\n",
    "test_data_path = \"data/test.json\""
   ]
  },
  {
   "cell_type": "code",
   "execution_count": 3,
   "id": "15e4b04c-8779-4d27-97b0-1e0bc3af0d45",
   "metadata": {},
   "outputs": [],
   "source": [
    "# Create dataframe\n",
    "train_df = pd.read_json(train_data_path)\n",
    "test_df = pd.read_json(test_data_path)"
   ]
  },
  {
   "cell_type": "code",
   "execution_count": 4,
   "id": "279ce0a9-074e-46c8-8317-d9f137bff7f9",
   "metadata": {},
   "outputs": [
    {
     "data": {
      "text/html": [
       "<div>\n",
       "<style scoped>\n",
       "    .dataframe tbody tr th:only-of-type {\n",
       "        vertical-align: middle;\n",
       "    }\n",
       "\n",
       "    .dataframe tbody tr th {\n",
       "        vertical-align: top;\n",
       "    }\n",
       "\n",
       "    .dataframe thead th {\n",
       "        text-align: right;\n",
       "    }\n",
       "</style>\n",
       "<table border=\"1\" class=\"dataframe\">\n",
       "  <thead>\n",
       "    <tr style=\"text-align: right;\">\n",
       "      <th></th>\n",
       "      <th>id</th>\n",
       "      <th>cuisine</th>\n",
       "      <th>ingredients</th>\n",
       "    </tr>\n",
       "  </thead>\n",
       "  <tbody>\n",
       "    <tr>\n",
       "      <th>0</th>\n",
       "      <td>10259</td>\n",
       "      <td>greek</td>\n",
       "      <td>[romaine lettuce, black olives, grape tomatoes...</td>\n",
       "    </tr>\n",
       "    <tr>\n",
       "      <th>1</th>\n",
       "      <td>25693</td>\n",
       "      <td>southern_us</td>\n",
       "      <td>[plain flour, ground pepper, salt, tomatoes, g...</td>\n",
       "    </tr>\n",
       "    <tr>\n",
       "      <th>2</th>\n",
       "      <td>20130</td>\n",
       "      <td>filipino</td>\n",
       "      <td>[eggs, pepper, salt, mayonaise, cooking oil, g...</td>\n",
       "    </tr>\n",
       "    <tr>\n",
       "      <th>3</th>\n",
       "      <td>22213</td>\n",
       "      <td>indian</td>\n",
       "      <td>[water, vegetable oil, wheat, salt]</td>\n",
       "    </tr>\n",
       "    <tr>\n",
       "      <th>4</th>\n",
       "      <td>13162</td>\n",
       "      <td>indian</td>\n",
       "      <td>[black pepper, shallots, cornflour, cayenne pe...</td>\n",
       "    </tr>\n",
       "  </tbody>\n",
       "</table>\n",
       "</div>"
      ],
      "text/plain": [
       "      id      cuisine                                        ingredients\n",
       "0  10259        greek  [romaine lettuce, black olives, grape tomatoes...\n",
       "1  25693  southern_us  [plain flour, ground pepper, salt, tomatoes, g...\n",
       "2  20130     filipino  [eggs, pepper, salt, mayonaise, cooking oil, g...\n",
       "3  22213       indian                [water, vegetable oil, wheat, salt]\n",
       "4  13162       indian  [black pepper, shallots, cornflour, cayenne pe..."
      ]
     },
     "execution_count": 4,
     "metadata": {},
     "output_type": "execute_result"
    }
   ],
   "source": [
    "train_df.head()"
   ]
  },
  {
   "cell_type": "code",
   "execution_count": 5,
   "id": "d5258cb0-1c35-49b9-ac75-49fcba663964",
   "metadata": {},
   "outputs": [
    {
     "data": {
      "text/html": [
       "<div>\n",
       "<style scoped>\n",
       "    .dataframe tbody tr th:only-of-type {\n",
       "        vertical-align: middle;\n",
       "    }\n",
       "\n",
       "    .dataframe tbody tr th {\n",
       "        vertical-align: top;\n",
       "    }\n",
       "\n",
       "    .dataframe thead th {\n",
       "        text-align: right;\n",
       "    }\n",
       "</style>\n",
       "<table border=\"1\" class=\"dataframe\">\n",
       "  <thead>\n",
       "    <tr style=\"text-align: right;\">\n",
       "      <th></th>\n",
       "      <th>id</th>\n",
       "      <th>ingredients</th>\n",
       "    </tr>\n",
       "  </thead>\n",
       "  <tbody>\n",
       "    <tr>\n",
       "      <th>0</th>\n",
       "      <td>18009</td>\n",
       "      <td>[baking powder, eggs, all-purpose flour, raisi...</td>\n",
       "    </tr>\n",
       "    <tr>\n",
       "      <th>1</th>\n",
       "      <td>28583</td>\n",
       "      <td>[sugar, egg yolks, corn starch, cream of tarta...</td>\n",
       "    </tr>\n",
       "    <tr>\n",
       "      <th>2</th>\n",
       "      <td>41580</td>\n",
       "      <td>[sausage links, fennel bulb, fronds, olive oil...</td>\n",
       "    </tr>\n",
       "    <tr>\n",
       "      <th>3</th>\n",
       "      <td>29752</td>\n",
       "      <td>[meat cuts, file powder, smoked sausage, okra,...</td>\n",
       "    </tr>\n",
       "    <tr>\n",
       "      <th>4</th>\n",
       "      <td>35687</td>\n",
       "      <td>[ground black pepper, salt, sausage casings, l...</td>\n",
       "    </tr>\n",
       "  </tbody>\n",
       "</table>\n",
       "</div>"
      ],
      "text/plain": [
       "      id                                        ingredients\n",
       "0  18009  [baking powder, eggs, all-purpose flour, raisi...\n",
       "1  28583  [sugar, egg yolks, corn starch, cream of tarta...\n",
       "2  41580  [sausage links, fennel bulb, fronds, olive oil...\n",
       "3  29752  [meat cuts, file powder, smoked sausage, okra,...\n",
       "4  35687  [ground black pepper, salt, sausage casings, l..."
      ]
     },
     "execution_count": 5,
     "metadata": {},
     "output_type": "execute_result"
    }
   ],
   "source": [
    "test_df.head()"
   ]
  },
  {
   "cell_type": "code",
   "execution_count": 6,
   "id": "72a16a80-de1b-488d-bbb6-3711ddc5cba7",
   "metadata": {},
   "outputs": [
    {
     "name": "stdout",
     "output_type": "stream",
     "text": [
      "Total training samples: 39774, traing shape: (39774, 3)\n",
      "Total test samples: 9944, test shape: (9944, 2)\n",
      "Total samples: 49718\n"
     ]
    }
   ],
   "source": [
    "print(f\"Total training samples: {len(train_df)}, traing shape: {train_df.shape}\")\n",
    "print(f\"Total test samples: {len(test_df)}, test shape: {test_df.shape}\")\n",
    "print(f\"Total samples: {len(train_df) + len(test_df)}\")"
   ]
  },
  {
   "cell_type": "code",
   "execution_count": 7,
   "id": "dc814b73-79e0-4a7f-ac6e-b4a97d33b0fe",
   "metadata": {},
   "outputs": [
    {
     "data": {
      "text/plain": [
       "id             0\n",
       "cuisine        0\n",
       "ingredients    0\n",
       "dtype: int64"
      ]
     },
     "execution_count": 7,
     "metadata": {},
     "output_type": "execute_result"
    }
   ],
   "source": [
    "train_df.isnull().sum()"
   ]
  },
  {
   "cell_type": "markdown",
   "id": "2d823555-5f4b-4da9-a9f3-6cac9194508f",
   "metadata": {
    "tags": []
   },
   "source": [
    "## EXPLORATORY DATA ANALISIS"
   ]
  },
  {
   "cell_type": "code",
   "execution_count": 8,
   "id": "8b4e30b5-552f-468c-98a1-2f17b4e70f84",
   "metadata": {},
   "outputs": [
    {
     "data": {
      "image/png": "[encoded data removed]",
      "text/plain": [
       "<Figure size 1152x360 with 1 Axes>"
      ]
     },
     "metadata": {
      "needs_background": "light"
     },
     "output_type": "display_data"
    }
   ],
   "source": [
    "plt.figure(figsize=(16,5))\n",
    "plt.xticks(rotation=90)\n",
    "ax= sns.countplot(x='cuisine', data= train_df, order = train_df['cuisine'].value_counts().index)"
   ]
  },
  {
   "cell_type": "code",
   "execution_count": 9,
   "id": "3bc36ede-bd4f-4bc7-9234-dbbeecc3d560",
   "metadata": {},
   "outputs": [
    {
     "name": "stdout",
     "output_type": "stream",
     "text": [
      "Cuisines count:  20\n"
     ]
    }
   ],
   "source": [
    "print('Cuisines count: ',len(train_df['cuisine'].unique()))\n",
    "\n",
    "num_cuisines = len(train_df['cuisine'].unique())"
   ]
  },
  {
   "cell_type": "markdown",
   "id": "607e1dfd-24e6-44fc-b65a-4e381febad8f",
   "metadata": {},
   "source": [
    "### Maximum and minimum number of ingredients in recipes"
   ]
  },
  {
   "cell_type": "code",
   "execution_count": 10,
   "id": "22987e39-dccb-4d82-84cb-1edd9cc51653",
   "metadata": {},
   "outputs": [
    {
     "name": "stdout",
     "output_type": "stream",
     "text": [
      "Maximum Number of Ingredients in a recipe:  65\n",
      "Minimum Number of Ingredients in a recipe:  1\n"
     ]
    }
   ],
   "source": [
    "print('Maximum Number of Ingredients in a recipe: ',train_df['ingredients'].str.len().max())\n",
    "print('Minimum Number of Ingredients in a recipe: ',train_df['ingredients'].str.len().min())"
   ]
  },
  {
   "cell_type": "markdown",
   "id": "f279a249-44fb-4d0b-a38e-6e7bb808d7c6",
   "metadata": {},
   "source": [
    "#### Create a feature that stores number of ingredients"
   ]
  },
  {
   "cell_type": "code",
   "execution_count": 11,
   "id": "defb3695-805a-4fea-962b-382b66514037",
   "metadata": {},
   "outputs": [
    {
     "data": {
      "text/plain": [
       "0         9\n",
       "1        11\n",
       "2        12\n",
       "3         4\n",
       "4        20\n",
       "         ..\n",
       "39769    12\n",
       "39770     7\n",
       "39771    12\n",
       "39772    21\n",
       "39773    12\n",
       "Name: ing_count, Length: 39774, dtype: int64"
      ]
     },
     "execution_count": 11,
     "metadata": {},
     "output_type": "execute_result"
    }
   ],
   "source": [
    "#No of Ingredients\n",
    "train_df['ing_count'] = train_df['ingredients'].str.len()\n",
    "train_df['ing_count']"
   ]
  },
  {
   "cell_type": "code",
   "execution_count": 12,
   "id": "ab433d64-c2cc-4b03-942c-b611dcb16d14",
   "metadata": {},
   "outputs": [
    {
     "data": {
      "image/png": "[encoded data removed]",
      "text/plain": [
       "<Figure size 720x432 with 1 Axes>"
      ]
     },
     "metadata": {
      "needs_background": "light"
     },
     "output_type": "display_data"
    }
   ],
   "source": [
    "#Distribution of number of ingredients\n",
    "plt.figure(figsize=(10,6))\n",
    "sns.kdeplot(data=train_df[\"ing_count\"], shade=True)\n",
    "plt.title('kde plot of ingredient count',fontweight=\"bold\")\n",
    "plt.show()"
   ]
  },
  {
   "cell_type": "code",
   "execution_count": 13,
   "id": "eef3545f-acd0-4528-9154-c74dd2ac8d8f",
   "metadata": {},
   "outputs": [
    {
     "data": {
      "text/plain": [
       "<AxesSubplot:xlabel='ing_count', ylabel='count'>"
      ]
     },
     "execution_count": 13,
     "metadata": {},
     "output_type": "execute_result"
    },
    {
     "data": {
      "image/png": "[encoded data removed]",
      "text/plain": [
       "<Figure size 1152x432 with 1 Axes>"
      ]
     },
     "metadata": {
      "needs_background": "light"
     },
     "output_type": "display_data"
    }
   ],
   "source": [
    "plt.figure(figsize=(16,6))\n",
    "sns.countplot(x='ing_count', data= train_df)"
   ]
  },
  {
   "cell_type": "code",
   "execution_count": 14,
   "id": "92c25a3d-f1d6-4bae-bc25-d4db922a6ff8",
   "metadata": {},
   "outputs": [
    {
     "data": {
      "text/html": [
       "<div>\n",
       "<style scoped>\n",
       "    .dataframe tbody tr th:only-of-type {\n",
       "        vertical-align: middle;\n",
       "    }\n",
       "\n",
       "    .dataframe tbody tr th {\n",
       "        vertical-align: top;\n",
       "    }\n",
       "\n",
       "    .dataframe thead th {\n",
       "        text-align: right;\n",
       "    }\n",
       "</style>\n",
       "<table border=\"1\" class=\"dataframe\">\n",
       "  <thead>\n",
       "    <tr style=\"text-align: right;\">\n",
       "      <th></th>\n",
       "      <th>id</th>\n",
       "      <th>cuisine</th>\n",
       "      <th>ingredients</th>\n",
       "      <th>ing_count</th>\n",
       "    </tr>\n",
       "  </thead>\n",
       "  <tbody>\n",
       "    <tr>\n",
       "      <th>345</th>\n",
       "      <td>45039</td>\n",
       "      <td>thai</td>\n",
       "      <td>[fish sauce, hot red pepper flakes, cider vine...</td>\n",
       "      <td>40</td>\n",
       "    </tr>\n",
       "    <tr>\n",
       "      <th>3359</th>\n",
       "      <td>21624</td>\n",
       "      <td>indian</td>\n",
       "      <td>[red chili peppers, fresh coriander, fresh gin...</td>\n",
       "      <td>40</td>\n",
       "    </tr>\n",
       "    <tr>\n",
       "      <th>6449</th>\n",
       "      <td>6548</td>\n",
       "      <td>southern_us</td>\n",
       "      <td>[canned black beans, seasoned bread crumbs, pr...</td>\n",
       "      <td>40</td>\n",
       "    </tr>\n",
       "    <tr>\n",
       "      <th>10513</th>\n",
       "      <td>49282</td>\n",
       "      <td>mexican</td>\n",
       "      <td>[condensed cream of chicken soup, pepper, refr...</td>\n",
       "      <td>49</td>\n",
       "    </tr>\n",
       "    <tr>\n",
       "      <th>15289</th>\n",
       "      <td>3885</td>\n",
       "      <td>italian</td>\n",
       "      <td>[fettucine, fresh marjoram, minced garlic, oli...</td>\n",
       "      <td>65</td>\n",
       "    </tr>\n",
       "    <tr>\n",
       "      <th>22906</th>\n",
       "      <td>2253</td>\n",
       "      <td>indian</td>\n",
       "      <td>[white vinegar, sparkling lemonade, coconut su...</td>\n",
       "      <td>49</td>\n",
       "    </tr>\n",
       "    <tr>\n",
       "      <th>26103</th>\n",
       "      <td>13049</td>\n",
       "      <td>mexican</td>\n",
       "      <td>[vanilla ice cream, lime, garlic powder, zucch...</td>\n",
       "      <td>52</td>\n",
       "    </tr>\n",
       "    <tr>\n",
       "      <th>30350</th>\n",
       "      <td>13430</td>\n",
       "      <td>brazilian</td>\n",
       "      <td>[marshmallows, fresh corn, cheddar cheese, shr...</td>\n",
       "      <td>59</td>\n",
       "    </tr>\n",
       "    <tr>\n",
       "      <th>31250</th>\n",
       "      <td>29216</td>\n",
       "      <td>italian</td>\n",
       "      <td>[eggs, warm water, pepper, dried basil, unsalt...</td>\n",
       "      <td>43</td>\n",
       "    </tr>\n",
       "  </tbody>\n",
       "</table>\n",
       "</div>"
      ],
      "text/plain": [
       "          id      cuisine                                        ingredients  \\\n",
       "345    45039         thai  [fish sauce, hot red pepper flakes, cider vine...   \n",
       "3359   21624       indian  [red chili peppers, fresh coriander, fresh gin...   \n",
       "6449    6548  southern_us  [canned black beans, seasoned bread crumbs, pr...   \n",
       "10513  49282      mexican  [condensed cream of chicken soup, pepper, refr...   \n",
       "15289   3885      italian  [fettucine, fresh marjoram, minced garlic, oli...   \n",
       "22906   2253       indian  [white vinegar, sparkling lemonade, coconut su...   \n",
       "26103  13049      mexican  [vanilla ice cream, lime, garlic powder, zucch...   \n",
       "30350  13430    brazilian  [marshmallows, fresh corn, cheddar cheese, shr...   \n",
       "31250  29216      italian  [eggs, warm water, pepper, dried basil, unsalt...   \n",
       "\n",
       "       ing_count  \n",
       "345           40  \n",
       "3359          40  \n",
       "6449          40  \n",
       "10513         49  \n",
       "15289         65  \n",
       "22906         49  \n",
       "26103         52  \n",
       "30350         59  \n",
       "31250         43  "
      ]
     },
     "execution_count": 14,
     "metadata": {},
     "output_type": "execute_result"
    }
   ],
   "source": [
    "# Recipes with lots of ingredients\n",
    "train_df[train_df['ing_count'] >= 40]"
   ]
  },
  {
   "cell_type": "code",
   "execution_count": 15,
   "id": "b5e7d5fa-6b29-489e-bcdb-ba076d5632d3",
   "metadata": {},
   "outputs": [
    {
     "data": {
      "text/html": [
       "<div>\n",
       "<style scoped>\n",
       "    .dataframe tbody tr th:only-of-type {\n",
       "        vertical-align: middle;\n",
       "    }\n",
       "\n",
       "    .dataframe tbody tr th {\n",
       "        vertical-align: top;\n",
       "    }\n",
       "\n",
       "    .dataframe thead th {\n",
       "        text-align: right;\n",
       "    }\n",
       "</style>\n",
       "<table border=\"1\" class=\"dataframe\">\n",
       "  <thead>\n",
       "    <tr style=\"text-align: right;\">\n",
       "      <th></th>\n",
       "      <th>id</th>\n",
       "      <th>cuisine</th>\n",
       "      <th>ingredients</th>\n",
       "      <th>ing_count</th>\n",
       "    </tr>\n",
       "  </thead>\n",
       "  <tbody>\n",
       "    <tr>\n",
       "      <th>940</th>\n",
       "      <td>4734</td>\n",
       "      <td>japanese</td>\n",
       "      <td>[sushi rice]</td>\n",
       "      <td>1</td>\n",
       "    </tr>\n",
       "    <tr>\n",
       "      <th>2088</th>\n",
       "      <td>7833</td>\n",
       "      <td>vietnamese</td>\n",
       "      <td>[dried rice noodles]</td>\n",
       "      <td>1</td>\n",
       "    </tr>\n",
       "    <tr>\n",
       "      <th>6787</th>\n",
       "      <td>36818</td>\n",
       "      <td>indian</td>\n",
       "      <td>[plain low-fat yogurt]</td>\n",
       "      <td>1</td>\n",
       "    </tr>\n",
       "    <tr>\n",
       "      <th>7011</th>\n",
       "      <td>19772</td>\n",
       "      <td>indian</td>\n",
       "      <td>[unsalted butter]</td>\n",
       "      <td>1</td>\n",
       "    </tr>\n",
       "    <tr>\n",
       "      <th>8181</th>\n",
       "      <td>16116</td>\n",
       "      <td>japanese</td>\n",
       "      <td>[udon]</td>\n",
       "      <td>1</td>\n",
       "    </tr>\n",
       "    <tr>\n",
       "      <th>8852</th>\n",
       "      <td>29738</td>\n",
       "      <td>thai</td>\n",
       "      <td>[sticky rice]</td>\n",
       "      <td>1</td>\n",
       "    </tr>\n",
       "    <tr>\n",
       "      <th>8990</th>\n",
       "      <td>41124</td>\n",
       "      <td>indian</td>\n",
       "      <td>[butter]</td>\n",
       "      <td>1</td>\n",
       "    </tr>\n",
       "    <tr>\n",
       "      <th>10506</th>\n",
       "      <td>32631</td>\n",
       "      <td>mexican</td>\n",
       "      <td>[corn tortillas]</td>\n",
       "      <td>1</td>\n",
       "    </tr>\n",
       "    <tr>\n",
       "      <th>13178</th>\n",
       "      <td>29570</td>\n",
       "      <td>thai</td>\n",
       "      <td>[grained]</td>\n",
       "      <td>1</td>\n",
       "    </tr>\n",
       "    <tr>\n",
       "      <th>17804</th>\n",
       "      <td>29849</td>\n",
       "      <td>southern_us</td>\n",
       "      <td>[lemonade concentrate]</td>\n",
       "      <td>1</td>\n",
       "    </tr>\n",
       "    <tr>\n",
       "      <th>18136</th>\n",
       "      <td>39186</td>\n",
       "      <td>thai</td>\n",
       "      <td>[jasmine rice]</td>\n",
       "      <td>1</td>\n",
       "    </tr>\n",
       "    <tr>\n",
       "      <th>18324</th>\n",
       "      <td>14335</td>\n",
       "      <td>indian</td>\n",
       "      <td>[unsalted butter]</td>\n",
       "      <td>1</td>\n",
       "    </tr>\n",
       "    <tr>\n",
       "      <th>21008</th>\n",
       "      <td>39221</td>\n",
       "      <td>italian</td>\n",
       "      <td>[cherry tomatoes]</td>\n",
       "      <td>1</td>\n",
       "    </tr>\n",
       "    <tr>\n",
       "      <th>22119</th>\n",
       "      <td>41135</td>\n",
       "      <td>french</td>\n",
       "      <td>[butter]</td>\n",
       "      <td>1</td>\n",
       "    </tr>\n",
       "    <tr>\n",
       "      <th>22387</th>\n",
       "      <td>36874</td>\n",
       "      <td>indian</td>\n",
       "      <td>[cumin seed]</td>\n",
       "      <td>1</td>\n",
       "    </tr>\n",
       "    <tr>\n",
       "      <th>23512</th>\n",
       "      <td>35028</td>\n",
       "      <td>french</td>\n",
       "      <td>[haricots verts]</td>\n",
       "      <td>1</td>\n",
       "    </tr>\n",
       "    <tr>\n",
       "      <th>26887</th>\n",
       "      <td>18593</td>\n",
       "      <td>mexican</td>\n",
       "      <td>[vegetable oil]</td>\n",
       "      <td>1</td>\n",
       "    </tr>\n",
       "    <tr>\n",
       "      <th>29294</th>\n",
       "      <td>7460</td>\n",
       "      <td>spanish</td>\n",
       "      <td>[spanish chorizo]</td>\n",
       "      <td>1</td>\n",
       "    </tr>\n",
       "    <tr>\n",
       "      <th>30636</th>\n",
       "      <td>32772</td>\n",
       "      <td>spanish</td>\n",
       "      <td>[sweetened condensed milk]</td>\n",
       "      <td>1</td>\n",
       "    </tr>\n",
       "    <tr>\n",
       "      <th>32105</th>\n",
       "      <td>12805</td>\n",
       "      <td>japanese</td>\n",
       "      <td>[water]</td>\n",
       "      <td>1</td>\n",
       "    </tr>\n",
       "    <tr>\n",
       "      <th>34531</th>\n",
       "      <td>10816</td>\n",
       "      <td>greek</td>\n",
       "      <td>[phyllo]</td>\n",
       "      <td>1</td>\n",
       "    </tr>\n",
       "    <tr>\n",
       "      <th>37220</th>\n",
       "      <td>27192</td>\n",
       "      <td>indian</td>\n",
       "      <td>[unsalted butter]</td>\n",
       "      <td>1</td>\n",
       "    </tr>\n",
       "  </tbody>\n",
       "</table>\n",
       "</div>"
      ],
      "text/plain": [
       "          id      cuisine                 ingredients  ing_count\n",
       "940     4734     japanese                [sushi rice]          1\n",
       "2088    7833   vietnamese        [dried rice noodles]          1\n",
       "6787   36818       indian      [plain low-fat yogurt]          1\n",
       "7011   19772       indian           [unsalted butter]          1\n",
       "8181   16116     japanese                      [udon]          1\n",
       "8852   29738         thai               [sticky rice]          1\n",
       "8990   41124       indian                    [butter]          1\n",
       "10506  32631      mexican            [corn tortillas]          1\n",
       "13178  29570         thai                   [grained]          1\n",
       "17804  29849  southern_us      [lemonade concentrate]          1\n",
       "18136  39186         thai              [jasmine rice]          1\n",
       "18324  14335       indian           [unsalted butter]          1\n",
       "21008  39221      italian           [cherry tomatoes]          1\n",
       "22119  41135       french                    [butter]          1\n",
       "22387  36874       indian                [cumin seed]          1\n",
       "23512  35028       french            [haricots verts]          1\n",
       "26887  18593      mexican             [vegetable oil]          1\n",
       "29294   7460      spanish           [spanish chorizo]          1\n",
       "30636  32772      spanish  [sweetened condensed milk]          1\n",
       "32105  12805     japanese                     [water]          1\n",
       "34531  10816        greek                    [phyllo]          1\n",
       "37220  27192       indian           [unsalted butter]          1"
      ]
     },
     "execution_count": 15,
     "metadata": {},
     "output_type": "execute_result"
    }
   ],
   "source": [
    "# One Ingredient Recipes\n",
    "train_df[train_df['ing_count'] <= 1]"
   ]
  },
  {
   "cell_type": "markdown",
   "id": "dbce1c49-d1d3-416d-9568-f42d672f4d7b",
   "metadata": {},
   "source": [
    "### Most common ingredient"
   ]
  },
  {
   "cell_type": "code",
   "execution_count": 16,
   "id": "cfd4d6e0-c3ae-4005-b08b-0f52f8e9f438",
   "metadata": {},
   "outputs": [],
   "source": [
    "# Taking Out all the ingredients in the dataset and storing in a list\n",
    "ingredients_list = [ing for ingredients in train_df['ingredients'] for ing in ingredients]"
   ]
  },
  {
   "cell_type": "code",
   "execution_count": 17,
   "id": "391e3320-119f-41da-9eb2-ff870f1086b2",
   "metadata": {},
   "outputs": [
    {
     "data": {
      "image/png": "[encoded data removed]",
      "text/plain": [
       "<Figure size 1080x360 with 1 Axes>"
      ]
     },
     "metadata": {
      "needs_background": "light"
     },
     "output_type": "display_data"
    }
   ],
   "source": [
    "ingredients_count = pd.Series(dict(Counter(','.join(ingredients_list).split(',')))).sort_values(ascending=False)\n",
    "top20ingredients = ingredients_count.head(20)\n",
    "\n",
    "plt.figure(figsize=(15,5))\n",
    "sns.barplot(x= top20ingredients.index, y=top20ingredients)\n",
    "plt.xticks(rotation=90)\n",
    "plt.title('20 common ingredients', fontsize=15, fontweight='bold')\n",
    "plt.xlabel('ingredients')\n",
    "plt.show()"
   ]
  },
  {
   "cell_type": "markdown",
   "id": "9675d591-7c35-479e-84c4-f92d13e35808",
   "metadata": {},
   "source": [
    "## DATA PREPROCESSING"
   ]
  },
  {
   "cell_type": "code",
   "execution_count": 18,
   "id": "cdafa80a-c428-4480-bb11-6b2b89cdd03f",
   "metadata": {},
   "outputs": [],
   "source": [
    "# Remove outliers\n",
    "train_df = train_df[train_df['ing_count'] > 1]\n",
    "train_df = train_df[train_df['ing_count']<60]"
   ]
  },
  {
   "cell_type": "code",
   "execution_count": 19,
   "id": "266bd224-502a-4788-b86c-16dd0f8ff932",
   "metadata": {},
   "outputs": [],
   "source": [
    "# Basic cleaning\n",
    "lemmatizer = WordNetLemmatizer()\n",
    "def preprocess(ingredients):\n",
    "    ingredients = ' '.join(ingredients)\n",
    "    ingredients = ingredients.lower() #Convert to lowercase\n",
    "    ingredients = re.sub('[,\\.!?:()\"]', '',ingredients) # remove punctuation marks \n",
    "    ingredients = re.sub('[^a-zA-Z\"]',' ',ingredients) # remove all strings that contain a non-letter\n",
    "    ingredients = ingredients.replace('-', ' ')\n",
    "    words = []\n",
    "    for word in ingredients.split():\n",
    "        word = re.sub(\"[0-9]\",\" \",word) #removing numbers\n",
    "        word = re.sub((r'\\b(oz|ounc|ounce|pound|lb|inch|inches|kg|to)\\b'), ' ', word) # Removing Units\n",
    "        if len(word) <= 2: continue\n",
    "        word = unidecode.unidecode(word)\n",
    "        word = lemmatizer.lemmatize(word)\n",
    "        if len(word) > 0: words.append(word)\n",
    "    return ' '.join(words)"
   ]
  },
  {
   "cell_type": "code",
   "execution_count": 20,
   "id": "cd5e2bc6-11c6-4157-b754-4bdad7e10d30",
   "metadata": {},
   "outputs": [
    {
     "name": "stderr",
     "output_type": "stream",
     "text": [
      "100%|██████████| 39751/39751 [00:05<00:00, 7911.22it/s] \n",
      "100%|██████████| 9944/9944 [00:01<00:00, 9777.51it/s] \n"
     ]
    },
    {
     "data": {
      "text/html": [
       "<div>\n",
       "<style scoped>\n",
       "    .dataframe tbody tr th:only-of-type {\n",
       "        vertical-align: middle;\n",
       "    }\n",
       "\n",
       "    .dataframe tbody tr th {\n",
       "        vertical-align: top;\n",
       "    }\n",
       "\n",
       "    .dataframe thead th {\n",
       "        text-align: right;\n",
       "    }\n",
       "</style>\n",
       "<table border=\"1\" class=\"dataframe\">\n",
       "  <thead>\n",
       "    <tr style=\"text-align: right;\">\n",
       "      <th></th>\n",
       "      <th>id</th>\n",
       "      <th>cuisine</th>\n",
       "      <th>ingredients</th>\n",
       "      <th>ing_count</th>\n",
       "      <th>x</th>\n",
       "    </tr>\n",
       "  </thead>\n",
       "  <tbody>\n",
       "    <tr>\n",
       "      <th>0</th>\n",
       "      <td>10259</td>\n",
       "      <td>greek</td>\n",
       "      <td>[romaine lettuce, black olives, grape tomatoes...</td>\n",
       "      <td>9</td>\n",
       "      <td>romaine lettuce black olive grape tomato garli...</td>\n",
       "    </tr>\n",
       "    <tr>\n",
       "      <th>1</th>\n",
       "      <td>25693</td>\n",
       "      <td>southern_us</td>\n",
       "      <td>[plain flour, ground pepper, salt, tomatoes, g...</td>\n",
       "      <td>11</td>\n",
       "      <td>plain flour ground pepper salt tomato ground b...</td>\n",
       "    </tr>\n",
       "    <tr>\n",
       "      <th>2</th>\n",
       "      <td>20130</td>\n",
       "      <td>filipino</td>\n",
       "      <td>[eggs, pepper, salt, mayonaise, cooking oil, g...</td>\n",
       "      <td>12</td>\n",
       "      <td>egg pepper salt mayonaise cooking oil green ch...</td>\n",
       "    </tr>\n",
       "    <tr>\n",
       "      <th>3</th>\n",
       "      <td>22213</td>\n",
       "      <td>indian</td>\n",
       "      <td>[water, vegetable oil, wheat, salt]</td>\n",
       "      <td>4</td>\n",
       "      <td>water vegetable oil wheat salt</td>\n",
       "    </tr>\n",
       "    <tr>\n",
       "      <th>4</th>\n",
       "      <td>13162</td>\n",
       "      <td>indian</td>\n",
       "      <td>[black pepper, shallots, cornflour, cayenne pe...</td>\n",
       "      <td>20</td>\n",
       "      <td>black pepper shallot cornflour cayenne pepper ...</td>\n",
       "    </tr>\n",
       "  </tbody>\n",
       "</table>\n",
       "</div>"
      ],
      "text/plain": [
       "      id      cuisine                                        ingredients  \\\n",
       "0  10259        greek  [romaine lettuce, black olives, grape tomatoes...   \n",
       "1  25693  southern_us  [plain flour, ground pepper, salt, tomatoes, g...   \n",
       "2  20130     filipino  [eggs, pepper, salt, mayonaise, cooking oil, g...   \n",
       "3  22213       indian                [water, vegetable oil, wheat, salt]   \n",
       "4  13162       indian  [black pepper, shallots, cornflour, cayenne pe...   \n",
       "\n",
       "   ing_count                                                  x  \n",
       "0          9  romaine lettuce black olive grape tomato garli...  \n",
       "1         11  plain flour ground pepper salt tomato ground b...  \n",
       "2         12  egg pepper salt mayonaise cooking oil green ch...  \n",
       "3          4                     water vegetable oil wheat salt  \n",
       "4         20  black pepper shallot cornflour cayenne pepper ...  "
      ]
     },
     "execution_count": 20,
     "metadata": {},
     "output_type": "execute_result"
    }
   ],
   "source": [
    "train_df['x'] = train_df['ingredients'].progress_apply(preprocess)\n",
    "test_df['x'] = test_df['ingredients'].progress_apply(preprocess)\n",
    "train_df.head()"
   ]
  },
  {
   "cell_type": "markdown",
   "id": "62b7fc4f-17e7-4812-abc3-e657edb8c84f",
   "metadata": {},
   "source": [
    "### EVALUATION AND VISUALIZATION OF MODEL PARAMETERS"
   ]
  },
  {
   "cell_type": "code",
   "execution_count": 21,
   "id": "9d81ea95-77cb-4707-adcc-ede316f6ff61",
   "metadata": {},
   "outputs": [],
   "source": [
    "def learning_curves(history):\n",
    "    pd.DataFrame(history.history).plot(figsize=(20, 8))\n",
    "    plt.grid(True)\n",
    "    plt.title('Learning curves')\n",
    "    plt.gca().set_ylim(0, 1)\n",
    "    plt.show()\n",
    "\n",
    "\n",
    "def evaluation_model(history):\n",
    "    fig, (axL, axR) = plt.subplots(ncols=2, figsize=(20, 8))\n",
    "    axL.plot(history.history['loss'], label=\"Training loss\")\n",
    "    axL.plot(history.history['val_loss'], label=\"Validation loss\")\n",
    "    axL.set_title('Training and Validation loss')\n",
    "    axL.set_xlabel('Epochs')\n",
    "    axL.set_ylabel('Loss')\n",
    "    axL.legend(loc='upper right')\n",
    "\n",
    "    axR.plot(history.history['accuracy'], label=\"Training accuracy\")\n",
    "    axR.plot(history.history['val_accuracy'], label=\"Validation accuracy\")\n",
    "    axR.set_title('Training and Validation accuracy')\n",
    "    axR.set_xlabel('Epoch')\n",
    "    axR.set_ylabel('Accuracy')\n",
    "    axR.legend(loc='upper right')\n",
    "\n",
    "    plt.show()\n",
    "\n",
    "\n",
    "def calculate_results(y_true, y_pred):\n",
    "    model_accuracy = accuracy_score(y_true, y_pred) * 100\n",
    "    model_precision, model_recall, model_f1, _ = precision_recall_fscore_support(y_true, y_pred, average=\"weighted\",\n",
    "                                                                                 labels=np.unique(y_pred))\n",
    "    model_results = {\"accuracy\": model_accuracy,\n",
    "                     \"precision\": model_precision,\n",
    "                     \"recall\": model_recall,\n",
    "                     \"f1\": model_f1}\n",
    "    return model_results"
   ]
  },
  {
   "cell_type": "markdown",
   "id": "6e2bfcf8-cdd8-488d-9d58-5a874f5e26fe",
   "metadata": {},
   "source": [
    "## MODELING"
   ]
  },
  {
   "cell_type": "markdown",
   "id": "8fb7574b-b869-43a8-997e-cc7c1f740cd7",
   "metadata": {
    "tags": []
   },
   "source": [
    "### MULTINOMIAL NAIVE BAYES CLASSIFIER LIKE BASELINE MODEL"
   ]
  },
  {
   "cell_type": "code",
   "execution_count": 22,
   "id": "3382b66e-622d-4d32-bb89-04dba7b63196",
   "metadata": {},
   "outputs": [
    {
     "name": "stderr",
     "output_type": "stream",
     "text": [
      "/home/ruslan/.local/lib/python3.8/site-packages/sklearn/preprocessing/_label.py:115: DataConversionWarning: A column-vector y was passed when a 1d array was expected. Please change the shape of y to (n_samples, ), for example using ravel().\n",
      "  y = column_or_1d(y, warn=True)\n"
     ]
    }
   ],
   "source": [
    "label_encoder = LabelEncoder()\n",
    "\n",
    "Y_train = label_encoder.fit_transform(train_df['cuisine'].values.reshape(-1, 1))\n",
    "\n",
    "X_train = train_df['x'].values\n",
    "X_test = test_df['x'].values"
   ]
  },
  {
   "cell_type": "code",
   "execution_count": 23,
   "id": "084eea1e-1328-43af-ab75-03753241cf90",
   "metadata": {},
   "outputs": [],
   "source": [
    "model_0 = Pipeline([\n",
    "                    (\"tfidf\", TfidfVectorizer(sublinear_tf=True)),\n",
    "                    (\"clf\", MultinomialNB())\n",
    "])"
   ]
  },
  {
   "cell_type": "code",
   "execution_count": 24,
   "id": "b6d3b2f0-ba23-484e-8703-80de93614a85",
   "metadata": {},
   "outputs": [
    {
     "data": {
      "text/plain": [
       "Pipeline(steps=[('tfidf', TfidfVectorizer(sublinear_tf=True)),\n",
       "                ('clf', MultinomialNB())])"
      ]
     },
     "execution_count": 24,
     "metadata": {},
     "output_type": "execute_result"
    }
   ],
   "source": [
    "model_0.fit(X_train, Y_train)"
   ]
  },
  {
   "cell_type": "code",
   "execution_count": 25,
   "id": "96218e84-bbb6-4159-8329-d3e023b393e0",
   "metadata": {},
   "outputs": [
    {
     "data": {
      "text/plain": [
       "array([16, 16,  9,  2,  9, 16,  5,  3, 13,  1,  9,  9,  7,  9, 16,  5, 16,\n",
       "       16, 13, 16])"
      ]
     },
     "execution_count": 25,
     "metadata": {},
     "output_type": "execute_result"
    }
   ],
   "source": [
    "# Predictions\n",
    "Y_test = model_0.predict(X_test)\n",
    "Y_test[:20]"
   ]
  },
  {
   "cell_type": "code",
   "execution_count": 26,
   "id": "50143834-ca75-4a61-8207-7e8553488393",
   "metadata": {},
   "outputs": [],
   "source": [
    "Y_pred = label_encoder.inverse_transform(Y_test)"
   ]
  },
  {
   "cell_type": "code",
   "execution_count": 27,
   "id": "02dc9ef4-fde5-4336-ad54-e2a259985c3b",
   "metadata": {},
   "outputs": [],
   "source": [
    "test_id = test_df['id']\n",
    "submission = pd.DataFrame({'id': test_id, 'cuisine': Y_pred}, columns=['id', 'cuisine'])\n",
    "submission.to_csv('submission.csv', index=False)"
   ]
  },
  {
   "cell_type": "code",
   "execution_count": 28,
   "id": "9e67e91a-4494-47b9-aebd-83d229aa2398",
   "metadata": {},
   "outputs": [
    {
     "data": {
      "text/html": [
       "<div>\n",
       "<style scoped>\n",
       "    .dataframe tbody tr th:only-of-type {\n",
       "        vertical-align: middle;\n",
       "    }\n",
       "\n",
       "    .dataframe tbody tr th {\n",
       "        vertical-align: top;\n",
       "    }\n",
       "\n",
       "    .dataframe thead th {\n",
       "        text-align: right;\n",
       "    }\n",
       "</style>\n",
       "<table border=\"1\" class=\"dataframe\">\n",
       "  <thead>\n",
       "    <tr style=\"text-align: right;\">\n",
       "      <th></th>\n",
       "      <th>id</th>\n",
       "      <th>cuisine</th>\n",
       "    </tr>\n",
       "  </thead>\n",
       "  <tbody>\n",
       "    <tr>\n",
       "      <th>0</th>\n",
       "      <td>18009</td>\n",
       "      <td>southern_us</td>\n",
       "    </tr>\n",
       "    <tr>\n",
       "      <th>1</th>\n",
       "      <td>28583</td>\n",
       "      <td>southern_us</td>\n",
       "    </tr>\n",
       "    <tr>\n",
       "      <th>2</th>\n",
       "      <td>41580</td>\n",
       "      <td>italian</td>\n",
       "    </tr>\n",
       "    <tr>\n",
       "      <th>3</th>\n",
       "      <td>29752</td>\n",
       "      <td>cajun_creole</td>\n",
       "    </tr>\n",
       "    <tr>\n",
       "      <th>4</th>\n",
       "      <td>35687</td>\n",
       "      <td>italian</td>\n",
       "    </tr>\n",
       "  </tbody>\n",
       "</table>\n",
       "</div>"
      ],
      "text/plain": [
       "      id       cuisine\n",
       "0  18009   southern_us\n",
       "1  28583   southern_us\n",
       "2  41580       italian\n",
       "3  29752  cajun_creole\n",
       "4  35687       italian"
      ]
     },
     "execution_count": 28,
     "metadata": {},
     "output_type": "execute_result"
    }
   ],
   "source": [
    "submission.head()"
   ]
  },
  {
   "cell_type": "markdown",
   "id": "02536b5c-1833-44d0-8a79-d57aeafd17b3",
   "metadata": {},
   "source": [
    "### 1D CONVOLUTIONAL NEURAL NETWORK"
   ]
  },
  {
   "cell_type": "code",
   "execution_count": 29,
   "id": "b7804e82-65c9-4a65-93e2-e3f54e2bccef",
   "metadata": {},
   "outputs": [],
   "source": [
    "max_vocab_length = 100000\n",
    "max_length = 55"
   ]
  },
  {
   "cell_type": "code",
   "execution_count": 30,
   "id": "90894674-2aa0-40da-8af6-726bb5653270",
   "metadata": {},
   "outputs": [
    {
     "name": "stderr",
     "output_type": "stream",
     "text": [
      "2021-10-26 23:22:03.628984: I tensorflow/stream_executor/cuda/cuda_gpu_executor.cc:937] successful NUMA node read from SysFS had negative value (-1), but there must be at least one NUMA node, so returning NUMA node zero\n",
      "2021-10-26 23:22:03.636989: I tensorflow/stream_executor/cuda/cuda_gpu_executor.cc:937] successful NUMA node read from SysFS had negative value (-1), but there must be at least one NUMA node, so returning NUMA node zero\n",
      "2021-10-26 23:22:03.637668: I tensorflow/stream_executor/cuda/cuda_gpu_executor.cc:937] successful NUMA node read from SysFS had negative value (-1), but there must be at least one NUMA node, so returning NUMA node zero\n",
      "2021-10-26 23:22:03.639440: I tensorflow/core/platform/cpu_feature_guard.cc:142] This TensorFlow binary is optimized with oneAPI Deep Neural Network Library (oneDNN) to use the following CPU instructions in performance-critical operations:  AVX2 FMA\n",
      "To enable them in other operations, rebuild TensorFlow with the appropriate compiler flags.\n",
      "2021-10-26 23:22:03.641141: I tensorflow/stream_executor/cuda/cuda_gpu_executor.cc:937] successful NUMA node read from SysFS had negative value (-1), but there must be at least one NUMA node, so returning NUMA node zero\n",
      "2021-10-26 23:22:03.642189: I tensorflow/stream_executor/cuda/cuda_gpu_executor.cc:937] successful NUMA node read from SysFS had negative value (-1), but there must be at least one NUMA node, so returning NUMA node zero\n",
      "2021-10-26 23:22:03.642873: I tensorflow/stream_executor/cuda/cuda_gpu_executor.cc:937] successful NUMA node read from SysFS had negative value (-1), but there must be at least one NUMA node, so returning NUMA node zero\n",
      "2021-10-26 23:22:04.148815: I tensorflow/stream_executor/cuda/cuda_gpu_executor.cc:937] successful NUMA node read from SysFS had negative value (-1), but there must be at least one NUMA node, so returning NUMA node zero\n",
      "2021-10-26 23:22:04.149169: I tensorflow/stream_executor/cuda/cuda_gpu_executor.cc:937] successful NUMA node read from SysFS had negative value (-1), but there must be at least one NUMA node, so returning NUMA node zero\n",
      "2021-10-26 23:22:04.149456: I tensorflow/stream_executor/cuda/cuda_gpu_executor.cc:937] successful NUMA node read from SysFS had negative value (-1), but there must be at least one NUMA node, so returning NUMA node zero\n",
      "2021-10-26 23:22:04.149706: I tensorflow/core/common_runtime/gpu/gpu_device.cc:1510] Created device /job:localhost/replica:0/task:0/device:GPU:0 with 4642 MB memory:  -> device: 0, name: NVIDIA GeForce RTX 2060, pci bus id: 0000:01:00.0, compute capability: 7.5\n",
      "2021-10-26 23:22:04.252832: I tensorflow/compiler/mlir/mlir_graph_optimization_pass.cc:185] None of the MLIR Optimization Passes are enabled (registered 2)\n"
     ]
    }
   ],
   "source": [
    "# TextVectorization layer\n",
    "text_vectorizer = TextVectorization(max_tokens=max_vocab_length,\n",
    "                                    output_mode=\"int\",\n",
    "                                    output_sequence_length=max_length)\n",
    "\n",
    "text_vectorizer.adapt(X_train)"
   ]
  },
  {
   "cell_type": "code",
   "execution_count": 31,
   "id": "3de3b657-491d-4bbd-a48f-6d8c0af38d1f",
   "metadata": {},
   "outputs": [],
   "source": [
    "# Embedding Layer\n",
    "embedding = Embedding(input_dim=max_vocab_length,\n",
    "                      output_dim=128,\n",
    "                      embeddings_initializer=\"uniform\",\n",
    "                      input_length=max_length,\n",
    "                      name=\"embedding_1\")"
   ]
  },
  {
   "cell_type": "code",
   "execution_count": 32,
   "id": "57eb56b6-599e-4985-8ef8-3211a2a0485c",
   "metadata": {},
   "outputs": [
    {
     "name": "stdout",
     "output_type": "stream",
     "text": [
      "Sentence before vectorization:\n",
      "ice cube instant espresso powder confectioner sugar vanilla ice cream chocolate shaving chopped nut granulated sugar water heavy cream\n",
      "\n",
      "Sentence after vectorization (before embedding):\n",
      "[[ 206  349  331  513   22  263   10   87  206   28  163 1101   24  283\n",
      "   158   10   16  127   28    0    0    0    0    0    0    0    0    0\n",
      "     0    0    0    0    0    0    0    0    0    0    0    0    0    0\n",
      "     0    0    0    0    0    0    0    0    0    0    0    0    0]]\n",
      "\n",
      "Sentence after embedding:\n",
      "[[[ 0.03784749  0.01387009  0.02811981 ... -0.04662944  0.034374\n",
      "   -0.00268518]\n",
      "  [-0.00617992  0.03623663  0.01251939 ...  0.01970917 -0.02047095\n",
      "   -0.03148045]\n",
      "  [-0.01490192  0.03903197  0.04033425 ...  0.01188514 -0.0216507\n",
      "   -0.00248488]\n",
      "  ...\n",
      "  [ 0.04435415  0.04334963 -0.03572685 ... -0.0093954  -0.04631417\n",
      "    0.04815079]\n",
      "  [ 0.04435415  0.04334963 -0.03572685 ... -0.0093954  -0.04631417\n",
      "    0.04815079]\n",
      "  [ 0.04435415  0.04334963 -0.03572685 ... -0.0093954  -0.04631417\n",
      "    0.04815079]]]\n",
      "\n",
      "Embedded sentence shape: (1, 55, 128)\n"
     ]
    }
   ],
   "source": [
    "# Example embedding\n",
    "import random\n",
    "target_sentence = random.choice(X_train)\n",
    "\n",
    "print(f\"Sentence before vectorization:\\n{target_sentence}\\n\")\n",
    "vectorized_sentence = text_vectorizer([target_sentence])\n",
    "print(f\"Sentence after vectorization (before embedding):\\n{vectorized_sentence}\\n\")\n",
    "embedded_sentence = embedding(vectorized_sentence)\n",
    "print(f\"Sentence after embedding:\\n{embedded_sentence}\\n\")\n",
    "print(f\"Embedded sentence shape: {embedded_sentence.shape}\")"
   ]
  },
  {
   "cell_type": "code",
   "execution_count": 33,
   "id": "71d8e60a-8ee3-4a51-adc0-174fc80d348e",
   "metadata": {},
   "outputs": [
    {
     "data": {
      "text/plain": [
       "array([[0., 0., 0., ..., 0., 0., 0.],\n",
       "       [0., 0., 0., ..., 0., 0., 0.],\n",
       "       [0., 0., 0., ..., 0., 0., 0.],\n",
       "       ...,\n",
       "       [0., 0., 0., ..., 0., 0., 0.],\n",
       "       [0., 0., 0., ..., 0., 0., 0.],\n",
       "       [0., 0., 0., ..., 0., 0., 0.]], dtype=float32)"
      ]
     },
     "execution_count": 33,
     "metadata": {},
     "output_type": "execute_result"
    }
   ],
   "source": [
    "Y_train = tf.keras.utils.to_categorical(Y_train, num_classes=num_cuisines)\n",
    "Y_train"
   ]
  },
  {
   "cell_type": "markdown",
   "id": "474fca37-4b6b-4b91-aeae-e1edea1895b5",
   "metadata": {},
   "source": [
    "### Create 1-dimensional convolutional network use architecture VGG-16"
   ]
  },
  {
   "cell_type": "code",
   "execution_count": 34,
   "id": "bc6b4346-e380-45db-bd42-f3dec6cd7f31",
   "metadata": {},
   "outputs": [],
   "source": [
    "inputs = Input(shape=(1,), dtype=tf.string)\n",
    "\n",
    "x = text_vectorizer(inputs)\n",
    "x = embedding(x)\n",
    "\n",
    "x = Conv1D(filters=64, kernel_size=3, padding=\"same\", activation=\"relu\")(x)\n",
    "x = Conv1D(filters=64, kernel_size=3, padding=\"same\", activation=\"relu\")(x)\n",
    "x = MaxPool1D(pool_size=2)(x)\n",
    "\n",
    "x = Conv1D(filters=128, kernel_size=3, padding=\"same\", activation=\"relu\")(x)\n",
    "x = Conv1D(filters=128, kernel_size=3, padding=\"same\", activation=\"relu\")(x)\n",
    "x = MaxPool1D(pool_size=2)(x)\n",
    "\n",
    "x = Conv1D(filters=256, kernel_size=3, padding=\"same\", activation=\"relu\")(x)\n",
    "x = Conv1D(filters=256, kernel_size=3, padding=\"same\", activation=\"relu\")(x)\n",
    "x = MaxPool1D(pool_size=2)(x)\n",
    "\n",
    "x = Conv1D(filters=512, kernel_size=3, padding=\"same\", activation=\"relu\")(x)\n",
    "x = Conv1D(filters=512, kernel_size=3, padding=\"same\", activation=\"relu\")(x)\n",
    "\n",
    "x = GlobalMaxPool1D()(x)\n",
    "\n",
    "x = Flatten()(x)\n",
    "\n",
    "x = Dense(4096, activation=\"relu\")(x)\n",
    "x = Dropout(0.5)(x)\n",
    "x = Dense(4096, activation=\"relu\")(x)\n",
    "x = Dropout(0.5)(x)\n",
    "\n",
    "outputs = Dense(num_cuisines, activation=\"softmax\")(x)\n",
    "\n",
    "model_CNN = Model(inputs, outputs, name=\"1D_CNN\")"
   ]
  },
  {
   "cell_type": "code",
   "execution_count": 35,
   "id": "efa2133d-e122-4201-86b6-7c2839bfa0a4",
   "metadata": {},
   "outputs": [],
   "source": [
    "# Compile model\n",
    "model_CNN.compile(loss=\"categorical_crossentropy\",\n",
    "                  optimizer=tf.keras.optimizers.Adam(),\n",
    "                  metrics=[\"accuracy\"])"
   ]
  },
  {
   "cell_type": "code",
   "execution_count": 36,
   "id": "d713720b-a3fe-4597-9c23-260737708c5d",
   "metadata": {},
   "outputs": [
    {
     "name": "stdout",
     "output_type": "stream",
     "text": [
      "Model: \"1D_CNN\"\n",
      "_________________________________________________________________\n",
      "Layer (type)                 Output Shape              Param #   \n",
      "=================================================================\n",
      "input_1 (InputLayer)         [(None, 1)]               0         \n",
      "_________________________________________________________________\n",
      "text_vectorization (TextVect (None, 55)                0         \n",
      "_________________________________________________________________\n",
      "embedding_1 (Embedding)      (None, 55, 128)           12800000  \n",
      "_________________________________________________________________\n",
      "conv1d (Conv1D)              (None, 55, 64)            24640     \n",
      "_________________________________________________________________\n",
      "conv1d_1 (Conv1D)            (None, 55, 64)            12352     \n",
      "_________________________________________________________________\n",
      "max_pooling1d (MaxPooling1D) (None, 27, 64)            0         \n",
      "_________________________________________________________________\n",
      "conv1d_2 (Conv1D)            (None, 27, 128)           24704     \n",
      "_________________________________________________________________\n",
      "conv1d_3 (Conv1D)            (None, 27, 128)           49280     \n",
      "_________________________________________________________________\n",
      "max_pooling1d_1 (MaxPooling1 (None, 13, 128)           0         \n",
      "_________________________________________________________________\n",
      "conv1d_4 (Conv1D)            (None, 13, 256)           98560     \n",
      "_________________________________________________________________\n",
      "conv1d_5 (Conv1D)            (None, 13, 256)           196864    \n",
      "_________________________________________________________________\n",
      "max_pooling1d_2 (MaxPooling1 (None, 6, 256)            0         \n",
      "_________________________________________________________________\n",
      "conv1d_6 (Conv1D)            (None, 6, 512)            393728    \n",
      "_________________________________________________________________\n",
      "conv1d_7 (Conv1D)            (None, 6, 512)            786944    \n",
      "_________________________________________________________________\n",
      "global_max_pooling1d (Global (None, 512)               0         \n",
      "_________________________________________________________________\n",
      "flatten (Flatten)            (None, 512)               0         \n",
      "_________________________________________________________________\n",
      "dense (Dense)                (None, 4096)              2101248   \n",
      "_________________________________________________________________\n",
      "dropout (Dropout)            (None, 4096)              0         \n",
      "_________________________________________________________________\n",
      "dense_1 (Dense)              (None, 4096)              16781312  \n",
      "_________________________________________________________________\n",
      "dropout_1 (Dropout)          (None, 4096)              0         \n",
      "_________________________________________________________________\n",
      "dense_2 (Dense)              (None, 20)                81940     \n",
      "=================================================================\n",
      "Total params: 33,351,572\n",
      "Trainable params: 33,351,572\n",
      "Non-trainable params: 0\n",
      "_________________________________________________________________\n"
     ]
    },
    {
     "data": {
      "image/png": "[encoded data removed]",
      "text/plain": [
       "<IPython.core.display.Image object>"
      ]
     },
     "execution_count": 36,
     "metadata": {},
     "output_type": "execute_result"
    }
   ],
   "source": [
    "model_CNN.summary()\n",
    "tf.keras.utils.plot_model(model_CNN, to_file='1D_CNN_model.png')"
   ]
  },
  {
   "cell_type": "code",
   "execution_count": 37,
   "id": "70ced5af-71c2-46ee-9a66-b1997c4710e1",
   "metadata": {},
   "outputs": [
    {
     "name": "stdout",
     "output_type": "stream",
     "text": [
      "Epoch 1/100\n"
     ]
    },
    {
     "name": "stderr",
     "output_type": "stream",
     "text": [
      "2021-10-26 23:22:08.475461: I tensorflow/stream_executor/cuda/cuda_dnn.cc:369] Loaded cuDNN version 8204\n",
      "2021-10-26 23:22:08.953034: I tensorflow/core/platform/default/subprocess.cc:304] Start cannot spawn child process: No such file or directory\n"
     ]
    },
    {
     "name": "stdout",
     "output_type": "stream",
     "text": [
      "528/528 [==============================] - 17s 26ms/step - loss: 2.0167 - accuracy: 0.3221 - val_loss: 1.7389 - val_accuracy: 0.4084\n",
      "Epoch 2/100\n",
      "528/528 [==============================] - 13s 25ms/step - loss: 1.4674 - accuracy: 0.5460 - val_loss: 1.3054 - val_accuracy: 0.6106\n",
      "Epoch 3/100\n",
      "528/528 [==============================] - 13s 25ms/step - loss: 1.2009 - accuracy: 0.6339 - val_loss: 1.1113 - val_accuracy: 0.6530\n",
      "Epoch 4/100\n",
      "528/528 [==============================] - 13s 25ms/step - loss: 1.0518 - accuracy: 0.6744 - val_loss: 1.1533 - val_accuracy: 0.6648\n",
      "Epoch 5/100\n",
      "528/528 [==============================] - 13s 25ms/step - loss: 0.9569 - accuracy: 0.7006 - val_loss: 1.0398 - val_accuracy: 0.6861\n",
      "Epoch 6/100\n",
      "528/528 [==============================] - 13s 25ms/step - loss: 0.8801 - accuracy: 0.7271 - val_loss: 0.9989 - val_accuracy: 0.6966\n",
      "Epoch 7/100\n",
      "528/528 [==============================] - 13s 25ms/step - loss: 0.8152 - accuracy: 0.7456 - val_loss: 1.0106 - val_accuracy: 0.6970\n",
      "Epoch 8/100\n",
      "528/528 [==============================] - 13s 25ms/step - loss: 0.7603 - accuracy: 0.7636 - val_loss: 1.0396 - val_accuracy: 0.7055\n",
      "Epoch 9/100\n",
      "528/528 [==============================] - 13s 25ms/step - loss: 0.7124 - accuracy: 0.7821 - val_loss: 1.0225 - val_accuracy: 0.7008\n",
      "Epoch 10/100\n",
      "528/528 [==============================] - 13s 26ms/step - loss: 0.6628 - accuracy: 0.7973 - val_loss: 1.1142 - val_accuracy: 0.7047\n",
      "Epoch 11/100\n",
      "528/528 [==============================] - 13s 25ms/step - loss: 0.6227 - accuracy: 0.8079 - val_loss: 1.0827 - val_accuracy: 0.7203\n"
     ]
    }
   ],
   "source": [
    "# Train model\n",
    "early_stopping_cb = tf.keras.callbacks.EarlyStopping(patience=5,\n",
    "                                                     restore_best_weights=True)\n",
    "\n",
    "model_CNN_history = model_CNN.fit(X_train,\n",
    "                                  Y_train,\n",
    "                                  batch_size=64,\n",
    "                                  validation_split=0.15,\n",
    "                                  epochs=100,\n",
    "                                  callbacks=[early_stopping_cb])"
   ]
  },
  {
   "cell_type": "markdown",
   "id": "f46be7d1-7964-4461-acc2-6967ebf1ba3a",
   "metadata": {},
   "source": [
    "### EVALUATION RESULT"
   ]
  },
  {
   "cell_type": "code",
   "execution_count": 38,
   "id": "d72f6d86-49df-47a5-b0e3-3bda6fb97b46",
   "metadata": {},
   "outputs": [
    {
     "data": {
      "image/png": "[encoded data removed]",
      "text/plain": [
       "<Figure size 1440x576 with 1 Axes>"
      ]
     },
     "metadata": {
      "needs_background": "light"
     },
     "output_type": "display_data"
    }
   ],
   "source": [
    "# Learning curves\n",
    "learning_curves(model_CNN_history)"
   ]
  },
  {
   "cell_type": "code",
   "execution_count": 39,
   "id": "6d6d4a41-80b4-4dcf-a014-73da817cb7cf",
   "metadata": {},
   "outputs": [
    {
     "data": {
      "image/png": "[encoded data removed]",
      "text/plain": [
       "<Figure size 1440x576 with 2 Axes>"
      ]
     },
     "metadata": {
      "needs_background": "light"
     },
     "output_type": "display_data"
    }
   ],
   "source": [
    "# Evaluation model\n",
    "evaluation_model(model_CNN_history)"
   ]
  },
  {
   "cell_type": "code",
   "execution_count": 40,
   "id": "d148ae35-a916-445a-b89f-e3db7a8e1531",
   "metadata": {},
   "outputs": [
    {
     "name": "stdout",
     "output_type": "stream",
     "text": [
      "311/311 [==============================] - 3s 9ms/step - loss: 0.9613 - accuracy: 0.7075\n"
     ]
    },
    {
     "data": {
      "text/plain": [
       "[0.9612715840339661, 0.7074617743492126]"
      ]
     },
     "execution_count": 40,
     "metadata": {},
     "output_type": "execute_result"
    }
   ],
   "source": [
    "# Check the results\n",
    "Y_test = tf.keras.utils.to_categorical(Y_test, num_classes=num_cuisines)\n",
    "model_CNN.evaluate(X_test, Y_test)"
   ]
  },
  {
   "cell_type": "code",
   "execution_count": 41,
   "id": "52ef1859-a0dc-454c-99c4-16a3233dd4d5",
   "metadata": {},
   "outputs": [
    {
     "data": {
      "text/plain": [
       "array([[5.0733122e-03, 3.4305054e-01, 8.4323529e-03, ..., 9.6288007e-03,\n",
       "        4.3583586e-04, 1.0773429e-03],\n",
       "       [3.2468715e-03, 3.1116223e-02, 9.8443411e-02, ..., 6.8148375e-03,\n",
       "        6.6224740e-05, 2.8096436e-04],\n",
       "       [4.0581930e-04, 1.0213904e-04, 2.5130638e-03, ..., 2.6848665e-02,\n",
       "        2.0697573e-04, 1.8240964e-04],\n",
       "       ...,\n",
       "       [2.4172673e-03, 6.4948405e-04, 4.6852477e-02, ..., 4.4691119e-02,\n",
       "        6.1621179e-04, 1.1008645e-03],\n",
       "       [4.4208570e-04, 1.5750774e-03, 2.1507080e-01, ..., 1.5423493e-03,\n",
       "        1.5372046e-06, 5.8838805e-06],\n",
       "       [9.0808686e-07, 1.7137313e-13, 2.2912285e-05, ..., 5.3091590e-05,\n",
       "        6.0170919e-07, 9.6066526e-07]], dtype=float32)"
      ]
     },
     "execution_count": 41,
     "metadata": {},
     "output_type": "execute_result"
    }
   ],
   "source": [
    "# Predictions\n",
    "model_CNN_pred_probs = model_CNN.predict(X_test)\n",
    "model_CNN_pred_probs"
   ]
  },
  {
   "cell_type": "code",
   "execution_count": 42,
   "id": "7fea93a2-2ef5-41ee-80af-f1fbd21faf03",
   "metadata": {},
   "outputs": [
    {
     "data": {
      "text/plain": [
       "<tf.Tensor: shape=(9944,), dtype=int64, numpy=array([ 1, 16,  9, ...,  9, 16, 13])>"
      ]
     },
     "execution_count": 42,
     "metadata": {},
     "output_type": "execute_result"
    }
   ],
   "source": [
    "# Convert pred probs to classes\n",
    "model_CNN_preds = tf.argmax(model_CNN_pred_probs, axis=1)\n",
    "model_CNN_preds"
   ]
  },
  {
   "cell_type": "code",
   "execution_count": 43,
   "id": "69dab8a4-9ca8-4494-abcc-44fd6b894c39",
   "metadata": {},
   "outputs": [
    {
     "data": {
      "text/html": [
       "<div>\n",
       "<style scoped>\n",
       "    .dataframe tbody tr th:only-of-type {\n",
       "        vertical-align: middle;\n",
       "    }\n",
       "\n",
       "    .dataframe tbody tr th {\n",
       "        vertical-align: top;\n",
       "    }\n",
       "\n",
       "    .dataframe thead th {\n",
       "        text-align: right;\n",
       "    }\n",
       "</style>\n",
       "<table border=\"1\" class=\"dataframe\">\n",
       "  <thead>\n",
       "    <tr style=\"text-align: right;\">\n",
       "      <th></th>\n",
       "      <th>id</th>\n",
       "      <th>cuisine</th>\n",
       "    </tr>\n",
       "  </thead>\n",
       "  <tbody>\n",
       "    <tr>\n",
       "      <th>0</th>\n",
       "      <td>18009</td>\n",
       "      <td>1</td>\n",
       "    </tr>\n",
       "    <tr>\n",
       "      <th>1</th>\n",
       "      <td>28583</td>\n",
       "      <td>16</td>\n",
       "    </tr>\n",
       "    <tr>\n",
       "      <th>2</th>\n",
       "      <td>41580</td>\n",
       "      <td>9</td>\n",
       "    </tr>\n",
       "    <tr>\n",
       "      <th>3</th>\n",
       "      <td>29752</td>\n",
       "      <td>2</td>\n",
       "    </tr>\n",
       "    <tr>\n",
       "      <th>4</th>\n",
       "      <td>35687</td>\n",
       "      <td>9</td>\n",
       "    </tr>\n",
       "    <tr>\n",
       "      <th>...</th>\n",
       "      <td>...</td>\n",
       "      <td>...</td>\n",
       "    </tr>\n",
       "    <tr>\n",
       "      <th>9939</th>\n",
       "      <td>30246</td>\n",
       "      <td>5</td>\n",
       "    </tr>\n",
       "    <tr>\n",
       "      <th>9940</th>\n",
       "      <td>36028</td>\n",
       "      <td>16</td>\n",
       "    </tr>\n",
       "    <tr>\n",
       "      <th>9941</th>\n",
       "      <td>22339</td>\n",
       "      <td>9</td>\n",
       "    </tr>\n",
       "    <tr>\n",
       "      <th>9942</th>\n",
       "      <td>42525</td>\n",
       "      <td>16</td>\n",
       "    </tr>\n",
       "    <tr>\n",
       "      <th>9943</th>\n",
       "      <td>1443</td>\n",
       "      <td>13</td>\n",
       "    </tr>\n",
       "  </tbody>\n",
       "</table>\n",
       "<p>9944 rows × 2 columns</p>\n",
       "</div>"
      ],
      "text/plain": [
       "         id  cuisine\n",
       "0     18009        1\n",
       "1     28583       16\n",
       "2     41580        9\n",
       "3     29752        2\n",
       "4     35687        9\n",
       "...     ...      ...\n",
       "9939  30246        5\n",
       "9940  36028       16\n",
       "9941  22339        9\n",
       "9942  42525       16\n",
       "9943   1443       13\n",
       "\n",
       "[9944 rows x 2 columns]"
      ]
     },
     "execution_count": 43,
     "metadata": {},
     "output_type": "execute_result"
    }
   ],
   "source": [
    "test_id = test_df['id']\n",
    "submission = pd.DataFrame({'id': test_id, 'cuisine': model_CNN_preds}, columns=['id', 'cuisine'])\n",
    "submission"
   ]
  }
 ],
 "metadata": {
  "kernelspec": {
   "display_name": "Python 3 (ipykernel)",
   "language": "python",
   "name": "python3"
  },
  "language_info": {
   "codemirror_mode": {
    "name": "ipython",
    "version": 3
   },
   "file_extension": ".py",
   "mimetype": "text/x-python",
   "name": "python",
   "nbconvert_exporter": "python",
   "pygments_lexer": "ipython3",
   "version": "3.8.12"
  }
 },
 "nbformat": 4,
 "nbformat_minor": 5
}
