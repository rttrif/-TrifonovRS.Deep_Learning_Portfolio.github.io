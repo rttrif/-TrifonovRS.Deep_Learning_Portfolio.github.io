{
 "cells": [
  {
   "cell_type": "markdown",
   "id": "84e63b46-d07d-40b2-a521-023aa3efb7aa",
   "metadata": {},
   "source": [
    "## PROJECT 24: SkimLit \n",
    "\n",
    "> ### TASK: Create an NLP model to classify abstract sentences into the role they play (e.g. objective, methods, results, etc) to enable researchers to skim through the literature (hence SkimLit) and dive deeper when necessary.\n",
    "\n",
    "\n",
    "### Project goals and objectives\n",
    "\n",
    "#### Project goal\n",
    "\n",
    "- Studying **ANN model for sequential sentence classification**\n",
    "\n",
    "#### Project objectives\n",
    "\n",
    "1. [x] Explore and prepare data \n",
    "1. [x] TF-IDF classifier\n",
    "2. [x] Conv1D with token embeddings\n",
    "3. [x] Feature extraction with pretrained token embeddings\n",
    "4. [x] Conv1D with character embeddings\n",
    "5. [x] Combining pretrained token embeddings + character embeddings (hybrid embedding layer\n",
    "6. [ ] Transfer Learning with pretrained token embeddings + character embeddings + positional embeddings\n"
   ]
  },
  {
   "cell_type": "markdown",
   "id": "0505c3c5-2a7b-4c0e-b7cb-da3775b68458",
   "metadata": {},
   "source": [
    "### IMPORT LIBRARIES"
   ]
  },
  {
   "cell_type": "code",
   "execution_count": 1,
   "id": "5f493cd2-fcf3-4557-89d1-f72eaccc43ca",
   "metadata": {},
   "outputs": [],
   "source": [
    "import os\n",
    "import pandas as pd\n",
    "import numpy as np\n",
    "import matplotlib.pyplot as plt\n",
    "plt.style.use('bmh')\n",
    "import seaborn as sns\n",
    "sns.set_style('whitegrid')\n",
    "sns.set_palette('dark')\n",
    "import random\n",
    "import string\n",
    "\n",
    "from sklearn.preprocessing import OneHotEncoder\n",
    "from sklearn.preprocessing import LabelEncoder\n",
    "from sklearn.feature_extraction.text import TfidfVectorizer\n",
    "from sklearn.naive_bayes import MultinomialNB\n",
    "from sklearn.pipeline import Pipeline\n",
    "\n",
    "import tensorflow as tf\n",
    "from tensorflow.keras.layers import Conv1D, GlobalMaxPool1D, Dropout, Dense,GlobalAveragePooling1D, Input, Embedding, MaxPool1D, Flatten, Bidirectional, LSTM, Concatenate\n",
    "from tensorflow.keras.layers.experimental.preprocessing import TextVectorization\n",
    "from tensorflow.keras.models import Model\n",
    "from tensorflow.keras.utils import plot_model\n",
    "\n",
    "import tensorflow_hub as hub\n",
    "\n",
    "from helper_functions import calculate_results"
   ]
  },
  {
   "cell_type": "code",
   "execution_count": 2,
   "id": "87f1cbde-a4c5-486d-978f-232575b7ca19",
   "metadata": {},
   "outputs": [
    {
     "name": "stdout",
     "output_type": "stream",
     "text": [
      "GPU 0: NVIDIA GeForce RTX 2060 (UUID: GPU-9dc3685b-6a88-c130-be43-7b38ad2c7abc)\n"
     ]
    }
   ],
   "source": [
    "!nvidia-smi -L"
   ]
  },
  {
   "cell_type": "markdown",
   "id": "4e1ad5c9-ddfa-4d1b-ab0e-a8d7cb5856e0",
   "metadata": {},
   "source": [
    "### GET DATA"
   ]
  },
  {
   "cell_type": "code",
   "execution_count": 3,
   "id": "c59891ee-eefd-4817-8d66-666466774256",
   "metadata": {},
   "outputs": [
    {
     "name": "stdout",
     "output_type": "stream",
     "text": [
      "fatal: destination path 'pubmed-rct' already exists and is not an empty directory.\n",
      "PubMed_200k_RCT\n",
      "PubMed_200k_RCT_numbers_replaced_with_at_sign\n",
      "PubMed_20k_RCT\n",
      "PubMed_20k_RCT_numbers_replaced_with_at_sign\n",
      "README.md\n"
     ]
    }
   ],
   "source": [
    "# Copy data\n",
    "!git clone https://github.com/Franck-Dernoncourt/pubmed-rct.git\n",
    "!ls pubmed-rct"
   ]
  },
  {
   "cell_type": "code",
   "execution_count": 4,
   "id": "35797102-4221-41ad-bf29-a5a79c206cc3",
   "metadata": {},
   "outputs": [
    {
     "name": "stdout",
     "output_type": "stream",
     "text": [
      "dev.txt  test.txt  train.txt\n"
     ]
    }
   ],
   "source": [
    "# Check files in the dataset\n",
    "!ls pubmed-rct/PubMed_20k_RCT_numbers_replaced_with_at_sign"
   ]
  },
  {
   "cell_type": "code",
   "execution_count": 5,
   "id": "cae364c9-a588-4502-b9b4-00b0a343e49f",
   "metadata": {},
   "outputs": [],
   "source": [
    "# Path to data\n",
    "data_dir = \"pubmed-rct/PubMed_20k_RCT_numbers_replaced_with_at_sign/\""
   ]
  },
  {
   "cell_type": "code",
   "execution_count": 6,
   "id": "0a777e49-9772-41aa-be0d-e6fe858bd5ae",
   "metadata": {},
   "outputs": [
    {
     "data": {
      "text/plain": [
       "['pubmed-rct/PubMed_20k_RCT_numbers_replaced_with_at_sign/test.txt',\n",
       " 'pubmed-rct/PubMed_20k_RCT_numbers_replaced_with_at_sign/train.txt',\n",
       " 'pubmed-rct/PubMed_20k_RCT_numbers_replaced_with_at_sign/dev.txt']"
      ]
     },
     "execution_count": 6,
     "metadata": {},
     "output_type": "execute_result"
    }
   ],
   "source": [
    "# Check all of the filenames in the target directory\n",
    "filenames = [data_dir + filename for filename in os.listdir(data_dir)]\n",
    "filenames"
   ]
  },
  {
   "cell_type": "markdown",
   "id": "3d12f114-1081-4459-a078-5aef445d63c0",
   "metadata": {},
   "source": [
    "### DATA PREPROCESSING"
   ]
  },
  {
   "cell_type": "code",
   "execution_count": 7,
   "id": "8fb8c4c2-7622-4a2c-b4f2-8ea27490815e",
   "metadata": {},
   "outputs": [],
   "source": [
    "# Read the lines of a document\n",
    "def get_lines(filename):\n",
    "    with open(filename, \"r\") as f:\n",
    "        return f.readlines()"
   ]
  },
  {
   "cell_type": "code",
   "execution_count": 8,
   "id": "1ba2a2e9-5275-45bd-8e6d-e0b7d80587d1",
   "metadata": {},
   "outputs": [
    {
     "data": {
      "text/plain": [
       "['###24293578\\n',\n",
       " 'OBJECTIVE\\tTo investigate the efficacy of @ weeks of daily low-dose oral prednisolone in improving pain , mobility , and systemic low-grade inflammation in the short term and whether the effect would be sustained at @ weeks in older adults with moderate to severe knee osteoarthritis ( OA ) .\\n',\n",
       " 'METHODS\\tA total of @ patients with primary knee OA were randomized @:@ ; @ received @ mg/day of prednisolone and @ received placebo for @ weeks .\\n',\n",
       " 'METHODS\\tOutcome measures included pain reduction and improvement in function scores and systemic inflammation markers .\\n',\n",
       " 'METHODS\\tPain was assessed using the visual analog pain scale ( @-@ mm ) .\\n',\n",
       " 'METHODS\\tSecondary outcome measures included the Western Ontario and McMaster Universities Osteoarthritis Index scores , patient global assessment ( PGA ) of the severity of knee OA , and @-min walk distance ( @MWD ) .\\n',\n",
       " 'METHODS\\tSerum levels of interleukin @ ( IL-@ ) , IL-@ , tumor necrosis factor ( TNF ) - , and high-sensitivity C-reactive protein ( hsCRP ) were measured .\\n',\n",
       " 'RESULTS\\tThere was a clinically relevant reduction in the intervention group compared to the placebo group for knee pain , physical function , PGA , and @MWD at @ weeks .\\n',\n",
       " 'RESULTS\\tThe mean difference between treatment arms ( @ % CI ) was @ ( @-@ @ ) , p < @ ; @ ( @-@ @ ) , p < @ ; @ ( @-@ @ ) , p < @ ; and @ ( @-@ @ ) , p < @ , respectively .\\n',\n",
       " 'RESULTS\\tFurther , there was a clinically relevant reduction in the serum levels of IL-@ , IL-@ , TNF - , and hsCRP at @ weeks in the intervention group when compared to the placebo group .\\n']"
      ]
     },
     "execution_count": 8,
     "metadata": {},
     "output_type": "execute_result"
    }
   ],
   "source": [
    "# Read train data \n",
    "train_lines = get_lines(data_dir + \"train.txt\")\n",
    "train_lines[:10]"
   ]
  },
  {
   "cell_type": "code",
   "execution_count": 9,
   "id": "64bc77d1-72f3-48cd-bfc5-982ce9467fc1",
   "metadata": {},
   "outputs": [],
   "source": [
    "# A list of dictionaries of abstract line data\n",
    "\n",
    "def preprocess_text_with_line_numbers(filename):\n",
    "    \n",
    "  input_lines = get_lines(filename) # get all lines from filename\n",
    "  abstract_lines = \"\" # create an empty abstract\n",
    "  abstract_samples = [] # create an empty list of abstracts\n",
    "  \n",
    "  # Loop through each line in target file\n",
    "  for line in input_lines:\n",
    "    if line.startswith(\"###\"): # check to see if line is an ID line\n",
    "      abstract_id = line\n",
    "      abstract_lines = \"\" # reset abstract string\n",
    "    elif line.isspace(): # check to see if line is a new line\n",
    "      abstract_line_split = abstract_lines.splitlines() # split abstract into separate lines\n",
    "\n",
    "      # Iterate through each line in abstract and count them at the same time\n",
    "      for abstract_line_number, abstract_line in enumerate(abstract_line_split):\n",
    "        line_data = {} # create empty dict to store data from line\n",
    "        target_text_split = abstract_line.split(\"\\t\") # split target label from text\n",
    "        line_data[\"target\"] = target_text_split[0] # get target label\n",
    "        line_data[\"text\"] = target_text_split[1].lower() # get target text and lower it\n",
    "        line_data[\"line_number\"] = abstract_line_number # what number line does the line appear in the abstract?\n",
    "        line_data[\"total_lines\"] = len(abstract_line_split) - 1 # how many total lines are in the abstract? (start from 0)\n",
    "        abstract_samples.append(line_data) # add line data to abstract samples list\n",
    "    \n",
    "    else: # if the above conditions aren't fulfilled, the line contains a labelled sentence\n",
    "      abstract_lines += line\n",
    "  \n",
    "  return abstract_samples"
   ]
  },
  {
   "cell_type": "code",
   "execution_count": 10,
   "id": "54899e2a-1f0c-4742-8282-05f2e3f125d3",
   "metadata": {},
   "outputs": [
    {
     "data": {
      "text/plain": [
       "(180040, 30212, 30135)"
      ]
     },
     "execution_count": 10,
     "metadata": {},
     "output_type": "execute_result"
    }
   ],
   "source": [
    "# Preprocess data \n",
    "train_samples = preprocess_text_with_line_numbers(data_dir + \"train.txt\")\n",
    "val_samples = preprocess_text_with_line_numbers(data_dir + \"dev.txt\") \n",
    "test_samples = preprocess_text_with_line_numbers(data_dir + \"test.txt\")\n",
    "\n",
    "len(train_samples), len(val_samples), len(test_samples)"
   ]
  },
  {
   "cell_type": "code",
   "execution_count": 11,
   "id": "3bf7b45f-64d0-4086-a263-5ef6a1e6ba9b",
   "metadata": {},
   "outputs": [
    {
     "data": {
      "text/plain": [
       "[{'target': 'OBJECTIVE',\n",
       "  'text': 'to investigate the efficacy of @ weeks of daily low-dose oral prednisolone in improving pain , mobility , and systemic low-grade inflammation in the short term and whether the effect would be sustained at @ weeks in older adults with moderate to severe knee osteoarthritis ( oa ) .',\n",
       "  'line_number': 0,\n",
       "  'total_lines': 11},\n",
       " {'target': 'METHODS',\n",
       "  'text': 'a total of @ patients with primary knee oa were randomized @:@ ; @ received @ mg/day of prednisolone and @ received placebo for @ weeks .',\n",
       "  'line_number': 1,\n",
       "  'total_lines': 11},\n",
       " {'target': 'METHODS',\n",
       "  'text': 'outcome measures included pain reduction and improvement in function scores and systemic inflammation markers .',\n",
       "  'line_number': 2,\n",
       "  'total_lines': 11},\n",
       " {'target': 'METHODS',\n",
       "  'text': 'pain was assessed using the visual analog pain scale ( @-@ mm ) .',\n",
       "  'line_number': 3,\n",
       "  'total_lines': 11},\n",
       " {'target': 'METHODS',\n",
       "  'text': 'secondary outcome measures included the western ontario and mcmaster universities osteoarthritis index scores , patient global assessment ( pga ) of the severity of knee oa , and @-min walk distance ( @mwd ) .',\n",
       "  'line_number': 4,\n",
       "  'total_lines': 11}]"
      ]
     },
     "execution_count": 11,
     "metadata": {},
     "output_type": "execute_result"
    }
   ],
   "source": [
    "# Check result\n",
    "train_samples[:5]"
   ]
  },
  {
   "cell_type": "code",
   "execution_count": 12,
   "id": "16ee71f5-559b-4d99-9690-cc4156175913",
   "metadata": {},
   "outputs": [],
   "source": [
    "# Create dataframe\n",
    "train_df = pd.DataFrame(train_samples)\n",
    "val_df = pd.DataFrame(val_samples)\n",
    "test_df = pd.DataFrame(test_samples)"
   ]
  },
  {
   "cell_type": "code",
   "execution_count": 13,
   "id": "9fb18d5f-3272-4c3f-9d5e-d479097edee3",
   "metadata": {},
   "outputs": [
    {
     "data": {
      "text/html": [
       "<div>\n",
       "<style scoped>\n",
       "    .dataframe tbody tr th:only-of-type {\n",
       "        vertical-align: middle;\n",
       "    }\n",
       "\n",
       "    .dataframe tbody tr th {\n",
       "        vertical-align: top;\n",
       "    }\n",
       "\n",
       "    .dataframe thead th {\n",
       "        text-align: right;\n",
       "    }\n",
       "</style>\n",
       "<table border=\"1\" class=\"dataframe\">\n",
       "  <thead>\n",
       "    <tr style=\"text-align: right;\">\n",
       "      <th></th>\n",
       "      <th>target</th>\n",
       "      <th>text</th>\n",
       "      <th>line_number</th>\n",
       "      <th>total_lines</th>\n",
       "    </tr>\n",
       "  </thead>\n",
       "  <tbody>\n",
       "    <tr>\n",
       "      <th>0</th>\n",
       "      <td>OBJECTIVE</td>\n",
       "      <td>to investigate the efficacy of @ weeks of dail...</td>\n",
       "      <td>0</td>\n",
       "      <td>11</td>\n",
       "    </tr>\n",
       "    <tr>\n",
       "      <th>1</th>\n",
       "      <td>METHODS</td>\n",
       "      <td>a total of @ patients with primary knee oa wer...</td>\n",
       "      <td>1</td>\n",
       "      <td>11</td>\n",
       "    </tr>\n",
       "    <tr>\n",
       "      <th>2</th>\n",
       "      <td>METHODS</td>\n",
       "      <td>outcome measures included pain reduction and i...</td>\n",
       "      <td>2</td>\n",
       "      <td>11</td>\n",
       "    </tr>\n",
       "  </tbody>\n",
       "</table>\n",
       "</div>"
      ],
      "text/plain": [
       "      target                                               text  line_number  \\\n",
       "0  OBJECTIVE  to investigate the efficacy of @ weeks of dail...            0   \n",
       "1    METHODS  a total of @ patients with primary knee oa wer...            1   \n",
       "2    METHODS  outcome measures included pain reduction and i...            2   \n",
       "\n",
       "   total_lines  \n",
       "0           11  \n",
       "1           11  \n",
       "2           11  "
      ]
     },
     "execution_count": 13,
     "metadata": {},
     "output_type": "execute_result"
    }
   ],
   "source": [
    "train_df.head(3)"
   ]
  },
  {
   "cell_type": "code",
   "execution_count": 14,
   "id": "75ffcd63-359e-4466-8893-4c3bc8b898a5",
   "metadata": {},
   "outputs": [
    {
     "data": {
      "text/html": [
       "<div>\n",
       "<style scoped>\n",
       "    .dataframe tbody tr th:only-of-type {\n",
       "        vertical-align: middle;\n",
       "    }\n",
       "\n",
       "    .dataframe tbody tr th {\n",
       "        vertical-align: top;\n",
       "    }\n",
       "\n",
       "    .dataframe thead th {\n",
       "        text-align: right;\n",
       "    }\n",
       "</style>\n",
       "<table border=\"1\" class=\"dataframe\">\n",
       "  <thead>\n",
       "    <tr style=\"text-align: right;\">\n",
       "      <th></th>\n",
       "      <th>target</th>\n",
       "      <th>text</th>\n",
       "      <th>line_number</th>\n",
       "      <th>total_lines</th>\n",
       "    </tr>\n",
       "  </thead>\n",
       "  <tbody>\n",
       "    <tr>\n",
       "      <th>0</th>\n",
       "      <td>BACKGROUND</td>\n",
       "      <td>ige sensitization to aspergillus fumigatus and...</td>\n",
       "      <td>0</td>\n",
       "      <td>9</td>\n",
       "    </tr>\n",
       "    <tr>\n",
       "      <th>1</th>\n",
       "      <td>BACKGROUND</td>\n",
       "      <td>it is not clear whether these patients would b...</td>\n",
       "      <td>1</td>\n",
       "      <td>9</td>\n",
       "    </tr>\n",
       "    <tr>\n",
       "      <th>2</th>\n",
       "      <td>OBJECTIVE</td>\n",
       "      <td>we sought to determine whether a @-month cours...</td>\n",
       "      <td>2</td>\n",
       "      <td>9</td>\n",
       "    </tr>\n",
       "  </tbody>\n",
       "</table>\n",
       "</div>"
      ],
      "text/plain": [
       "       target                                               text  line_number  \\\n",
       "0  BACKGROUND  ige sensitization to aspergillus fumigatus and...            0   \n",
       "1  BACKGROUND  it is not clear whether these patients would b...            1   \n",
       "2   OBJECTIVE  we sought to determine whether a @-month cours...            2   \n",
       "\n",
       "   total_lines  \n",
       "0            9  \n",
       "1            9  \n",
       "2            9  "
      ]
     },
     "execution_count": 14,
     "metadata": {},
     "output_type": "execute_result"
    }
   ],
   "source": [
    "val_df.head(3)"
   ]
  },
  {
   "cell_type": "code",
   "execution_count": 15,
   "id": "f0383a0a-4e31-4097-9208-00c35189b125",
   "metadata": {},
   "outputs": [
    {
     "data": {
      "text/html": [
       "<div>\n",
       "<style scoped>\n",
       "    .dataframe tbody tr th:only-of-type {\n",
       "        vertical-align: middle;\n",
       "    }\n",
       "\n",
       "    .dataframe tbody tr th {\n",
       "        vertical-align: top;\n",
       "    }\n",
       "\n",
       "    .dataframe thead th {\n",
       "        text-align: right;\n",
       "    }\n",
       "</style>\n",
       "<table border=\"1\" class=\"dataframe\">\n",
       "  <thead>\n",
       "    <tr style=\"text-align: right;\">\n",
       "      <th></th>\n",
       "      <th>target</th>\n",
       "      <th>text</th>\n",
       "      <th>line_number</th>\n",
       "      <th>total_lines</th>\n",
       "    </tr>\n",
       "  </thead>\n",
       "  <tbody>\n",
       "    <tr>\n",
       "      <th>0</th>\n",
       "      <td>BACKGROUND</td>\n",
       "      <td>this study analyzed liver function abnormaliti...</td>\n",
       "      <td>0</td>\n",
       "      <td>8</td>\n",
       "    </tr>\n",
       "    <tr>\n",
       "      <th>1</th>\n",
       "      <td>RESULTS</td>\n",
       "      <td>a post hoc analysis was conducted with the use...</td>\n",
       "      <td>1</td>\n",
       "      <td>8</td>\n",
       "    </tr>\n",
       "    <tr>\n",
       "      <th>2</th>\n",
       "      <td>RESULTS</td>\n",
       "      <td>liver function tests ( lfts ) were measured at...</td>\n",
       "      <td>2</td>\n",
       "      <td>8</td>\n",
       "    </tr>\n",
       "  </tbody>\n",
       "</table>\n",
       "</div>"
      ],
      "text/plain": [
       "       target                                               text  line_number  \\\n",
       "0  BACKGROUND  this study analyzed liver function abnormaliti...            0   \n",
       "1     RESULTS  a post hoc analysis was conducted with the use...            1   \n",
       "2     RESULTS  liver function tests ( lfts ) were measured at...            2   \n",
       "\n",
       "   total_lines  \n",
       "0            8  \n",
       "1            8  \n",
       "2            8  "
      ]
     },
     "execution_count": 15,
     "metadata": {},
     "output_type": "execute_result"
    }
   ],
   "source": [
    "test_df.head(3)"
   ]
  },
  {
   "cell_type": "markdown",
   "id": "93c72aba-05a2-488f-9fe1-267441f55826",
   "metadata": {},
   "source": [
    "### EXPLORATORY DATA ANALISIS"
   ]
  },
  {
   "cell_type": "code",
   "execution_count": 16,
   "id": "7e49fb11-0833-4b3a-a869-69710a699319",
   "metadata": {},
   "outputs": [
    {
     "data": {
      "text/plain": [
       "METHODS        59353\n",
       "RESULTS        57953\n",
       "CONCLUSIONS    27168\n",
       "BACKGROUND     21727\n",
       "OBJECTIVE      13839\n",
       "Name: target, dtype: int64"
      ]
     },
     "execution_count": 16,
     "metadata": {},
     "output_type": "execute_result"
    }
   ],
   "source": [
    "# Distribution of labels in training data\n",
    "train_df.target.value_counts()"
   ]
  },
  {
   "cell_type": "code",
   "execution_count": 17,
   "id": "435fc7d1-4683-40a0-b757-540588c09b1e",
   "metadata": {},
   "outputs": [
    {
     "data": {
      "image/png": "[encoded data removed]",
      "text/plain": [
       "<Figure size 1152x360 with 1 Axes>"
      ]
     },
     "metadata": {},
     "output_type": "display_data"
    }
   ],
   "source": [
    "plt.figure(figsize=(16,5))\n",
    "plt.xticks(rotation=90)\n",
    "ax= sns.countplot(x='total_lines', data= train_df, order = train_df['total_lines'].value_counts().index)"
   ]
  },
  {
   "cell_type": "code",
   "execution_count": 18,
   "id": "32989777-c393-4201-b04f-6f05fc9638c5",
   "metadata": {},
   "outputs": [
    {
     "data": {
      "image/png": "[encoded data removed]",
      "text/plain": [
       "<Figure size 720x432 with 1 Axes>"
      ]
     },
     "metadata": {},
     "output_type": "display_data"
    }
   ],
   "source": [
    "#Distribution of number of abstract lengths\n",
    "plt.figure(figsize=(10,6))\n",
    "sns.histplot(data=train_df[\"total_lines\"], bins=25)\n",
    "plt.title('The distribution of abstract lengths',fontweight=\"bold\")\n",
    "plt.show()"
   ]
  },
  {
   "cell_type": "code",
   "execution_count": 19,
   "id": "6757452e-0050-47e4-88bd-6d350ef30b83",
   "metadata": {},
   "outputs": [
    {
     "data": {
      "text/plain": [
       "<AxesSubplot:xlabel='total_lines', ylabel='count'>"
      ]
     },
     "execution_count": 19,
     "metadata": {},
     "output_type": "execute_result"
    },
    {
     "data": {
      "image/png": "[encoded data removed]",
      "text/plain": [
       "<Figure size 1152x432 with 1 Axes>"
      ]
     },
     "metadata": {},
     "output_type": "display_data"
    }
   ],
   "source": [
    "plt.figure(figsize=(16,6))\n",
    "sns.countplot(x='total_lines', data= train_df)"
   ]
  },
  {
   "cell_type": "code",
   "execution_count": 20,
   "id": "76bf0e81-0569-4309-9ff3-db5d79ee42ab",
   "metadata": {
    "tags": []
   },
   "outputs": [
    {
     "data": {
      "text/plain": [
       "(180040, 30212, 30135)"
      ]
     },
     "execution_count": 20,
     "metadata": {},
     "output_type": "execute_result"
    }
   ],
   "source": [
    "# Get lists of sentences\n",
    "# Convert abstract text lines into lists \n",
    "train_sentences = train_df[\"text\"].tolist()\n",
    "val_sentences = val_df[\"text\"].tolist()\n",
    "test_sentences = test_df[\"text\"].tolist()\n",
    "\n",
    "len(train_sentences), len(val_sentences), len(test_sentences)"
   ]
  },
  {
   "cell_type": "code",
   "execution_count": 21,
   "id": "ec30d943-71c9-475d-afa9-7aac2367d19a",
   "metadata": {},
   "outputs": [
    {
     "data": {
      "text/plain": [
       "['to investigate the efficacy of @ weeks of daily low-dose oral prednisolone in improving pain , mobility , and systemic low-grade inflammation in the short term and whether the effect would be sustained at @ weeks in older adults with moderate to severe knee osteoarthritis ( oa ) .',\n",
       " 'a total of @ patients with primary knee oa were randomized @:@ ; @ received @ mg/day of prednisolone and @ received placebo for @ weeks .',\n",
       " 'outcome measures included pain reduction and improvement in function scores and systemic inflammation markers .',\n",
       " 'pain was assessed using the visual analog pain scale ( @-@ mm ) .',\n",
       " 'secondary outcome measures included the western ontario and mcmaster universities osteoarthritis index scores , patient global assessment ( pga ) of the severity of knee oa , and @-min walk distance ( @mwd ) .']"
      ]
     },
     "execution_count": 21,
     "metadata": {},
     "output_type": "execute_result"
    }
   ],
   "source": [
    "# Example of training sentences\n",
    "train_sentences[:5]"
   ]
  },
  {
   "cell_type": "code",
   "execution_count": 22,
   "id": "f7ce5914-c0d2-4f11-ab3a-cae7f5b95ee5",
   "metadata": {},
   "outputs": [
    {
     "data": {
      "text/plain": [
       "26.338269273494777"
      ]
     },
     "execution_count": 22,
     "metadata": {},
     "output_type": "execute_result"
    }
   ],
   "source": [
    "# Average sentence length\n",
    "sent_lens = [len(sentence.split()) for sentence in train_sentences]\n",
    "avg_sent_len = np.mean(sent_lens)\n",
    "avg_sent_len"
   ]
  },
  {
   "cell_type": "code",
   "execution_count": 23,
   "id": "2365828d-29c7-4eb3-9bc9-8dd40d1c3e47",
   "metadata": {},
   "outputs": [
    {
     "data": {
      "image/png": "[encoded data removed]",
      "text/plain": [
       "<Figure size 720x432 with 1 Axes>"
      ]
     },
     "metadata": {},
     "output_type": "display_data"
    }
   ],
   "source": [
    "#Distribution of number of sentence length\n",
    "plt.figure(figsize=(10,6))\n",
    "sns.histplot(data=sent_lens, bins=70)\n",
    "plt.title('The distribution of sentence length',fontweight=\"bold\")\n",
    "plt.show()"
   ]
  },
  {
   "cell_type": "code",
   "execution_count": 24,
   "id": "cc329b15-d2eb-4ac3-a555-e7d6b5b10d76",
   "metadata": {},
   "outputs": [
    {
     "data": {
      "text/plain": [
       "55"
      ]
     },
     "execution_count": 24,
     "metadata": {},
     "output_type": "execute_result"
    }
   ],
   "source": [
    "# Length of a sentence covers 95% of the lengths\n",
    "output_seq_len = int(np.percentile(sent_lens, 95))\n",
    "output_seq_len"
   ]
  },
  {
   "cell_type": "code",
   "execution_count": 25,
   "id": "dd8df375-eef5-4b6d-a092-5f7baa8d813a",
   "metadata": {},
   "outputs": [
    {
     "data": {
      "text/plain": [
       "296"
      ]
     },
     "execution_count": 25,
     "metadata": {},
     "output_type": "execute_result"
    }
   ],
   "source": [
    "# Maximum sentence length in the training set\n",
    "max(sent_lens)"
   ]
  },
  {
   "cell_type": "markdown",
   "id": "ce19b9f7-9a45-452f-a2de-c67f90686130",
   "metadata": {
    "tags": []
   },
   "source": [
    "### CREATE A NUMERIC LABELS "
   ]
  },
  {
   "cell_type": "code",
   "execution_count": 26,
   "id": "9bae01fa-dfc2-4a7c-8a9a-9d4609357c91",
   "metadata": {},
   "outputs": [],
   "source": [
    "# One hot encode labels\n",
    "one_hot_encoder = OneHotEncoder(sparse=False)\n",
    "\n",
    "train_labels_one_hot = one_hot_encoder.fit_transform(train_df[\"target\"].to_numpy().reshape(-1, 1))\n",
    "val_labels_one_hot = one_hot_encoder.transform(val_df[\"target\"].to_numpy().reshape(-1, 1))\n",
    "test_labels_one_hot = one_hot_encoder.transform(test_df[\"target\"].to_numpy().reshape(-1, 1))"
   ]
  },
  {
   "cell_type": "code",
   "execution_count": 27,
   "id": "0d179445-5496-474f-b89f-8bbb6819c010",
   "metadata": {},
   "outputs": [
    {
     "data": {
      "text/plain": [
       "array([[0., 0., 0., 1., 0.],\n",
       "       [0., 0., 1., 0., 0.],\n",
       "       [0., 0., 1., 0., 0.],\n",
       "       ...,\n",
       "       [0., 0., 0., 0., 1.],\n",
       "       [0., 1., 0., 0., 0.],\n",
       "       [0., 1., 0., 0., 0.]])"
      ]
     },
     "execution_count": 27,
     "metadata": {},
     "output_type": "execute_result"
    }
   ],
   "source": [
    "# Check result\n",
    "train_labels_one_hot"
   ]
  },
  {
   "cell_type": "code",
   "execution_count": 28,
   "id": "09ec68c5-8e10-4532-ae7e-89510f7a46d5",
   "metadata": {},
   "outputs": [],
   "source": [
    "# Label encode labels\n",
    "label_encoder = LabelEncoder()\n",
    "\n",
    "train_labels_encoded = label_encoder.fit_transform(train_df[\"target\"].to_numpy())\n",
    "val_labels_encoded = label_encoder.transform(val_df[\"target\"].to_numpy())\n",
    "test_labels_encoded = label_encoder.transform(test_df[\"target\"].to_numpy())"
   ]
  },
  {
   "cell_type": "code",
   "execution_count": 29,
   "id": "46916433-8ce7-434b-b572-9a5af60363fb",
   "metadata": {},
   "outputs": [
    {
     "data": {
      "text/plain": [
       "array([3, 2, 2, ..., 4, 1, 1])"
      ]
     },
     "execution_count": 29,
     "metadata": {},
     "output_type": "execute_result"
    }
   ],
   "source": [
    "# Check result\n",
    "train_labels_encoded"
   ]
  },
  {
   "cell_type": "code",
   "execution_count": 30,
   "id": "851c9f50-5201-4cfb-94cc-2628c0684f26",
   "metadata": {},
   "outputs": [
    {
     "data": {
      "text/plain": [
       "(5,\n",
       " array(['BACKGROUND', 'CONCLUSIONS', 'METHODS', 'OBJECTIVE', 'RESULTS'],\n",
       "       dtype=object))"
      ]
     },
     "execution_count": 30,
     "metadata": {},
     "output_type": "execute_result"
    }
   ],
   "source": [
    "# Get class names and number of classes from LabelEncoder instance \n",
    "num_classes = len(label_encoder.classes_)\n",
    "class_names = label_encoder.classes_\n",
    "\n",
    "num_classes, class_names"
   ]
  },
  {
   "cell_type": "markdown",
   "id": "c7a4e2c1-fbe7-4ee2-8d0e-14343b2543d6",
   "metadata": {},
   "source": [
    "## TF-IDF MULTINOMIAL NAIVE BAYES"
   ]
  },
  {
   "cell_type": "code",
   "execution_count": 31,
   "id": "6999f518-8992-4cb8-8e31-36e8fd589cee",
   "metadata": {},
   "outputs": [],
   "source": [
    "# Create a pipeline\n",
    "model_0 = Pipeline([(\"tf-idf\", TfidfVectorizer()),\n",
    "                    (\"clf\", MultinomialNB())])"
   ]
  },
  {
   "cell_type": "code",
   "execution_count": 32,
   "id": "a54fa33d-ca47-4ff0-b64a-3683a8cd3bcd",
   "metadata": {},
   "outputs": [],
   "source": [
    "# Fit the pipeline to the training data\n",
    "model_0.fit(X=train_sentences, \n",
    "            y=train_labels_encoded);"
   ]
  },
  {
   "cell_type": "code",
   "execution_count": 33,
   "id": "0ffc3859-0999-4735-b789-b24105f09a11",
   "metadata": {},
   "outputs": [
    {
     "data": {
      "text/plain": [
       "array([4, 1, 3, ..., 4, 4, 1])"
      ]
     },
     "execution_count": 33,
     "metadata": {},
     "output_type": "execute_result"
    }
   ],
   "source": [
    "# Predictions\n",
    "baseline_preds = model_0.predict(val_sentences)\n",
    "baseline_preds"
   ]
  },
  {
   "cell_type": "code",
   "execution_count": 34,
   "id": "c1561a9a-2735-4799-84f6-9d28362e77db",
   "metadata": {},
   "outputs": [
    {
     "data": {
      "text/plain": [
       "{'accuracy': 72.1832384482987,\n",
       " 'precision': 0.7186466952323352,\n",
       " 'recall': 0.7218323844829869,\n",
       " 'f1': 0.6989250353450294}"
      ]
     },
     "execution_count": 34,
     "metadata": {},
     "output_type": "execute_result"
    }
   ],
   "source": [
    "# Baseline results\n",
    "baseline_results = calculate_results(y_true=val_labels_encoded,\n",
    "                                     y_pred=baseline_preds)\n",
    "baseline_results"
   ]
  },
  {
   "cell_type": "markdown",
   "id": "3c45b3bf-e5fd-4fbf-9e12-a88bedfb646a",
   "metadata": {},
   "source": [
    "## COMBINING PRETRAINED TOKEN EMBEDDINGS + CHARACTER EMBEDDINGS (HYBRID EMBEDDING LAYER)"
   ]
  },
  {
   "cell_type": "markdown",
   "id": "f3a7ba62-1047-4fb5-96ea-9d34509508a7",
   "metadata": {},
   "source": [
    "### Text vectorizer"
   ]
  },
  {
   "cell_type": "code",
   "execution_count": 35,
   "id": "c342b972-1a12-4e5d-b8c5-db28c7a45324",
   "metadata": {},
   "outputs": [],
   "source": [
    "max_tokens = 68000"
   ]
  },
  {
   "cell_type": "code",
   "execution_count": 36,
   "id": "aadfb03f-7f30-47c7-9a44-4c216f852524",
   "metadata": {},
   "outputs": [
    {
     "name": "stderr",
     "output_type": "stream",
     "text": [
      "2021-10-29 11:49:35.587953: I tensorflow/stream_executor/cuda/cuda_gpu_executor.cc:937] successful NUMA node read from SysFS had negative value (-1), but there must be at least one NUMA node, so returning NUMA node zero\n",
      "2021-10-29 11:49:35.596067: I tensorflow/stream_executor/cuda/cuda_gpu_executor.cc:937] successful NUMA node read from SysFS had negative value (-1), but there must be at least one NUMA node, so returning NUMA node zero\n",
      "2021-10-29 11:49:35.597016: I tensorflow/stream_executor/cuda/cuda_gpu_executor.cc:937] successful NUMA node read from SysFS had negative value (-1), but there must be at least one NUMA node, so returning NUMA node zero\n",
      "2021-10-29 11:49:35.600101: I tensorflow/core/platform/cpu_feature_guard.cc:142] This TensorFlow binary is optimized with oneAPI Deep Neural Network Library (oneDNN) to use the following CPU instructions in performance-critical operations:  AVX2 FMA\n",
      "To enable them in other operations, rebuild TensorFlow with the appropriate compiler flags.\n",
      "2021-10-29 11:49:35.601521: I tensorflow/stream_executor/cuda/cuda_gpu_executor.cc:937] successful NUMA node read from SysFS had negative value (-1), but there must be at least one NUMA node, so returning NUMA node zero\n",
      "2021-10-29 11:49:35.602394: I tensorflow/stream_executor/cuda/cuda_gpu_executor.cc:937] successful NUMA node read from SysFS had negative value (-1), but there must be at least one NUMA node, so returning NUMA node zero\n",
      "2021-10-29 11:49:35.603502: I tensorflow/stream_executor/cuda/cuda_gpu_executor.cc:937] successful NUMA node read from SysFS had negative value (-1), but there must be at least one NUMA node, so returning NUMA node zero\n",
      "2021-10-29 11:49:36.043784: I tensorflow/stream_executor/cuda/cuda_gpu_executor.cc:937] successful NUMA node read from SysFS had negative value (-1), but there must be at least one NUMA node, so returning NUMA node zero\n",
      "2021-10-29 11:49:36.044122: I tensorflow/stream_executor/cuda/cuda_gpu_executor.cc:937] successful NUMA node read from SysFS had negative value (-1), but there must be at least one NUMA node, so returning NUMA node zero\n",
      "2021-10-29 11:49:36.044412: I tensorflow/stream_executor/cuda/cuda_gpu_executor.cc:937] successful NUMA node read from SysFS had negative value (-1), but there must be at least one NUMA node, so returning NUMA node zero\n",
      "2021-10-29 11:49:36.044682: I tensorflow/core/common_runtime/gpu/gpu_device.cc:1510] Created device /job:localhost/replica:0/task:0/device:GPU:0 with 4642 MB memory:  -> device: 0, name: NVIDIA GeForce RTX 2060, pci bus id: 0000:01:00.0, compute capability: 7.5\n"
     ]
    }
   ],
   "source": [
    "# Text vectorizer\n",
    "text_vectorizer = TextVectorization(max_tokens=max_tokens,\n",
    "                                    output_sequence_length=55)"
   ]
  },
  {
   "cell_type": "code",
   "execution_count": 37,
   "id": "49df7ab1-e239-411d-b41f-dd5dbbcb8e78",
   "metadata": {},
   "outputs": [
    {
     "name": "stderr",
     "output_type": "stream",
     "text": [
      "2021-10-29 11:49:37.072366: I tensorflow/compiler/mlir/mlir_graph_optimization_pass.cc:185] None of the MLIR Optimization Passes are enabled (registered 2)\n"
     ]
    }
   ],
   "source": [
    "# Adapt text vectorizer to training sentences\n",
    "text_vectorizer.adapt(train_sentences)"
   ]
  },
  {
   "cell_type": "code",
   "execution_count": 38,
   "id": "9f66a94f-6de0-42e8-a757-ce6d54614fb6",
   "metadata": {},
   "outputs": [
    {
     "name": "stdout",
     "output_type": "stream",
     "text": [
      "Text:\n",
      "coronary artery bypass grafting success is limited by vein graft failure ( vgf ) .\n",
      "\n",
      "Length of text: 15\n",
      "\n",
      "Vectorized text:\n",
      "[[  346   543  1159  2864   611    20   665    22  1701  1031   292 12870\n",
      "      0     0     0     0     0     0     0     0     0     0     0     0\n",
      "      0     0     0     0     0     0     0     0     0     0     0     0\n",
      "      0     0     0     0     0     0     0     0     0     0     0     0\n",
      "      0     0     0     0     0     0     0]]\n"
     ]
    }
   ],
   "source": [
    "# Check result \n",
    "target_sentence = random.choice(train_sentences)\n",
    "print(f\"Text:\\n{target_sentence}\")\n",
    "print(f\"\\nLength of text: {len(target_sentence.split())}\")\n",
    "print(f\"\\nVectorized text:\\n{text_vectorizer([target_sentence])}\")"
   ]
  },
  {
   "cell_type": "markdown",
   "id": "4e51adf1-4feb-40f6-9b2c-baa321ca60f4",
   "metadata": {},
   "source": [
    "### Text embedding"
   ]
  },
  {
   "cell_type": "code",
   "execution_count": 39,
   "id": "e2925f18-e662-46fb-b0ec-5da189b64f2e",
   "metadata": {},
   "outputs": [
    {
     "name": "stdout",
     "output_type": "stream",
     "text": [
      "Number of words in vocabulary: 64841\n"
     ]
    }
   ],
   "source": [
    "# Number of words in vocabulary\n",
    "rct_20k_text_vocab = text_vectorizer.get_vocabulary()\n",
    "print(f\"Number of words in vocabulary: {len(rct_20k_text_vocab)}\")"
   ]
  },
  {
   "cell_type": "code",
   "execution_count": 40,
   "id": "4b4212cb-5287-44e6-9c3c-0167da5cafa4",
   "metadata": {},
   "outputs": [],
   "source": [
    "# Token embedding layer\n",
    "token_embed = Embedding(input_dim=len(rct_20k_text_vocab),\n",
    "                               output_dim=128, \n",
    "                               mask_zero=True,\n",
    "                               name=\"token_embedding\") "
   ]
  },
  {
   "cell_type": "code",
   "execution_count": 41,
   "id": "5efae664-2e44-4a79-9e3e-9294372bbdc7",
   "metadata": {},
   "outputs": [
    {
     "name": "stdout",
     "output_type": "stream",
     "text": [
      "Sentence before vectorization:\n",
      "coronary artery bypass grafting success is limited by vein graft failure ( vgf ) .\n",
      "\n",
      "Sentence after vectorization (before embedding):\n",
      "[[  346   543  1159  2864   611    20   665    22  1701  1031   292 12870\n",
      "      0     0     0     0     0     0     0     0     0     0     0     0\n",
      "      0     0     0     0     0     0     0     0     0     0     0     0\n",
      "      0     0     0     0     0     0     0     0     0     0     0     0\n",
      "      0     0     0     0     0     0     0]]\n",
      "\n",
      "Sentence after embedding:\n",
      "[[[-0.03809541  0.02678407 -0.01471211 ...  0.00774658 -0.03288598\n",
      "   -0.02801635]\n",
      "  [-0.03985067  0.04003218 -0.00705298 ...  0.00357668 -0.04892714\n",
      "   -0.02139726]\n",
      "  [-0.00171393  0.04175268 -0.00224117 ... -0.0018753  -0.03954025\n",
      "    0.02466854]\n",
      "  ...\n",
      "  [ 0.02134952 -0.0295091   0.01236467 ... -0.02799367 -0.00599977\n",
      "   -0.04970758]\n",
      "  [ 0.02134952 -0.0295091   0.01236467 ... -0.02799367 -0.00599977\n",
      "   -0.04970758]\n",
      "  [ 0.02134952 -0.0295091   0.01236467 ... -0.02799367 -0.00599977\n",
      "   -0.04970758]]]\n",
      "\n",
      "Embedded sentence shape: (1, 55, 128)\n"
     ]
    }
   ],
   "source": [
    "# Example of embedding\n",
    "print(f\"Sentence before vectorization:\\n{target_sentence}\\n\")\n",
    "vectorized_sentence = text_vectorizer([target_sentence])\n",
    "print(f\"Sentence after vectorization (before embedding):\\n{vectorized_sentence}\\n\")\n",
    "embedded_sentence = token_embed(vectorized_sentence)\n",
    "print(f\"Sentence after embedding:\\n{embedded_sentence}\\n\")\n",
    "print(f\"Embedded sentence shape: {embedded_sentence.shape}\")"
   ]
  },
  {
   "cell_type": "markdown",
   "id": "4db56cf5-dfa4-4cd2-ba40-fad03bf8146f",
   "metadata": {},
   "source": [
    "### Datasets"
   ]
  },
  {
   "cell_type": "code",
   "execution_count": 42,
   "id": "6705a865-9eb8-484e-a7a9-f942db3b014b",
   "metadata": {},
   "outputs": [
    {
     "data": {
      "text/plain": [
       "<TensorSliceDataset shapes: ((), (5,)), types: (tf.string, tf.float64)>"
      ]
     },
     "execution_count": 42,
     "metadata": {},
     "output_type": "execute_result"
    }
   ],
   "source": [
    "# Turn data into TensorFlow Datasets\n",
    "train_dataset = tf.data.Dataset.from_tensor_slices((train_sentences, train_labels_one_hot))\n",
    "valid_dataset = tf.data.Dataset.from_tensor_slices((val_sentences, val_labels_one_hot))\n",
    "test_dataset = tf.data.Dataset.from_tensor_slices((test_sentences, test_labels_one_hot))\n",
    "\n",
    "train_dataset"
   ]
  },
  {
   "cell_type": "code",
   "execution_count": 43,
   "id": "65b2a20e-7c9f-4808-9a42-ea630dffba09",
   "metadata": {},
   "outputs": [
    {
     "data": {
      "text/plain": [
       "<PrefetchDataset shapes: ((None,), (None, 5)), types: (tf.string, tf.float64)>"
      ]
     },
     "execution_count": 43,
     "metadata": {},
     "output_type": "execute_result"
    }
   ],
   "source": [
    "# Turn the TensorSliceDataset's into prefetched batches\n",
    "train_dataset = train_dataset.batch(128).prefetch(tf.data.AUTOTUNE)\n",
    "valid_dataset = valid_dataset.batch(128).prefetch(tf.data.AUTOTUNE)\n",
    "test_dataset = test_dataset.batch(128).prefetch(tf.data.AUTOTUNE)\n",
    "\n",
    "train_dataset"
   ]
  },
  {
   "cell_type": "code",
   "execution_count": 44,
   "id": "b6bef481-2113-4bd4-866c-b031f6dc0dd4",
   "metadata": {},
   "outputs": [],
   "source": [
    "# Split sentences into characters\n",
    "def split_chars(text):\n",
    "    return \" \".join(list(text))"
   ]
  },
  {
   "cell_type": "code",
   "execution_count": 45,
   "id": "e4ecd661-42ab-4345-a2d5-8c4c4bead63b",
   "metadata": {},
   "outputs": [
    {
     "name": "stdout",
     "output_type": "stream",
     "text": [
      "Random training sentence:\n",
      "to investigate the effects of a suicide prevention programme on the levels of depression , self-esteem , suicidal ideation and spirituality in patients with mental illness .\n",
      "\n"
     ]
    }
   ],
   "source": [
    "# Test out the embedding on a random sentence\n",
    "random_training_sentence = random.choice(train_sentences)\n",
    "print(f\"Random training sentence:\\n{random_training_sentence}\\n\")\n"
   ]
  },
  {
   "cell_type": "code",
   "execution_count": 46,
   "id": "3b50c97e-de44-4e1a-b9a4-22e02cbcbed7",
   "metadata": {},
   "outputs": [
    {
     "data": {
      "text/plain": [
       "'t o   i n v e s t i g a t e   t h e   e f f e c t s   o f   a   s u i c i d e   p r e v e n t i o n   p r o g r a m m e   o n   t h e   l e v e l s   o f   d e p r e s s i o n   ,   s e l f - e s t e e m   ,   s u i c i d a l   i d e a t i o n   a n d   s p i r i t u a l i t y   i n   p a t i e n t s   w i t h   m e n t a l   i l l n e s s   .'"
      ]
     },
     "execution_count": 46,
     "metadata": {},
     "output_type": "execute_result"
    }
   ],
   "source": [
    "# Test splitting non-character-level sequence into characters\n",
    "split_chars(random_training_sentence)"
   ]
  },
  {
   "cell_type": "code",
   "execution_count": 47,
   "id": "71296ae0-7ba9-4b5f-a2ca-eb985ac80d1b",
   "metadata": {},
   "outputs": [
    {
     "name": "stdout",
     "output_type": "stream",
     "text": [
      "t o   i n v e s t i g a t e   t h e   e f f i c a c y   o f   @   w e e k s   o f   d a i l y   l o w - d o s e   o r a l   p r e d n i s o l o n e   i n   i m p r o v i n g   p a i n   ,   m o b i l i t y   ,   a n d   s y s t e m i c   l o w - g r a d e   i n f l a m m a t i o n   i n   t h e   s h o r t   t e r m   a n d   w h e t h e r   t h e   e f f e c t   w o u l d   b e   s u s t a i n e d   a t   @   w e e k s   i n   o l d e r   a d u l t s   w i t h   m o d e r a t e   t o   s e v e r e   k n e e   o s t e o a r t h r i t i s   (   o a   )   .\n"
     ]
    }
   ],
   "source": [
    "# Split sequence-level data splits into character-level data splits\n",
    "train_chars = [split_chars(sentence) for sentence in train_sentences]\n",
    "val_chars = [split_chars(sentence) for sentence in val_sentences]\n",
    "test_chars = [split_chars(sentence) for sentence in test_sentences]\n",
    "print(train_chars[0])"
   ]
  },
  {
   "cell_type": "code",
   "execution_count": 48,
   "id": "9452e1f1-4fc2-437b-b9e7-0b44aaa12e5d",
   "metadata": {},
   "outputs": [
    {
     "data": {
      "text/plain": [
       "149.3662574983337"
      ]
     },
     "execution_count": 48,
     "metadata": {},
     "output_type": "execute_result"
    }
   ],
   "source": [
    "# Average character length\n",
    "char_lens = [len(sentence) for sentence in train_sentences]\n",
    "mean_char_len = np.mean(char_lens)\n",
    "mean_char_len"
   ]
  },
  {
   "cell_type": "code",
   "execution_count": 49,
   "id": "8fc619ce-b766-4a23-babf-ff59614e6ccf",
   "metadata": {},
   "outputs": [
    {
     "data": {
      "text/plain": [
       "290"
      ]
     },
     "execution_count": 49,
     "metadata": {},
     "output_type": "execute_result"
    }
   ],
   "source": [
    "# Character length covers 95% of sequences\n",
    "output_seq_char_len = int(np.percentile(char_lens, 95))\n",
    "output_seq_char_len"
   ]
  },
  {
   "cell_type": "code",
   "execution_count": 50,
   "id": "53f434fa-67bc-4895-a36a-3d3abb5b9158",
   "metadata": {},
   "outputs": [
    {
     "data": {
      "text/plain": [
       "'abcdefghijklmnopqrstuvwxyz0123456789!\"#$%&\\'()*+,-./:;<=>?@[\\\\]^_`{|}~'"
      ]
     },
     "execution_count": 50,
     "metadata": {},
     "output_type": "execute_result"
    }
   ],
   "source": [
    "# Get all keyboard characters for char-level embedding\n",
    "alphabet = string.ascii_lowercase + string.digits + string.punctuation\n",
    "alphabet"
   ]
  },
  {
   "cell_type": "code",
   "execution_count": 51,
   "id": "a2c7af67-d314-46d0-953a-f0c9b8cd094c",
   "metadata": {},
   "outputs": [],
   "source": [
    "# Char-level token vectorizer instance\n",
    "NUM_CHAR_TOKENS = len(alphabet) + 2 # num characters in alphabet + space + OOV token\n",
    "\n",
    "char_vectorizer = TextVectorization(max_tokens=NUM_CHAR_TOKENS,  \n",
    "                                    output_sequence_length=output_seq_char_len,\n",
    "                                    standardize=\"lower_and_strip_punctuation\",\n",
    "                                    name=\"char_vectorizer\")"
   ]
  },
  {
   "cell_type": "code",
   "execution_count": 52,
   "id": "cff7a316-cfe0-4a7e-bfdf-81b33d773393",
   "metadata": {},
   "outputs": [],
   "source": [
    "# Adapt character vectorizer to training characters\n",
    "char_vectorizer.adapt(train_chars)"
   ]
  },
  {
   "cell_type": "code",
   "execution_count": 53,
   "id": "b4a00f64-1c94-4e96-aa74-f96552b10387",
   "metadata": {},
   "outputs": [
    {
     "name": "stdout",
     "output_type": "stream",
     "text": [
      "Number of different characters in character vocab: 28\n",
      "5 most common characters: ['', '[UNK]', 'e', 't', 'i']\n",
      "5 least common characters: ['k', 'x', 'z', 'q', 'j']\n"
     ]
    }
   ],
   "source": [
    "# Check character vocabulary characteristics\n",
    "char_vocab = char_vectorizer.get_vocabulary()\n",
    "print(f\"Number of different characters in character vocab: {len(char_vocab)}\")\n",
    "print(f\"5 most common characters: {char_vocab[:5]}\")\n",
    "print(f\"5 least common characters: {char_vocab[-5:]}\")"
   ]
  },
  {
   "cell_type": "code",
   "execution_count": 54,
   "id": "4fc8c823-1750-427e-82eb-a97451ae1816",
   "metadata": {},
   "outputs": [
    {
     "name": "stdout",
     "output_type": "stream",
     "text": [
      "Charified text:\n",
      "h e a d a c h e   w a s   n o t e d   i n   @   (   @   %   )   p a t i e n t s   i n   t h e   t r e a t m e n t   g r o u p   v e r s u s   @   (   @   %   )   i n   t h e   p l a c e b o   g r o u p   ,   b u t   w a s   m i l d   i n   a l l   p a t i e n t s   .\n",
      "\n",
      "Length of chars: 103\n",
      "\n",
      "Vectorized chars:\n",
      "[[13  2  5 10  5 11 13  2 20  5  9  6  7  3  2 10  4  6 14  5  3  4  2  6\n",
      "   3  9  4  6  3 13  2  3  8  2  5  3 15  2  6  3 18  8  7 16 14 21  2  8\n",
      "   9 16  9  4  6  3 13  2 14 12  5 11  2 22  7 18  8  7 16 14 22 16  3 20\n",
      "   5  9 15  4 12 10  4  6  5 12 12 14  5  3  4  2  6  3  9  0  0  0  0  0\n",
      "   0  0  0  0  0  0  0  0  0  0  0  0  0  0  0  0  0  0  0  0  0  0  0  0\n",
      "   0  0  0  0  0  0  0  0  0  0  0  0  0  0  0  0  0  0  0  0  0  0  0  0\n",
      "   0  0  0  0  0  0  0  0  0  0  0  0  0  0  0  0  0  0  0  0  0  0  0  0\n",
      "   0  0  0  0  0  0  0  0  0  0  0  0  0  0  0  0  0  0  0  0  0  0  0  0\n",
      "   0  0  0  0  0  0  0  0  0  0  0  0  0  0  0  0  0  0  0  0  0  0  0  0\n",
      "   0  0  0  0  0  0  0  0  0  0  0  0  0  0  0  0  0  0  0  0  0  0  0  0\n",
      "   0  0  0  0  0  0  0  0  0  0  0  0  0  0  0  0  0  0  0  0  0  0  0  0\n",
      "   0  0  0  0  0  0  0  0  0  0  0  0  0  0  0  0  0  0  0  0  0  0  0  0\n",
      "   0  0]]\n",
      "\n",
      "Length of vectorized chars: 290\n"
     ]
    }
   ],
   "source": [
    "# Check out character vectorizer\n",
    "random_train_chars = random.choice(train_chars)\n",
    "print(f\"Charified text:\\n{random_train_chars}\")\n",
    "print(f\"\\nLength of chars: {len(random_train_chars.split())}\")\n",
    "vectorized_chars = char_vectorizer([random_train_chars])\n",
    "print(f\"\\nVectorized chars:\\n{vectorized_chars}\")\n",
    "print(f\"\\nLength of vectorized chars: {len(vectorized_chars[0])}\")"
   ]
  },
  {
   "cell_type": "code",
   "execution_count": 55,
   "id": "30ca6880-9381-40da-bab2-e9089ae9416d",
   "metadata": {},
   "outputs": [],
   "source": [
    "# Char embedding layer\n",
    "char_embed = Embedding(input_dim=NUM_CHAR_TOKENS,\n",
    "                              output_dim=25, \n",
    "                              mask_zero=False,\n",
    "                              name=\"char_embed\")"
   ]
  },
  {
   "cell_type": "code",
   "execution_count": 56,
   "id": "8ca65db0-fefd-4eae-b5c6-5f06f2c1604d",
   "metadata": {},
   "outputs": [
    {
     "name": "stdout",
     "output_type": "stream",
     "text": [
      "Charified text (before vectorization and embedding):\n",
      "h e a d a c h e   w a s   n o t e d   i n   @   (   @   %   )   p a t i e n t s   i n   t h e   t r e a t m e n t   g r o u p   v e r s u s   @   (   @   %   )   i n   t h e   p l a c e b o   g r o u p   ,   b u t   w a s   m i l d   i n   a l l   p a t i e n t s   .\n",
      "\n",
      "Embedded chars (after vectorization and embedding):\n",
      "[[[-0.04888077 -0.04701302 -0.0031361  ...  0.04186119  0.0394046\n",
      "    0.04109675]\n",
      "  [ 0.02545882 -0.01328958  0.03799719 ... -0.00225241 -0.04937556\n",
      "   -0.03576078]\n",
      "  [-0.01424281 -0.0273435  -0.03554796 ...  0.0241893   0.00991783\n",
      "    0.02134209]\n",
      "  ...\n",
      "  [ 0.00891399 -0.03113414  0.02203392 ... -0.01002126 -0.0396808\n",
      "   -0.01777833]\n",
      "  [ 0.00891399 -0.03113414  0.02203392 ... -0.01002126 -0.0396808\n",
      "   -0.01777833]\n",
      "  [ 0.00891399 -0.03113414  0.02203392 ... -0.01002126 -0.0396808\n",
      "   -0.01777833]]]\n",
      "\n",
      "Character embedding shape: (1, 290, 25)\n"
     ]
    }
   ],
   "source": [
    "# Test out character embedding layer\n",
    "print(f\"Charified text (before vectorization and embedding):\\n{random_train_chars}\\n\")\n",
    "char_embed_example = char_embed(char_vectorizer([random_train_chars]))\n",
    "print(f\"Embedded chars (after vectorization and embedding):\\n{char_embed_example}\\n\")\n",
    "print(f\"Character embedding shape: {char_embed_example.shape}\")"
   ]
  },
  {
   "cell_type": "code",
   "execution_count": 57,
   "id": "b0bd170f-fabc-4dfd-9599-b129aa00883f",
   "metadata": {},
   "outputs": [
    {
     "data": {
      "text/plain": [
       "<PrefetchDataset shapes: ((None,), (None, 5)), types: (tf.string, tf.float64)>"
      ]
     },
     "execution_count": 57,
     "metadata": {},
     "output_type": "execute_result"
    }
   ],
   "source": [
    "# Create char datasets\n",
    "train_char_dataset = tf.data.Dataset.from_tensor_slices((train_chars, train_labels_one_hot)).batch(64).prefetch(tf.data.AUTOTUNE)\n",
    "val_char_dataset = tf.data.Dataset.from_tensor_slices((val_chars, val_labels_one_hot)).batch(128).prefetch(tf.data.AUTOTUNE)\n",
    "\n",
    "train_char_dataset"
   ]
  },
  {
   "cell_type": "code",
   "execution_count": 58,
   "id": "e9787dec-d4f9-43a1-a0bd-021db408669b",
   "metadata": {},
   "outputs": [],
   "source": [
    "# Combining token and character data into a tf.data dataset\n",
    "train_char_token_data = tf.data.Dataset.from_tensor_slices((train_sentences, train_chars)) \n",
    "train_char_token_labels = tf.data.Dataset.from_tensor_slices(train_labels_one_hot) \n",
    "train_char_token_dataset = tf.data.Dataset.zip((train_char_token_data, train_char_token_labels))\n",
    "\n",
    "# Prefetch and batch train data\n",
    "train_char_token_dataset = train_char_token_dataset.batch(128).prefetch(tf.data.AUTOTUNE) \n",
    "\n",
    "# Repeat same steps validation data\n",
    "val_char_token_data = tf.data.Dataset.from_tensor_slices((val_sentences, val_chars))\n",
    "val_char_token_labels = tf.data.Dataset.from_tensor_slices(val_labels_one_hot)\n",
    "val_char_token_dataset = tf.data.Dataset.zip((val_char_token_data, val_char_token_labels))\n",
    "val_char_token_dataset = val_char_token_dataset.batch(128).prefetch(tf.data.AUTOTUNE)"
   ]
  },
  {
   "cell_type": "code",
   "execution_count": 59,
   "id": "7d631a59-1853-47a3-b870-f1ab59d0f9db",
   "metadata": {},
   "outputs": [
    {
     "data": {
      "text/plain": [
       "(<PrefetchDataset shapes: (((None,), (None,)), (None, 5)), types: ((tf.string, tf.string), tf.float64)>,\n",
       " <PrefetchDataset shapes: (((None,), (None,)), (None, 5)), types: ((tf.string, tf.string), tf.float64)>)"
      ]
     },
     "execution_count": 59,
     "metadata": {},
     "output_type": "execute_result"
    }
   ],
   "source": [
    "# Check out training char and token embedding dataset\n",
    "train_char_token_dataset, val_char_token_dataset"
   ]
  },
  {
   "cell_type": "markdown",
   "id": "201a114f-cc63-45a5-ac14-8adbaeff7bb2",
   "metadata": {},
   "source": [
    "### Model 4: Combining pretrained token embeddings + character embeddings (hybrid embedding layer)"
   ]
  },
  {
   "cell_type": "code",
   "execution_count": 60,
   "id": "d21bbbd7-422c-408f-a4c4-1687051c810a",
   "metadata": {},
   "outputs": [],
   "source": [
    "# Download pretrained TensorFlow Hub USE\n",
    "tf_hub_embedding_layer = hub.KerasLayer(\"https://tfhub.dev/google/universal-sentence-encoder/4\",\n",
    "                                        trainable=False,\n",
    "                                        name=\"universal_sentence_encoder\")"
   ]
  },
  {
   "cell_type": "code",
   "execution_count": 61,
   "id": "6a583694-22e3-40ce-b6b3-81063c7f501a",
   "metadata": {},
   "outputs": [],
   "source": [
    "# 1. Setup token inputs/model\n",
    "token_inputs = Input(shape=[], dtype=tf.string, name=\"token_input\")\n",
    "\n",
    "token_embeddings = tf_hub_embedding_layer(token_inputs)\n",
    "x = Dense(512, activation=\"relu\")(token_embeddings)\n",
    "x = Dropout(0.5)(x)\n",
    "\n",
    "x = Dense(512, activation=\"relu\")(x)\n",
    "x = Dropout(0.5)(x)\n",
    "\n",
    "x = Dense(256, activation=\"relu\")(x)\n",
    "x = Dropout(0.5)(x)\n",
    "\n",
    "x = Dense(256, activation=\"relu\")(x)\n",
    "x = Dropout(0.25)(x)\n",
    "\n",
    "x = Dense(128, activation=\"relu\")(x)\n",
    "x = Dropout(0.25)(x)\n",
    "\n",
    "token_output = Dense(128, activation=\"relu\")(x)\n",
    "\n",
    "token_model = Model(inputs=token_inputs,\n",
    "                    outputs=token_output)\n",
    "\n",
    "# 2. Setup char inputs/model\n",
    "char_inputs = Input(shape=(1,), dtype=tf.string, name=\"char_input\")\n",
    "\n",
    "char_vectors = char_vectorizer(char_inputs)\n",
    "char_embeddings = char_embed(char_vectors)\n",
    "\n",
    "char_bi_lstm = Bidirectional(LSTM(512, return_sequences=True))(char_embeddings)\n",
    "x = Dropout(0.5)(char_bi_lstm)\n",
    "\n",
    "x = Bidirectional(LSTM(256, return_sequences=True))(x)\n",
    "x = Dropout(0.5)(x)\n",
    "\n",
    "x = Bidirectional(LSTM(128, return_sequences=True))(x)\n",
    "x = Dropout(0.5)(x)\n",
    "\n",
    "x = Bidirectional(LSTM(64, return_sequences=True))(x)\n",
    "x = Dropout(0.25)(x)\n",
    "\n",
    "x = Bidirectional(LSTM(32, return_sequences=True))(x)\n",
    "x = Dropout(0.25)(x)\n",
    "\n",
    "char_bi_lstm = Bidirectional(LSTM(25))(x)\n",
    "\n",
    "char_model = tf.keras.Model(inputs=char_inputs,\n",
    "                            outputs=char_bi_lstm)\n",
    "\n",
    "# 3. Concatenate token and char inputs (create hybrid token embedding)\n",
    "token_char_concat = Concatenate(name=\"token_char_hybrid\")([token_model.output, \n",
    "                                                                  char_model.output])\n",
    "\n",
    "# 4. Create output layers \n",
    "combined_dropout = Dropout(0.5)(token_char_concat)\n",
    "\n",
    "combined_dense = Dense(400, activation=\"relu\")(combined_dropout)\n",
    "x = Dropout(0.5)(combined_dense)\n",
    "\n",
    "x = Dense(400, activation=\"relu\")(x)\n",
    "final_dropout = Dropout(0.5)(x)\n",
    "\n",
    "output_layer = Dense(num_classes, activation=\"softmax\")(final_dropout)\n",
    "\n",
    "# 5. Construct model with char and token inputs\n",
    "model_4 = Model(inputs=[token_model.input, char_model.input],\n",
    "                        outputs=output_layer,\n",
    "                        name=\"Model_4_token_and_char_embeddings\")"
   ]
  },
  {
   "cell_type": "code",
   "execution_count": 62,
   "id": "bf1c8bb6-a4ce-4d52-86c7-8f8a2a507efb",
   "metadata": {},
   "outputs": [],
   "source": [
    "# Compile model\n",
    "model_4.compile(loss=\"categorical_crossentropy\", \n",
    "                optimizer=tf.keras.optimizers.Adam(),\n",
    "                metrics=[\"accuracy\"])"
   ]
  },
  {
   "cell_type": "code",
   "execution_count": 63,
   "id": "bdc88296-5f71-4080-ad5b-043e1ba9beef",
   "metadata": {},
   "outputs": [
    {
     "name": "stdout",
     "output_type": "stream",
     "text": [
      "Model: \"Model_4_token_and_char_embeddings\"\n",
      "__________________________________________________________________________________________________\n",
      "Layer (type)                    Output Shape         Param #     Connected to                     \n",
      "==================================================================================================\n",
      "char_input (InputLayer)         [(None, 1)]          0                                            \n",
      "__________________________________________________________________________________________________\n",
      "token_input (InputLayer)        [(None,)]            0                                            \n",
      "__________________________________________________________________________________________________\n",
      "char_vectorizer (TextVectorizat (None, 290)          0           char_input[0][0]                 \n",
      "__________________________________________________________________________________________________\n",
      "universal_sentence_encoder (Ker (None, 512)          256797824   token_input[0][0]                \n",
      "__________________________________________________________________________________________________\n",
      "char_embed (Embedding)          (None, 290, 25)      1750        char_vectorizer[0][0]            \n",
      "__________________________________________________________________________________________________\n",
      "dense (Dense)                   (None, 512)          262656      universal_sentence_encoder[0][0] \n",
      "__________________________________________________________________________________________________\n",
      "bidirectional (Bidirectional)   (None, 290, 1024)    2203648     char_embed[0][0]                 \n",
      "__________________________________________________________________________________________________\n",
      "dropout (Dropout)               (None, 512)          0           dense[0][0]                      \n",
      "__________________________________________________________________________________________________\n",
      "dropout_5 (Dropout)             (None, 290, 1024)    0           bidirectional[0][0]              \n",
      "__________________________________________________________________________________________________\n",
      "dense_1 (Dense)                 (None, 512)          262656      dropout[0][0]                    \n",
      "__________________________________________________________________________________________________\n",
      "bidirectional_1 (Bidirectional) (None, 290, 512)     2623488     dropout_5[0][0]                  \n",
      "__________________________________________________________________________________________________\n",
      "dropout_1 (Dropout)             (None, 512)          0           dense_1[0][0]                    \n",
      "__________________________________________________________________________________________________\n",
      "dropout_6 (Dropout)             (None, 290, 512)     0           bidirectional_1[0][0]            \n",
      "__________________________________________________________________________________________________\n",
      "dense_2 (Dense)                 (None, 256)          131328      dropout_1[0][0]                  \n",
      "__________________________________________________________________________________________________\n",
      "bidirectional_2 (Bidirectional) (None, 290, 256)     656384      dropout_6[0][0]                  \n",
      "__________________________________________________________________________________________________\n",
      "dropout_2 (Dropout)             (None, 256)          0           dense_2[0][0]                    \n",
      "__________________________________________________________________________________________________\n",
      "dropout_7 (Dropout)             (None, 290, 256)     0           bidirectional_2[0][0]            \n",
      "__________________________________________________________________________________________________\n",
      "dense_3 (Dense)                 (None, 256)          65792       dropout_2[0][0]                  \n",
      "__________________________________________________________________________________________________\n",
      "bidirectional_3 (Bidirectional) (None, 290, 128)     164352      dropout_7[0][0]                  \n",
      "__________________________________________________________________________________________________\n",
      "dropout_3 (Dropout)             (None, 256)          0           dense_3[0][0]                    \n",
      "__________________________________________________________________________________________________\n",
      "dropout_8 (Dropout)             (None, 290, 128)     0           bidirectional_3[0][0]            \n",
      "__________________________________________________________________________________________________\n",
      "dense_4 (Dense)                 (None, 128)          32896       dropout_3[0][0]                  \n",
      "__________________________________________________________________________________________________\n",
      "bidirectional_4 (Bidirectional) (None, 290, 64)      41216       dropout_8[0][0]                  \n",
      "__________________________________________________________________________________________________\n",
      "dropout_4 (Dropout)             (None, 128)          0           dense_4[0][0]                    \n",
      "__________________________________________________________________________________________________\n",
      "dropout_9 (Dropout)             (None, 290, 64)      0           bidirectional_4[0][0]            \n",
      "__________________________________________________________________________________________________\n",
      "dense_5 (Dense)                 (None, 128)          16512       dropout_4[0][0]                  \n",
      "__________________________________________________________________________________________________\n",
      "bidirectional_5 (Bidirectional) (None, 50)           18000       dropout_9[0][0]                  \n",
      "__________________________________________________________________________________________________\n",
      "token_char_hybrid (Concatenate) (None, 178)          0           dense_5[0][0]                    \n",
      "                                                                 bidirectional_5[0][0]            \n",
      "__________________________________________________________________________________________________\n",
      "dropout_10 (Dropout)            (None, 178)          0           token_char_hybrid[0][0]          \n",
      "__________________________________________________________________________________________________\n",
      "dense_6 (Dense)                 (None, 400)          71600       dropout_10[0][0]                 \n",
      "__________________________________________________________________________________________________\n",
      "dropout_11 (Dropout)            (None, 400)          0           dense_6[0][0]                    \n",
      "__________________________________________________________________________________________________\n",
      "dense_7 (Dense)                 (None, 400)          160400      dropout_11[0][0]                 \n",
      "__________________________________________________________________________________________________\n",
      "dropout_12 (Dropout)            (None, 400)          0           dense_7[0][0]                    \n",
      "__________________________________________________________________________________________________\n",
      "dense_8 (Dense)                 (None, 5)            2005        dropout_12[0][0]                 \n",
      "==================================================================================================\n",
      "Total params: 263,512,507\n",
      "Trainable params: 6,714,683\n",
      "Non-trainable params: 256,797,824\n",
      "__________________________________________________________________________________________________\n"
     ]
    },
    {
     "data": {
      "image/png": "[encoded data removed]",
      "text/plain": [
       "<IPython.core.display.Image object>"
      ]
     },
     "execution_count": 63,
     "metadata": {},
     "output_type": "execute_result"
    }
   ],
   "source": [
    "# Get summary of Conv1D model\n",
    "model_4.summary()\n",
    "tf.keras.utils.plot_model(model_4, to_file='Model_4_token_and_char_embeddings.png')"
   ]
  },
  {
   "cell_type": "code",
   "execution_count": 64,
   "id": "858ff237-a170-479b-aeaa-7fd7dbef56b5",
   "metadata": {},
   "outputs": [
    {
     "name": "stdout",
     "output_type": "stream",
     "text": [
      "Epoch 1/20\n"
     ]
    },
    {
     "name": "stderr",
     "output_type": "stream",
     "text": [
      "2021-10-29 11:50:22.788355: I tensorflow/stream_executor/cuda/cuda_dnn.cc:369] Loaded cuDNN version 8204\n"
     ]
    },
    {
     "name": "stdout",
     "output_type": "stream",
     "text": [
      "1407/1407 [==============================] - 872s 610ms/step - loss: 0.9003 - accuracy: 0.6407 - val_loss: 0.7013 - val_accuracy: 0.7365\n",
      "Epoch 2/20\n",
      "1407/1407 [==============================] - 863s 613ms/step - loss: 0.7527 - accuracy: 0.7264 - val_loss: 0.6645 - val_accuracy: 0.7593\n",
      "Epoch 3/20\n",
      "1407/1407 [==============================] - 861s 612ms/step - loss: 0.7139 - accuracy: 0.7405 - val_loss: 0.6454 - val_accuracy: 0.7652\n",
      "Epoch 4/20\n",
      "1407/1407 [==============================] - 860s 611ms/step - loss: 0.6973 - accuracy: 0.7478 - val_loss: 0.6326 - val_accuracy: 0.7699\n",
      "Epoch 5/20\n",
      "1407/1407 [==============================] - 863s 614ms/step - loss: 0.6821 - accuracy: 0.7534 - val_loss: 0.6273 - val_accuracy: 0.7738\n",
      "Epoch 6/20\n",
      "1407/1407 [==============================] - 861s 612ms/step - loss: 0.6685 - accuracy: 0.7584 - val_loss: 0.6177 - val_accuracy: 0.7745\n",
      "Epoch 7/20\n",
      "1407/1407 [==============================] - 860s 611ms/step - loss: 0.6600 - accuracy: 0.7600 - val_loss: 0.6129 - val_accuracy: 0.7766\n",
      "Epoch 8/20\n",
      "1407/1407 [==============================] - 861s 612ms/step - loss: 0.6532 - accuracy: 0.7634 - val_loss: 0.6183 - val_accuracy: 0.7739\n",
      "Epoch 9/20\n",
      "1407/1407 [==============================] - 862s 613ms/step - loss: 0.6478 - accuracy: 0.7647 - val_loss: 0.6118 - val_accuracy: 0.7767\n",
      "Epoch 10/20\n",
      "1407/1407 [==============================] - 861s 612ms/step - loss: 0.6414 - accuracy: 0.7680 - val_loss: 0.6111 - val_accuracy: 0.7753\n",
      "Epoch 11/20\n",
      "1407/1407 [==============================] - 860s 611ms/step - loss: 0.6377 - accuracy: 0.7691 - val_loss: 0.6031 - val_accuracy: 0.7730\n",
      "Epoch 12/20\n",
      "1407/1407 [==============================] - 860s 611ms/step - loss: 0.6372 - accuracy: 0.7690 - val_loss: 0.6080 - val_accuracy: 0.7774\n",
      "Epoch 13/20\n",
      "1407/1407 [==============================] - 859s 611ms/step - loss: 0.6321 - accuracy: 0.7712 - val_loss: 0.6079 - val_accuracy: 0.7783\n",
      "Epoch 14/20\n",
      "1407/1407 [==============================] - 860s 611ms/step - loss: 0.6299 - accuracy: 0.7725 - val_loss: 0.6023 - val_accuracy: 0.7779\n",
      "Epoch 15/20\n",
      "1407/1407 [==============================] - 859s 611ms/step - loss: 0.6251 - accuracy: 0.7732 - val_loss: 0.6092 - val_accuracy: 0.7754\n",
      "Epoch 16/20\n",
      "1407/1407 [==============================] - 860s 611ms/step - loss: 0.6247 - accuracy: 0.7745 - val_loss: 0.5957 - val_accuracy: 0.7792\n",
      "Epoch 17/20\n",
      "1407/1407 [==============================] - 859s 611ms/step - loss: 0.6215 - accuracy: 0.7759 - val_loss: 0.6048 - val_accuracy: 0.7785\n",
      "Epoch 18/20\n",
      "1407/1407 [==============================] - 859s 610ms/step - loss: 0.6182 - accuracy: 0.7768 - val_loss: 0.6073 - val_accuracy: 0.7772\n",
      "Epoch 19/20\n",
      "1407/1407 [==============================] - 859s 610ms/step - loss: 0.6177 - accuracy: 0.7766 - val_loss: 0.6070 - val_accuracy: 0.7794\n",
      "Epoch 20/20\n",
      "1407/1407 [==============================] - 859s 611ms/step - loss: 0.6168 - accuracy: 0.7759 - val_loss: 0.6063 - val_accuracy: 0.7760\n"
     ]
    }
   ],
   "source": [
    "# Fit the model\n",
    "model_4_history = model_4.fit(train_char_token_dataset,\n",
    "                              epochs=20,\n",
    "                              validation_data=val_char_token_dataset)"
   ]
  },
  {
   "cell_type": "markdown",
   "id": "601e1f54-d0bd-4991-b698-db6572bd91b3",
   "metadata": {},
   "source": [
    "#### EVALUATION RESULT"
   ]
  },
  {
   "cell_type": "code",
   "execution_count": 65,
   "id": "6359c9ad-0480-4715-82db-b498185208a0",
   "metadata": {},
   "outputs": [],
   "source": [
    "def learning_curves(history):\n",
    "    pd.DataFrame(history.history).plot(figsize=(20, 8))\n",
    "    plt.grid(True)\n",
    "    plt.title('Learning curves')\n",
    "    plt.gca().set_ylim(0, 1)\n",
    "    plt.show()\n",
    "\n",
    "\n",
    "def evaluation_model(history):\n",
    "    fig, (axL, axR) = plt.subplots(ncols=2, figsize=(20, 8))\n",
    "    axL.plot(history.history['loss'], label=\"Training loss\")\n",
    "    axL.plot(history.history['val_loss'], label=\"Validation loss\")\n",
    "    axL.set_title('Training and Validation loss')\n",
    "    axL.set_xlabel('Epochs')\n",
    "    axL.set_ylabel('Loss')\n",
    "    axL.legend(loc='upper right')\n",
    "\n",
    "    axR.plot(history.history['accuracy'], label=\"Training accuracy\")\n",
    "    axR.plot(history.history['val_accuracy'], label=\"Validation accuracy\")\n",
    "    axR.set_title('Training and Validation accuracy')\n",
    "    axR.set_xlabel('Epoch')\n",
    "    axR.set_ylabel('Accuracy')\n",
    "    axR.legend(loc='upper right')\n",
    "\n",
    "    plt.show()"
   ]
  },
  {
   "cell_type": "code",
   "execution_count": 66,
   "id": "5138dc73-dc28-4e27-93dd-3ef61c6c7407",
   "metadata": {},
   "outputs": [
    {
     "data": {
      "image/png": "[encoded data removed]",
      "text/plain": [
       "<Figure size 1440x576 with 1 Axes>"
      ]
     },
     "metadata": {},
     "output_type": "display_data"
    }
   ],
   "source": [
    "# Learning curves\n",
    "learning_curves(model_4_history)"
   ]
  },
  {
   "cell_type": "code",
   "execution_count": 67,
   "id": "61e94602-0c5e-4403-94ae-a3e0a09385ca",
   "metadata": {},
   "outputs": [
    {
     "data": {
      "image/png": "[encoded data removed]",
      "text/plain": [
       "<Figure size 1440x576 with 2 Axes>"
      ]
     },
     "metadata": {},
     "output_type": "display_data"
    }
   ],
   "source": [
    "# Evaluation model\n",
    "evaluation_model(model_4_history)"
   ]
  },
  {
   "cell_type": "code",
   "execution_count": 69,
   "id": "d81f217b-821d-48ad-be63-908611f7dc8f",
   "metadata": {},
   "outputs": [
    {
     "name": "stdout",
     "output_type": "stream",
     "text": [
      "237/237 [==============================] - 49s 204ms/step - loss: 0.6063 - accuracy: 0.7760\n"
     ]
    },
    {
     "data": {
      "text/plain": [
       "[0.6063132882118225, 0.7760161757469177]"
      ]
     },
     "execution_count": 69,
     "metadata": {},
     "output_type": "execute_result"
    }
   ],
   "source": [
    "# Evaluate the results\n",
    "model_4.evaluate(val_char_token_dataset)"
   ]
  },
  {
   "cell_type": "code",
   "execution_count": 71,
   "id": "ec034903-23f4-4ff5-8ce9-57ec84a6ea1b",
   "metadata": {},
   "outputs": [
    {
     "data": {
      "text/plain": [
       "array([[6.12214744e-01, 1.50777325e-01, 2.34296452e-02, 2.00245172e-01,\n",
       "        1.33331725e-02],\n",
       "       [5.92015803e-01, 1.67233542e-01, 2.60232314e-02, 1.98319033e-01,\n",
       "        1.64083932e-02],\n",
       "       [4.72567648e-01, 5.96852899e-02, 5.33382818e-02, 4.04456824e-01,\n",
       "        9.95196123e-03],\n",
       "       ...,\n",
       "       [4.60690819e-04, 1.67928226e-02, 4.88056503e-02, 1.23172838e-04,\n",
       "        9.33817625e-01],\n",
       "       [5.20323738e-02, 1.25677407e-01, 3.30295950e-01, 3.21929455e-02,\n",
       "        4.59801316e-01],\n",
       "       [2.60385573e-02, 9.58029091e-01, 3.68455774e-04, 2.73340987e-03,\n",
       "        1.28305955e-02]], dtype=float32)"
      ]
     },
     "execution_count": 71,
     "metadata": {},
     "output_type": "execute_result"
    }
   ],
   "source": [
    "# Predictions\n",
    "model_4_pred_probs = model_4.predict(val_char_token_dataset)\n",
    "model_4_pred_probs"
   ]
  },
  {
   "cell_type": "code",
   "execution_count": 72,
   "id": "8a6e1789-f8b3-435f-967c-eda3c3c4a158",
   "metadata": {},
   "outputs": [
    {
     "data": {
      "text/plain": [
       "<tf.Tensor: shape=(30212,), dtype=int64, numpy=array([0, 0, 0, ..., 4, 4, 1])>"
      ]
     },
     "execution_count": 72,
     "metadata": {},
     "output_type": "execute_result"
    }
   ],
   "source": [
    "# Convert pred probs to classes\n",
    "model_4_preds = tf.argmax(model_4_pred_probs, axis=1)\n",
    "model_4_preds"
   ]
  },
  {
   "cell_type": "code",
   "execution_count": 74,
   "id": "ebf047d2-6df8-4342-95fc-c4db1735ef17",
   "metadata": {},
   "outputs": [
    {
     "data": {
      "text/plain": [
       "{'accuracy': 77.60161525221766,\n",
       " 'precision': 0.793885892243717,\n",
       " 'recall': 0.7760161525221766,\n",
       " 'f1': 0.7707710643526031}"
      ]
     },
     "execution_count": 74,
     "metadata": {},
     "output_type": "execute_result"
    }
   ],
   "source": [
    "# Calculate model_1 results\n",
    "model_4_results = calculate_results(y_true=val_labels_encoded,\n",
    "                                    y_pred=model_4_preds)\n",
    "model_4_results"
   ]
  },
  {
   "cell_type": "code",
   "execution_count": 75,
   "id": "26184f81-3285-4e25-bfb1-11e997bfda97",
   "metadata": {},
   "outputs": [
    {
     "name": "stderr",
     "output_type": "stream",
     "text": [
      "2021-10-29 17:24:30.522004: W tensorflow/python/util/util.cc:348] Sets are not currently considered sequences, but this may change in the future, so consider avoiding using them.\n",
      "WARNING:absl:Found untraced functions such as lstm_cell_1_layer_call_and_return_conditional_losses, lstm_cell_1_layer_call_fn, lstm_cell_2_layer_call_and_return_conditional_losses, lstm_cell_2_layer_call_fn, lstm_cell_4_layer_call_and_return_conditional_losses while saving (showing 5 of 60). These functions will not be directly callable after loading.\n"
     ]
    },
    {
     "name": "stdout",
     "output_type": "stream",
     "text": [
      "INFO:tensorflow:Assets written to: Model_4_token_and_char_embeddings/assets\n"
     ]
    },
    {
     "name": "stderr",
     "output_type": "stream",
     "text": [
      "INFO:tensorflow:Assets written to: Model_4_token_and_char_embeddings/assets\n"
     ]
    }
   ],
   "source": [
    "# Save model \n",
    "model_4.save(\"Model_4_token_and_char_embeddings\")"
   ]
  },
  {
   "cell_type": "code",
   "execution_count": null,
   "id": "43df6e5e-d087-47b2-867c-9b670bd23031",
   "metadata": {},
   "outputs": [],
   "source": []
  }
 ],
 "metadata": {
  "kernelspec": {
   "display_name": "Python 3 (ipykernel)",
   "language": "python",
   "name": "python3"
  },
  "language_info": {
   "codemirror_mode": {
    "name": "ipython",
    "version": 3
   },
   "file_extension": ".py",
   "mimetype": "text/x-python",
   "name": "python",
   "nbconvert_exporter": "python",
   "pygments_lexer": "ipython3",
   "version": "3.8.12"
  }
 },
 "nbformat": 4,
 "nbformat_minor": 5
}
