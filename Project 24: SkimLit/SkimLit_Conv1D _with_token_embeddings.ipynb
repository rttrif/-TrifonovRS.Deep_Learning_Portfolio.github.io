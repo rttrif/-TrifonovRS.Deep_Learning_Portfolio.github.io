{
 "cells": [
  {
   "cell_type": "markdown",
   "id": "84e63b46-d07d-40b2-a521-023aa3efb7aa",
   "metadata": {},
   "source": [
    "## PROJECT 24: SkimLit \n",
    "\n",
    "> ### TASK: Create an NLP model to classify abstract sentences into the role they play (e.g. objective, methods, results, etc) to enable researchers to skim through the literature (hence SkimLit) and dive deeper when necessary.\n",
    "\n",
    "\n",
    "### Project goals and objectives\n",
    "\n",
    "#### Project goal\n",
    "\n",
    "- Studying **ANN model for sequential sentence classification**\n",
    "\n",
    "#### Project objectives\n",
    "\n",
    "1. [x] Explore and prepare data \n",
    "1. [x] TF-IDF classifier\n",
    "2. [x] Conv1D with token embeddings\n",
    "3. [ ] Feature extraction with pretrained token embeddings\n",
    "4. [ ] Conv1D with character embeddings\n",
    "5. [ ] Combining pretrained token embeddings + character embeddings (hybrid embedding layer\n",
    "6. [ ] Transfer Learning with pretrained token embeddings + character embeddings + positional embeddings\n"
   ]
  },
  {
   "cell_type": "markdown",
   "id": "0505c3c5-2a7b-4c0e-b7cb-da3775b68458",
   "metadata": {},
   "source": [
    "### IMPORT LIBRARIES"
   ]
  },
  {
   "cell_type": "code",
   "execution_count": 1,
   "id": "5f493cd2-fcf3-4557-89d1-f72eaccc43ca",
   "metadata": {},
   "outputs": [],
   "source": [
    "import os\n",
    "import pandas as pd\n",
    "import numpy as np\n",
    "import matplotlib.pyplot as plt\n",
    "plt.style.use('bmh')\n",
    "import seaborn as sns\n",
    "sns.set_style('whitegrid')\n",
    "sns.set_palette('dark')\n",
    "import random\n",
    "import string\n",
    "\n",
    "from sklearn.preprocessing import OneHotEncoder\n",
    "from sklearn.preprocessing import LabelEncoder\n",
    "from sklearn.feature_extraction.text import TfidfVectorizer\n",
    "from sklearn.naive_bayes import MultinomialNB\n",
    "from sklearn.pipeline import Pipeline\n",
    "\n",
    "import tensorflow as tf\n",
    "from tensorflow.keras.layers import Conv1D, GlobalMaxPool1D, Dropout, Dense,GlobalAveragePooling1D, Input, Embedding, MaxPool1D, Flatten\n",
    "from tensorflow.keras.layers.experimental.preprocessing import TextVectorization\n",
    "from tensorflow.keras.models import Model\n",
    "from tensorflow.keras.utils import plot_model\n",
    "\n",
    "import tensorflow_hub as hub\n",
    "\n",
    "from helper_functions import calculate_results"
   ]
  },
  {
   "cell_type": "code",
   "execution_count": 2,
   "id": "87f1cbde-a4c5-486d-978f-232575b7ca19",
   "metadata": {},
   "outputs": [
    {
     "name": "stdout",
     "output_type": "stream",
     "text": [
      "GPU 0: NVIDIA GeForce RTX 2060 (UUID: GPU-9dc3685b-6a88-c130-be43-7b38ad2c7abc)\n"
     ]
    }
   ],
   "source": [
    "!nvidia-smi -L"
   ]
  },
  {
   "cell_type": "markdown",
   "id": "4e1ad5c9-ddfa-4d1b-ab0e-a8d7cb5856e0",
   "metadata": {},
   "source": [
    "### GET DATA"
   ]
  },
  {
   "cell_type": "code",
   "execution_count": 3,
   "id": "c59891ee-eefd-4817-8d66-666466774256",
   "metadata": {},
   "outputs": [
    {
     "name": "stdout",
     "output_type": "stream",
     "text": [
      "fatal: destination path 'pubmed-rct' already exists and is not an empty directory.\n",
      "PubMed_200k_RCT\n",
      "PubMed_200k_RCT_numbers_replaced_with_at_sign\n",
      "PubMed_20k_RCT\n",
      "PubMed_20k_RCT_numbers_replaced_with_at_sign\n",
      "README.md\n"
     ]
    }
   ],
   "source": [
    "# Copy data\n",
    "!git clone https://github.com/Franck-Dernoncourt/pubmed-rct.git\n",
    "!ls pubmed-rct"
   ]
  },
  {
   "cell_type": "code",
   "execution_count": 4,
   "id": "35797102-4221-41ad-bf29-a5a79c206cc3",
   "metadata": {},
   "outputs": [
    {
     "name": "stdout",
     "output_type": "stream",
     "text": [
      "dev.txt  test.txt  train.txt\n"
     ]
    }
   ],
   "source": [
    "# Check files in the dataset\n",
    "!ls pubmed-rct/PubMed_20k_RCT_numbers_replaced_with_at_sign"
   ]
  },
  {
   "cell_type": "code",
   "execution_count": 5,
   "id": "cae364c9-a588-4502-b9b4-00b0a343e49f",
   "metadata": {},
   "outputs": [],
   "source": [
    "# Path to data\n",
    "data_dir = \"pubmed-rct/PubMed_20k_RCT_numbers_replaced_with_at_sign/\""
   ]
  },
  {
   "cell_type": "code",
   "execution_count": 6,
   "id": "0a777e49-9772-41aa-be0d-e6fe858bd5ae",
   "metadata": {},
   "outputs": [
    {
     "data": {
      "text/plain": [
       "['pubmed-rct/PubMed_20k_RCT_numbers_replaced_with_at_sign/test.txt',\n",
       " 'pubmed-rct/PubMed_20k_RCT_numbers_replaced_with_at_sign/train.txt',\n",
       " 'pubmed-rct/PubMed_20k_RCT_numbers_replaced_with_at_sign/dev.txt']"
      ]
     },
     "execution_count": 6,
     "metadata": {},
     "output_type": "execute_result"
    }
   ],
   "source": [
    "# Check all of the filenames in the target directory\n",
    "filenames = [data_dir + filename for filename in os.listdir(data_dir)]\n",
    "filenames"
   ]
  },
  {
   "cell_type": "markdown",
   "id": "3d12f114-1081-4459-a078-5aef445d63c0",
   "metadata": {},
   "source": [
    "### DATA PREPROCESSING"
   ]
  },
  {
   "cell_type": "code",
   "execution_count": 7,
   "id": "8fb8c4c2-7622-4a2c-b4f2-8ea27490815e",
   "metadata": {},
   "outputs": [],
   "source": [
    "# Read the lines of a document\n",
    "def get_lines(filename):\n",
    "    with open(filename, \"r\") as f:\n",
    "        return f.readlines()"
   ]
  },
  {
   "cell_type": "code",
   "execution_count": 8,
   "id": "1ba2a2e9-5275-45bd-8e6d-e0b7d80587d1",
   "metadata": {},
   "outputs": [
    {
     "data": {
      "text/plain": [
       "['###24293578\\n',\n",
       " 'OBJECTIVE\\tTo investigate the efficacy of @ weeks of daily low-dose oral prednisolone in improving pain , mobility , and systemic low-grade inflammation in the short term and whether the effect would be sustained at @ weeks in older adults with moderate to severe knee osteoarthritis ( OA ) .\\n',\n",
       " 'METHODS\\tA total of @ patients with primary knee OA were randomized @:@ ; @ received @ mg/day of prednisolone and @ received placebo for @ weeks .\\n',\n",
       " 'METHODS\\tOutcome measures included pain reduction and improvement in function scores and systemic inflammation markers .\\n',\n",
       " 'METHODS\\tPain was assessed using the visual analog pain scale ( @-@ mm ) .\\n',\n",
       " 'METHODS\\tSecondary outcome measures included the Western Ontario and McMaster Universities Osteoarthritis Index scores , patient global assessment ( PGA ) of the severity of knee OA , and @-min walk distance ( @MWD ) .\\n',\n",
       " 'METHODS\\tSerum levels of interleukin @ ( IL-@ ) , IL-@ , tumor necrosis factor ( TNF ) - , and high-sensitivity C-reactive protein ( hsCRP ) were measured .\\n',\n",
       " 'RESULTS\\tThere was a clinically relevant reduction in the intervention group compared to the placebo group for knee pain , physical function , PGA , and @MWD at @ weeks .\\n',\n",
       " 'RESULTS\\tThe mean difference between treatment arms ( @ % CI ) was @ ( @-@ @ ) , p < @ ; @ ( @-@ @ ) , p < @ ; @ ( @-@ @ ) , p < @ ; and @ ( @-@ @ ) , p < @ , respectively .\\n',\n",
       " 'RESULTS\\tFurther , there was a clinically relevant reduction in the serum levels of IL-@ , IL-@ , TNF - , and hsCRP at @ weeks in the intervention group when compared to the placebo group .\\n']"
      ]
     },
     "execution_count": 8,
     "metadata": {},
     "output_type": "execute_result"
    }
   ],
   "source": [
    "# Read train data \n",
    "train_lines = get_lines(data_dir + \"train.txt\")\n",
    "train_lines[:10]"
   ]
  },
  {
   "cell_type": "code",
   "execution_count": 9,
   "id": "64bc77d1-72f3-48cd-bfc5-982ce9467fc1",
   "metadata": {},
   "outputs": [],
   "source": [
    "# A list of dictionaries of abstract line data\n",
    "\n",
    "def preprocess_text_with_line_numbers(filename):\n",
    "    \n",
    "  input_lines = get_lines(filename) # get all lines from filename\n",
    "  abstract_lines = \"\" # create an empty abstract\n",
    "  abstract_samples = [] # create an empty list of abstracts\n",
    "  \n",
    "  # Loop through each line in target file\n",
    "  for line in input_lines:\n",
    "    if line.startswith(\"###\"): # check to see if line is an ID line\n",
    "      abstract_id = line\n",
    "      abstract_lines = \"\" # reset abstract string\n",
    "    elif line.isspace(): # check to see if line is a new line\n",
    "      abstract_line_split = abstract_lines.splitlines() # split abstract into separate lines\n",
    "\n",
    "      # Iterate through each line in abstract and count them at the same time\n",
    "      for abstract_line_number, abstract_line in enumerate(abstract_line_split):\n",
    "        line_data = {} # create empty dict to store data from line\n",
    "        target_text_split = abstract_line.split(\"\\t\") # split target label from text\n",
    "        line_data[\"target\"] = target_text_split[0] # get target label\n",
    "        line_data[\"text\"] = target_text_split[1].lower() # get target text and lower it\n",
    "        line_data[\"line_number\"] = abstract_line_number # what number line does the line appear in the abstract?\n",
    "        line_data[\"total_lines\"] = len(abstract_line_split) - 1 # how many total lines are in the abstract? (start from 0)\n",
    "        abstract_samples.append(line_data) # add line data to abstract samples list\n",
    "    \n",
    "    else: # if the above conditions aren't fulfilled, the line contains a labelled sentence\n",
    "      abstract_lines += line\n",
    "  \n",
    "  return abstract_samples"
   ]
  },
  {
   "cell_type": "code",
   "execution_count": 10,
   "id": "54899e2a-1f0c-4742-8282-05f2e3f125d3",
   "metadata": {},
   "outputs": [
    {
     "data": {
      "text/plain": [
       "(180040, 30212, 30135)"
      ]
     },
     "execution_count": 10,
     "metadata": {},
     "output_type": "execute_result"
    }
   ],
   "source": [
    "# Preprocess data \n",
    "train_samples = preprocess_text_with_line_numbers(data_dir + \"train.txt\")\n",
    "val_samples = preprocess_text_with_line_numbers(data_dir + \"dev.txt\") \n",
    "test_samples = preprocess_text_with_line_numbers(data_dir + \"test.txt\")\n",
    "\n",
    "len(train_samples), len(val_samples), len(test_samples)"
   ]
  },
  {
   "cell_type": "code",
   "execution_count": 11,
   "id": "3bf7b45f-64d0-4086-a263-5ef6a1e6ba9b",
   "metadata": {},
   "outputs": [
    {
     "data": {
      "text/plain": [
       "[{'target': 'OBJECTIVE',\n",
       "  'text': 'to investigate the efficacy of @ weeks of daily low-dose oral prednisolone in improving pain , mobility , and systemic low-grade inflammation in the short term and whether the effect would be sustained at @ weeks in older adults with moderate to severe knee osteoarthritis ( oa ) .',\n",
       "  'line_number': 0,\n",
       "  'total_lines': 11},\n",
       " {'target': 'METHODS',\n",
       "  'text': 'a total of @ patients with primary knee oa were randomized @:@ ; @ received @ mg/day of prednisolone and @ received placebo for @ weeks .',\n",
       "  'line_number': 1,\n",
       "  'total_lines': 11},\n",
       " {'target': 'METHODS',\n",
       "  'text': 'outcome measures included pain reduction and improvement in function scores and systemic inflammation markers .',\n",
       "  'line_number': 2,\n",
       "  'total_lines': 11},\n",
       " {'target': 'METHODS',\n",
       "  'text': 'pain was assessed using the visual analog pain scale ( @-@ mm ) .',\n",
       "  'line_number': 3,\n",
       "  'total_lines': 11},\n",
       " {'target': 'METHODS',\n",
       "  'text': 'secondary outcome measures included the western ontario and mcmaster universities osteoarthritis index scores , patient global assessment ( pga ) of the severity of knee oa , and @-min walk distance ( @mwd ) .',\n",
       "  'line_number': 4,\n",
       "  'total_lines': 11}]"
      ]
     },
     "execution_count": 11,
     "metadata": {},
     "output_type": "execute_result"
    }
   ],
   "source": [
    "# Check result\n",
    "train_samples[:5]"
   ]
  },
  {
   "cell_type": "code",
   "execution_count": 12,
   "id": "16ee71f5-559b-4d99-9690-cc4156175913",
   "metadata": {},
   "outputs": [],
   "source": [
    "# Create dataframe\n",
    "train_df = pd.DataFrame(train_samples)\n",
    "val_df = pd.DataFrame(val_samples)\n",
    "test_df = pd.DataFrame(test_samples)"
   ]
  },
  {
   "cell_type": "code",
   "execution_count": 13,
   "id": "9fb18d5f-3272-4c3f-9d5e-d479097edee3",
   "metadata": {},
   "outputs": [
    {
     "data": {
      "text/html": [
       "<div>\n",
       "<style scoped>\n",
       "    .dataframe tbody tr th:only-of-type {\n",
       "        vertical-align: middle;\n",
       "    }\n",
       "\n",
       "    .dataframe tbody tr th {\n",
       "        vertical-align: top;\n",
       "    }\n",
       "\n",
       "    .dataframe thead th {\n",
       "        text-align: right;\n",
       "    }\n",
       "</style>\n",
       "<table border=\"1\" class=\"dataframe\">\n",
       "  <thead>\n",
       "    <tr style=\"text-align: right;\">\n",
       "      <th></th>\n",
       "      <th>target</th>\n",
       "      <th>text</th>\n",
       "      <th>line_number</th>\n",
       "      <th>total_lines</th>\n",
       "    </tr>\n",
       "  </thead>\n",
       "  <tbody>\n",
       "    <tr>\n",
       "      <th>0</th>\n",
       "      <td>OBJECTIVE</td>\n",
       "      <td>to investigate the efficacy of @ weeks of dail...</td>\n",
       "      <td>0</td>\n",
       "      <td>11</td>\n",
       "    </tr>\n",
       "    <tr>\n",
       "      <th>1</th>\n",
       "      <td>METHODS</td>\n",
       "      <td>a total of @ patients with primary knee oa wer...</td>\n",
       "      <td>1</td>\n",
       "      <td>11</td>\n",
       "    </tr>\n",
       "    <tr>\n",
       "      <th>2</th>\n",
       "      <td>METHODS</td>\n",
       "      <td>outcome measures included pain reduction and i...</td>\n",
       "      <td>2</td>\n",
       "      <td>11</td>\n",
       "    </tr>\n",
       "  </tbody>\n",
       "</table>\n",
       "</div>"
      ],
      "text/plain": [
       "      target                                               text  line_number  \\\n",
       "0  OBJECTIVE  to investigate the efficacy of @ weeks of dail...            0   \n",
       "1    METHODS  a total of @ patients with primary knee oa wer...            1   \n",
       "2    METHODS  outcome measures included pain reduction and i...            2   \n",
       "\n",
       "   total_lines  \n",
       "0           11  \n",
       "1           11  \n",
       "2           11  "
      ]
     },
     "execution_count": 13,
     "metadata": {},
     "output_type": "execute_result"
    }
   ],
   "source": [
    "train_df.head(3)"
   ]
  },
  {
   "cell_type": "code",
   "execution_count": 14,
   "id": "75ffcd63-359e-4466-8893-4c3bc8b898a5",
   "metadata": {},
   "outputs": [
    {
     "data": {
      "text/html": [
       "<div>\n",
       "<style scoped>\n",
       "    .dataframe tbody tr th:only-of-type {\n",
       "        vertical-align: middle;\n",
       "    }\n",
       "\n",
       "    .dataframe tbody tr th {\n",
       "        vertical-align: top;\n",
       "    }\n",
       "\n",
       "    .dataframe thead th {\n",
       "        text-align: right;\n",
       "    }\n",
       "</style>\n",
       "<table border=\"1\" class=\"dataframe\">\n",
       "  <thead>\n",
       "    <tr style=\"text-align: right;\">\n",
       "      <th></th>\n",
       "      <th>target</th>\n",
       "      <th>text</th>\n",
       "      <th>line_number</th>\n",
       "      <th>total_lines</th>\n",
       "    </tr>\n",
       "  </thead>\n",
       "  <tbody>\n",
       "    <tr>\n",
       "      <th>0</th>\n",
       "      <td>BACKGROUND</td>\n",
       "      <td>ige sensitization to aspergillus fumigatus and...</td>\n",
       "      <td>0</td>\n",
       "      <td>9</td>\n",
       "    </tr>\n",
       "    <tr>\n",
       "      <th>1</th>\n",
       "      <td>BACKGROUND</td>\n",
       "      <td>it is not clear whether these patients would b...</td>\n",
       "      <td>1</td>\n",
       "      <td>9</td>\n",
       "    </tr>\n",
       "    <tr>\n",
       "      <th>2</th>\n",
       "      <td>OBJECTIVE</td>\n",
       "      <td>we sought to determine whether a @-month cours...</td>\n",
       "      <td>2</td>\n",
       "      <td>9</td>\n",
       "    </tr>\n",
       "  </tbody>\n",
       "</table>\n",
       "</div>"
      ],
      "text/plain": [
       "       target                                               text  line_number  \\\n",
       "0  BACKGROUND  ige sensitization to aspergillus fumigatus and...            0   \n",
       "1  BACKGROUND  it is not clear whether these patients would b...            1   \n",
       "2   OBJECTIVE  we sought to determine whether a @-month cours...            2   \n",
       "\n",
       "   total_lines  \n",
       "0            9  \n",
       "1            9  \n",
       "2            9  "
      ]
     },
     "execution_count": 14,
     "metadata": {},
     "output_type": "execute_result"
    }
   ],
   "source": [
    "val_df.head(3)"
   ]
  },
  {
   "cell_type": "code",
   "execution_count": 15,
   "id": "f0383a0a-4e31-4097-9208-00c35189b125",
   "metadata": {},
   "outputs": [
    {
     "data": {
      "text/html": [
       "<div>\n",
       "<style scoped>\n",
       "    .dataframe tbody tr th:only-of-type {\n",
       "        vertical-align: middle;\n",
       "    }\n",
       "\n",
       "    .dataframe tbody tr th {\n",
       "        vertical-align: top;\n",
       "    }\n",
       "\n",
       "    .dataframe thead th {\n",
       "        text-align: right;\n",
       "    }\n",
       "</style>\n",
       "<table border=\"1\" class=\"dataframe\">\n",
       "  <thead>\n",
       "    <tr style=\"text-align: right;\">\n",
       "      <th></th>\n",
       "      <th>target</th>\n",
       "      <th>text</th>\n",
       "      <th>line_number</th>\n",
       "      <th>total_lines</th>\n",
       "    </tr>\n",
       "  </thead>\n",
       "  <tbody>\n",
       "    <tr>\n",
       "      <th>0</th>\n",
       "      <td>BACKGROUND</td>\n",
       "      <td>this study analyzed liver function abnormaliti...</td>\n",
       "      <td>0</td>\n",
       "      <td>8</td>\n",
       "    </tr>\n",
       "    <tr>\n",
       "      <th>1</th>\n",
       "      <td>RESULTS</td>\n",
       "      <td>a post hoc analysis was conducted with the use...</td>\n",
       "      <td>1</td>\n",
       "      <td>8</td>\n",
       "    </tr>\n",
       "    <tr>\n",
       "      <th>2</th>\n",
       "      <td>RESULTS</td>\n",
       "      <td>liver function tests ( lfts ) were measured at...</td>\n",
       "      <td>2</td>\n",
       "      <td>8</td>\n",
       "    </tr>\n",
       "  </tbody>\n",
       "</table>\n",
       "</div>"
      ],
      "text/plain": [
       "       target                                               text  line_number  \\\n",
       "0  BACKGROUND  this study analyzed liver function abnormaliti...            0   \n",
       "1     RESULTS  a post hoc analysis was conducted with the use...            1   \n",
       "2     RESULTS  liver function tests ( lfts ) were measured at...            2   \n",
       "\n",
       "   total_lines  \n",
       "0            8  \n",
       "1            8  \n",
       "2            8  "
      ]
     },
     "execution_count": 15,
     "metadata": {},
     "output_type": "execute_result"
    }
   ],
   "source": [
    "test_df.head(3)"
   ]
  },
  {
   "cell_type": "markdown",
   "id": "93c72aba-05a2-488f-9fe1-267441f55826",
   "metadata": {},
   "source": [
    "### EXPLORATORY DATA ANALISIS"
   ]
  },
  {
   "cell_type": "code",
   "execution_count": 16,
   "id": "7e49fb11-0833-4b3a-a869-69710a699319",
   "metadata": {},
   "outputs": [
    {
     "data": {
      "text/plain": [
       "METHODS        59353\n",
       "RESULTS        57953\n",
       "CONCLUSIONS    27168\n",
       "BACKGROUND     21727\n",
       "OBJECTIVE      13839\n",
       "Name: target, dtype: int64"
      ]
     },
     "execution_count": 16,
     "metadata": {},
     "output_type": "execute_result"
    }
   ],
   "source": [
    "# Distribution of labels in training data\n",
    "train_df.target.value_counts()"
   ]
  },
  {
   "cell_type": "code",
   "execution_count": 17,
   "id": "435fc7d1-4683-40a0-b757-540588c09b1e",
   "metadata": {},
   "outputs": [
    {
     "data": {
      "image/png": "[encoded data removed]",
      "text/plain": [
       "<Figure size 1152x360 with 1 Axes>"
      ]
     },
     "metadata": {},
     "output_type": "display_data"
    }
   ],
   "source": [
    "plt.figure(figsize=(16,5))\n",
    "plt.xticks(rotation=90)\n",
    "ax= sns.countplot(x='total_lines', data= train_df, order = train_df['total_lines'].value_counts().index)"
   ]
  },
  {
   "cell_type": "code",
   "execution_count": 18,
   "id": "32989777-c393-4201-b04f-6f05fc9638c5",
   "metadata": {},
   "outputs": [
    {
     "data": {
      "image/png": "[encoded data removed]",
      "text/plain": [
       "<Figure size 720x432 with 1 Axes>"
      ]
     },
     "metadata": {},
     "output_type": "display_data"
    }
   ],
   "source": [
    "#Distribution of number of abstract lengths\n",
    "plt.figure(figsize=(10,6))\n",
    "sns.histplot(data=train_df[\"total_lines\"], bins=25)\n",
    "plt.title('The distribution of abstract lengths',fontweight=\"bold\")\n",
    "plt.show()"
   ]
  },
  {
   "cell_type": "code",
   "execution_count": 19,
   "id": "6757452e-0050-47e4-88bd-6d350ef30b83",
   "metadata": {},
   "outputs": [
    {
     "data": {
      "text/plain": [
       "<AxesSubplot:xlabel='total_lines', ylabel='count'>"
      ]
     },
     "execution_count": 19,
     "metadata": {},
     "output_type": "execute_result"
    },
    {
     "data": {
      "image/png": "[encoded data removed]",
      "text/plain": [
       "<Figure size 1152x432 with 1 Axes>"
      ]
     },
     "metadata": {},
     "output_type": "display_data"
    }
   ],
   "source": [
    "plt.figure(figsize=(16,6))\n",
    "sns.countplot(x='total_lines', data= train_df)"
   ]
  },
  {
   "cell_type": "code",
   "execution_count": 20,
   "id": "76bf0e81-0569-4309-9ff3-db5d79ee42ab",
   "metadata": {
    "tags": []
   },
   "outputs": [
    {
     "data": {
      "text/plain": [
       "(180040, 30212, 30135)"
      ]
     },
     "execution_count": 20,
     "metadata": {},
     "output_type": "execute_result"
    }
   ],
   "source": [
    "# Get lists of sentences\n",
    "# Convert abstract text lines into lists \n",
    "train_sentences = train_df[\"text\"].tolist()\n",
    "val_sentences = val_df[\"text\"].tolist()\n",
    "test_sentences = test_df[\"text\"].tolist()\n",
    "\n",
    "len(train_sentences), len(val_sentences), len(test_sentences)"
   ]
  },
  {
   "cell_type": "code",
   "execution_count": 21,
   "id": "ec30d943-71c9-475d-afa9-7aac2367d19a",
   "metadata": {},
   "outputs": [
    {
     "data": {
      "text/plain": [
       "['to investigate the efficacy of @ weeks of daily low-dose oral prednisolone in improving pain , mobility , and systemic low-grade inflammation in the short term and whether the effect would be sustained at @ weeks in older adults with moderate to severe knee osteoarthritis ( oa ) .',\n",
       " 'a total of @ patients with primary knee oa were randomized @:@ ; @ received @ mg/day of prednisolone and @ received placebo for @ weeks .',\n",
       " 'outcome measures included pain reduction and improvement in function scores and systemic inflammation markers .',\n",
       " 'pain was assessed using the visual analog pain scale ( @-@ mm ) .',\n",
       " 'secondary outcome measures included the western ontario and mcmaster universities osteoarthritis index scores , patient global assessment ( pga ) of the severity of knee oa , and @-min walk distance ( @mwd ) .']"
      ]
     },
     "execution_count": 21,
     "metadata": {},
     "output_type": "execute_result"
    }
   ],
   "source": [
    "# Example of training sentences\n",
    "train_sentences[:5]"
   ]
  },
  {
   "cell_type": "code",
   "execution_count": 22,
   "id": "f7ce5914-c0d2-4f11-ab3a-cae7f5b95ee5",
   "metadata": {},
   "outputs": [
    {
     "data": {
      "text/plain": [
       "26.338269273494777"
      ]
     },
     "execution_count": 22,
     "metadata": {},
     "output_type": "execute_result"
    }
   ],
   "source": [
    "# Average sentence length\n",
    "sent_lens = [len(sentence.split()) for sentence in train_sentences]\n",
    "avg_sent_len = np.mean(sent_lens)\n",
    "avg_sent_len"
   ]
  },
  {
   "cell_type": "code",
   "execution_count": 23,
   "id": "2365828d-29c7-4eb3-9bc9-8dd40d1c3e47",
   "metadata": {},
   "outputs": [
    {
     "data": {
      "image/png": "[encoded data removed]",
      "text/plain": [
       "<Figure size 720x432 with 1 Axes>"
      ]
     },
     "metadata": {},
     "output_type": "display_data"
    }
   ],
   "source": [
    "#Distribution of number of sentence length\n",
    "plt.figure(figsize=(10,6))\n",
    "sns.histplot(data=sent_lens, bins=70)\n",
    "plt.title('The distribution of sentence length',fontweight=\"bold\")\n",
    "plt.show()"
   ]
  },
  {
   "cell_type": "code",
   "execution_count": 24,
   "id": "cc329b15-d2eb-4ac3-a555-e7d6b5b10d76",
   "metadata": {},
   "outputs": [
    {
     "data": {
      "text/plain": [
       "55"
      ]
     },
     "execution_count": 24,
     "metadata": {},
     "output_type": "execute_result"
    }
   ],
   "source": [
    "# Length of a sentence covers 95% of the lengths\n",
    "output_seq_len = int(np.percentile(sent_lens, 95))\n",
    "output_seq_len"
   ]
  },
  {
   "cell_type": "code",
   "execution_count": 25,
   "id": "dd8df375-eef5-4b6d-a092-5f7baa8d813a",
   "metadata": {},
   "outputs": [
    {
     "data": {
      "text/plain": [
       "296"
      ]
     },
     "execution_count": 25,
     "metadata": {},
     "output_type": "execute_result"
    }
   ],
   "source": [
    "# Maximum sentence length in the training set\n",
    "max(sent_lens)"
   ]
  },
  {
   "cell_type": "markdown",
   "id": "ce19b9f7-9a45-452f-a2de-c67f90686130",
   "metadata": {
    "tags": []
   },
   "source": [
    "### CREATE A NUMERIC LABELS "
   ]
  },
  {
   "cell_type": "code",
   "execution_count": 26,
   "id": "9bae01fa-dfc2-4a7c-8a9a-9d4609357c91",
   "metadata": {},
   "outputs": [],
   "source": [
    "# One hot encode labels\n",
    "one_hot_encoder = OneHotEncoder(sparse=False)\n",
    "\n",
    "train_labels_one_hot = one_hot_encoder.fit_transform(train_df[\"target\"].to_numpy().reshape(-1, 1))\n",
    "val_labels_one_hot = one_hot_encoder.transform(val_df[\"target\"].to_numpy().reshape(-1, 1))\n",
    "test_labels_one_hot = one_hot_encoder.transform(test_df[\"target\"].to_numpy().reshape(-1, 1))"
   ]
  },
  {
   "cell_type": "code",
   "execution_count": 27,
   "id": "0d179445-5496-474f-b89f-8bbb6819c010",
   "metadata": {},
   "outputs": [
    {
     "data": {
      "text/plain": [
       "array([[0., 0., 0., 1., 0.],\n",
       "       [0., 0., 1., 0., 0.],\n",
       "       [0., 0., 1., 0., 0.],\n",
       "       ...,\n",
       "       [0., 0., 0., 0., 1.],\n",
       "       [0., 1., 0., 0., 0.],\n",
       "       [0., 1., 0., 0., 0.]])"
      ]
     },
     "execution_count": 27,
     "metadata": {},
     "output_type": "execute_result"
    }
   ],
   "source": [
    "# Check result\n",
    "train_labels_one_hot"
   ]
  },
  {
   "cell_type": "code",
   "execution_count": 28,
   "id": "09ec68c5-8e10-4532-ae7e-89510f7a46d5",
   "metadata": {},
   "outputs": [],
   "source": [
    "# Label encode labels\n",
    "label_encoder = LabelEncoder()\n",
    "\n",
    "train_labels_encoded = label_encoder.fit_transform(train_df[\"target\"].to_numpy())\n",
    "val_labels_encoded = label_encoder.transform(val_df[\"target\"].to_numpy())\n",
    "test_labels_encoded = label_encoder.transform(test_df[\"target\"].to_numpy())"
   ]
  },
  {
   "cell_type": "code",
   "execution_count": 29,
   "id": "46916433-8ce7-434b-b572-9a5af60363fb",
   "metadata": {},
   "outputs": [
    {
     "data": {
      "text/plain": [
       "array([3, 2, 2, ..., 4, 1, 1])"
      ]
     },
     "execution_count": 29,
     "metadata": {},
     "output_type": "execute_result"
    }
   ],
   "source": [
    "# Check result\n",
    "train_labels_encoded"
   ]
  },
  {
   "cell_type": "code",
   "execution_count": 30,
   "id": "851c9f50-5201-4cfb-94cc-2628c0684f26",
   "metadata": {},
   "outputs": [
    {
     "data": {
      "text/plain": [
       "(5,\n",
       " array(['BACKGROUND', 'CONCLUSIONS', 'METHODS', 'OBJECTIVE', 'RESULTS'],\n",
       "       dtype=object))"
      ]
     },
     "execution_count": 30,
     "metadata": {},
     "output_type": "execute_result"
    }
   ],
   "source": [
    "# Get class names and number of classes from LabelEncoder instance \n",
    "num_classes = len(label_encoder.classes_)\n",
    "class_names = label_encoder.classes_\n",
    "\n",
    "num_classes, class_names"
   ]
  },
  {
   "cell_type": "markdown",
   "id": "c7a4e2c1-fbe7-4ee2-8d0e-14343b2543d6",
   "metadata": {},
   "source": [
    "## TF-IDF MULTINOMIAL NAIVE BAYES"
   ]
  },
  {
   "cell_type": "code",
   "execution_count": 31,
   "id": "6999f518-8992-4cb8-8e31-36e8fd589cee",
   "metadata": {},
   "outputs": [],
   "source": [
    "# Create a pipeline\n",
    "model_0 = Pipeline([(\"tf-idf\", TfidfVectorizer()),\n",
    "                    (\"clf\", MultinomialNB())])"
   ]
  },
  {
   "cell_type": "code",
   "execution_count": 32,
   "id": "a54fa33d-ca47-4ff0-b64a-3683a8cd3bcd",
   "metadata": {},
   "outputs": [],
   "source": [
    "# Fit the pipeline to the training data\n",
    "model_0.fit(X=train_sentences, \n",
    "            y=train_labels_encoded);"
   ]
  },
  {
   "cell_type": "code",
   "execution_count": 33,
   "id": "0ffc3859-0999-4735-b789-b24105f09a11",
   "metadata": {},
   "outputs": [
    {
     "data": {
      "text/plain": [
       "array([4, 1, 3, ..., 4, 4, 1])"
      ]
     },
     "execution_count": 33,
     "metadata": {},
     "output_type": "execute_result"
    }
   ],
   "source": [
    "# Predictions\n",
    "baseline_preds = model_0.predict(val_sentences)\n",
    "baseline_preds"
   ]
  },
  {
   "cell_type": "code",
   "execution_count": 34,
   "id": "c1561a9a-2735-4799-84f6-9d28362e77db",
   "metadata": {},
   "outputs": [
    {
     "data": {
      "text/plain": [
       "{'accuracy': 72.1832384482987,\n",
       " 'precision': 0.7186466952323352,\n",
       " 'recall': 0.7218323844829869,\n",
       " 'f1': 0.6989250353450294}"
      ]
     },
     "execution_count": 34,
     "metadata": {},
     "output_type": "execute_result"
    }
   ],
   "source": [
    "# Baseline results\n",
    "baseline_results = calculate_results(y_true=val_labels_encoded,\n",
    "                                     y_pred=baseline_preds)\n",
    "baseline_results"
   ]
  },
  {
   "cell_type": "markdown",
   "id": "3c45b3bf-e5fd-4fbf-9e12-a88bedfb646a",
   "metadata": {},
   "source": [
    "## CONV1D WITH TOKEN EMBEDDINGS"
   ]
  },
  {
   "cell_type": "markdown",
   "id": "f3a7ba62-1047-4fb5-96ea-9d34509508a7",
   "metadata": {},
   "source": [
    "### Text vectorizer"
   ]
  },
  {
   "cell_type": "code",
   "execution_count": 35,
   "id": "c342b972-1a12-4e5d-b8c5-db28c7a45324",
   "metadata": {},
   "outputs": [],
   "source": [
    "max_tokens = 68000"
   ]
  },
  {
   "cell_type": "code",
   "execution_count": 36,
   "id": "aadfb03f-7f30-47c7-9a44-4c216f852524",
   "metadata": {},
   "outputs": [
    {
     "name": "stderr",
     "output_type": "stream",
     "text": [
      "2021-10-28 21:51:25.277495: I tensorflow/stream_executor/cuda/cuda_gpu_executor.cc:937] successful NUMA node read from SysFS had negative value (-1), but there must be at least one NUMA node, so returning NUMA node zero\n",
      "2021-10-28 21:51:25.286721: I tensorflow/stream_executor/cuda/cuda_gpu_executor.cc:937] successful NUMA node read from SysFS had negative value (-1), but there must be at least one NUMA node, so returning NUMA node zero\n",
      "2021-10-28 21:51:25.287631: I tensorflow/stream_executor/cuda/cuda_gpu_executor.cc:937] successful NUMA node read from SysFS had negative value (-1), but there must be at least one NUMA node, so returning NUMA node zero\n",
      "2021-10-28 21:51:25.289232: I tensorflow/core/platform/cpu_feature_guard.cc:142] This TensorFlow binary is optimized with oneAPI Deep Neural Network Library (oneDNN) to use the following CPU instructions in performance-critical operations:  AVX2 FMA\n",
      "To enable them in other operations, rebuild TensorFlow with the appropriate compiler flags.\n",
      "2021-10-28 21:51:25.291451: I tensorflow/stream_executor/cuda/cuda_gpu_executor.cc:937] successful NUMA node read from SysFS had negative value (-1), but there must be at least one NUMA node, so returning NUMA node zero\n",
      "2021-10-28 21:51:25.292298: I tensorflow/stream_executor/cuda/cuda_gpu_executor.cc:937] successful NUMA node read from SysFS had negative value (-1), but there must be at least one NUMA node, so returning NUMA node zero\n",
      "2021-10-28 21:51:25.293091: I tensorflow/stream_executor/cuda/cuda_gpu_executor.cc:937] successful NUMA node read from SysFS had negative value (-1), but there must be at least one NUMA node, so returning NUMA node zero\n",
      "2021-10-28 21:51:25.739970: I tensorflow/stream_executor/cuda/cuda_gpu_executor.cc:937] successful NUMA node read from SysFS had negative value (-1), but there must be at least one NUMA node, so returning NUMA node zero\n",
      "2021-10-28 21:51:25.740299: I tensorflow/stream_executor/cuda/cuda_gpu_executor.cc:937] successful NUMA node read from SysFS had negative value (-1), but there must be at least one NUMA node, so returning NUMA node zero\n",
      "2021-10-28 21:51:25.740584: I tensorflow/stream_executor/cuda/cuda_gpu_executor.cc:937] successful NUMA node read from SysFS had negative value (-1), but there must be at least one NUMA node, so returning NUMA node zero\n",
      "2021-10-28 21:51:25.740848: I tensorflow/core/common_runtime/gpu/gpu_device.cc:1510] Created device /job:localhost/replica:0/task:0/device:GPU:0 with 4642 MB memory:  -> device: 0, name: NVIDIA GeForce RTX 2060, pci bus id: 0000:01:00.0, compute capability: 7.5\n"
     ]
    }
   ],
   "source": [
    "# Text vectorizer\n",
    "text_vectorizer = TextVectorization(max_tokens=max_tokens,\n",
    "                                    output_sequence_length=55)"
   ]
  },
  {
   "cell_type": "code",
   "execution_count": 37,
   "id": "49df7ab1-e239-411d-b41f-dd5dbbcb8e78",
   "metadata": {},
   "outputs": [
    {
     "name": "stderr",
     "output_type": "stream",
     "text": [
      "2021-10-28 21:51:26.862639: I tensorflow/compiler/mlir/mlir_graph_optimization_pass.cc:185] None of the MLIR Optimization Passes are enabled (registered 2)\n"
     ]
    }
   ],
   "source": [
    "# Adapt text vectorizer to training sentences\n",
    "text_vectorizer.adapt(train_sentences)"
   ]
  },
  {
   "cell_type": "code",
   "execution_count": 38,
   "id": "9f66a94f-6de0-42e8-a757-ce6d54614fb6",
   "metadata": {},
   "outputs": [
    {
     "name": "stdout",
     "output_type": "stream",
     "text": [
      "Text:\n",
      "the analysis was based on @ returned questionnaires ( @ % ) with a self-sample specimen , and @ ( @ % ) without .\n",
      "\n",
      "Length of text: 25\n",
      "\n",
      "Vectorized text:\n",
      "[[    2    85    10   261    18  2604   913     7     8 28602  5323     3\n",
      "    159     0     0     0     0     0     0     0     0     0     0     0\n",
      "      0     0     0     0     0     0     0     0     0     0     0     0\n",
      "      0     0     0     0     0     0     0     0     0     0     0     0\n",
      "      0     0     0     0     0     0     0]]\n"
     ]
    }
   ],
   "source": [
    "# Check result \n",
    "target_sentence = random.choice(train_sentences)\n",
    "print(f\"Text:\\n{target_sentence}\")\n",
    "print(f\"\\nLength of text: {len(target_sentence.split())}\")\n",
    "print(f\"\\nVectorized text:\\n{text_vectorizer([target_sentence])}\")"
   ]
  },
  {
   "cell_type": "markdown",
   "id": "4e51adf1-4feb-40f6-9b2c-baa321ca60f4",
   "metadata": {},
   "source": [
    "### Text embedding"
   ]
  },
  {
   "cell_type": "code",
   "execution_count": 39,
   "id": "e2925f18-e662-46fb-b0ec-5da189b64f2e",
   "metadata": {},
   "outputs": [
    {
     "name": "stdout",
     "output_type": "stream",
     "text": [
      "Number of words in vocabulary: 64841\n"
     ]
    }
   ],
   "source": [
    "# Number of words in vocabulary\n",
    "rct_20k_text_vocab = text_vectorizer.get_vocabulary()\n",
    "print(f\"Number of words in vocabulary: {len(rct_20k_text_vocab)}\")"
   ]
  },
  {
   "cell_type": "code",
   "execution_count": 40,
   "id": "4b4212cb-5287-44e6-9c3c-0167da5cafa4",
   "metadata": {},
   "outputs": [],
   "source": [
    "# Token embedding layer\n",
    "token_embed = Embedding(input_dim=len(rct_20k_text_vocab),\n",
    "                               output_dim=256, \n",
    "                               mask_zero=True,\n",
    "                               name=\"token_embedding\") "
   ]
  },
  {
   "cell_type": "code",
   "execution_count": 41,
   "id": "5efae664-2e44-4a79-9e3e-9294372bbdc7",
   "metadata": {},
   "outputs": [
    {
     "name": "stdout",
     "output_type": "stream",
     "text": [
      "Sentence before vectorization:\n",
      "the analysis was based on @ returned questionnaires ( @ % ) with a self-sample specimen , and @ ( @ % ) without .\n",
      "\n",
      "Sentence after vectorization (before embedding):\n",
      "[[    2    85    10   261    18  2604   913     7     8 28602  5323     3\n",
      "    159     0     0     0     0     0     0     0     0     0     0     0\n",
      "      0     0     0     0     0     0     0     0     0     0     0     0\n",
      "      0     0     0     0     0     0     0     0     0     0     0     0\n",
      "      0     0     0     0     0     0     0]]\n",
      "\n",
      "Sentence after embedding:\n",
      "[[[-0.04894903 -0.02958405  0.01835967 ...  0.04834911 -0.03035229\n",
      "    0.03008856]\n",
      "  [ 0.02910967 -0.03161726  0.02516422 ... -0.02178756  0.0166744\n",
      "   -0.04171804]\n",
      "  [ 0.02563795 -0.01450126 -0.04750457 ... -0.02106292 -0.00138781\n",
      "    0.0359041 ]\n",
      "  ...\n",
      "  [ 0.02453857 -0.00755722  0.02939925 ... -0.01124829 -0.01413442\n",
      "   -0.01514461]\n",
      "  [ 0.02453857 -0.00755722  0.02939925 ... -0.01124829 -0.01413442\n",
      "   -0.01514461]\n",
      "  [ 0.02453857 -0.00755722  0.02939925 ... -0.01124829 -0.01413442\n",
      "   -0.01514461]]]\n",
      "\n",
      "Embedded sentence shape: (1, 55, 256)\n"
     ]
    }
   ],
   "source": [
    "# Example of embedding\n",
    "print(f\"Sentence before vectorization:\\n{target_sentence}\\n\")\n",
    "vectorized_sentence = text_vectorizer([target_sentence])\n",
    "print(f\"Sentence after vectorization (before embedding):\\n{vectorized_sentence}\\n\")\n",
    "embedded_sentence = token_embed(vectorized_sentence)\n",
    "print(f\"Sentence after embedding:\\n{embedded_sentence}\\n\")\n",
    "print(f\"Embedded sentence shape: {embedded_sentence.shape}\")"
   ]
  },
  {
   "cell_type": "markdown",
   "id": "4db56cf5-dfa4-4cd2-ba40-fad03bf8146f",
   "metadata": {},
   "source": [
    "### Datasets"
   ]
  },
  {
   "cell_type": "code",
   "execution_count": 42,
   "id": "6705a865-9eb8-484e-a7a9-f942db3b014b",
   "metadata": {},
   "outputs": [
    {
     "data": {
      "text/plain": [
       "<TensorSliceDataset shapes: ((), (5,)), types: (tf.string, tf.float64)>"
      ]
     },
     "execution_count": 42,
     "metadata": {},
     "output_type": "execute_result"
    }
   ],
   "source": [
    "# Turn data into TensorFlow Datasets\n",
    "train_dataset = tf.data.Dataset.from_tensor_slices((train_sentences, train_labels_one_hot))\n",
    "valid_dataset = tf.data.Dataset.from_tensor_slices((val_sentences, val_labels_one_hot))\n",
    "test_dataset = tf.data.Dataset.from_tensor_slices((test_sentences, test_labels_one_hot))\n",
    "\n",
    "train_dataset"
   ]
  },
  {
   "cell_type": "code",
   "execution_count": 43,
   "id": "65b2a20e-7c9f-4808-9a42-ea630dffba09",
   "metadata": {},
   "outputs": [
    {
     "data": {
      "text/plain": [
       "<PrefetchDataset shapes: ((None,), (None, 5)), types: (tf.string, tf.float64)>"
      ]
     },
     "execution_count": 43,
     "metadata": {},
     "output_type": "execute_result"
    }
   ],
   "source": [
    "# Turn the TensorSliceDataset's into prefetched batches\n",
    "train_dataset = train_dataset.batch(512).prefetch(tf.data.AUTOTUNE)\n",
    "valid_dataset = valid_dataset.batch(512).prefetch(tf.data.AUTOTUNE)\n",
    "test_dataset = test_dataset.batch(512).prefetch(tf.data.AUTOTUNE)\n",
    "\n",
    "train_dataset"
   ]
  },
  {
   "cell_type": "markdown",
   "id": "67213ad4-3575-41a0-9a54-0ce5b0cbdf65",
   "metadata": {},
   "source": [
    "### Model 1: Conv1D with token embeddings"
   ]
  },
  {
   "cell_type": "code",
   "execution_count": 44,
   "id": "6a583694-22e3-40ce-b6b3-81063c7f501a",
   "metadata": {},
   "outputs": [],
   "source": [
    "# 1D convolutional model to process sequences\n",
    "inputs = Input(shape=(1,), dtype=tf.string)\n",
    "\n",
    "text_vectors = text_vectorizer(inputs)\n",
    "token_embeddings = token_embed(text_vectors)\n",
    "\n",
    "x = Conv1D(filters=64, kernel_size=3, padding=\"same\", activation=\"relu\")(token_embeddings)\n",
    "x = Conv1D(filters=64, kernel_size=3, padding=\"same\", activation=\"relu\")(x)\n",
    "x = MaxPool1D(pool_size=2)(x)\n",
    "\n",
    "x = Conv1D(filters=128, kernel_size=3, padding=\"same\", activation=\"relu\")(x)\n",
    "x = Conv1D(filters=128, kernel_size=3, padding=\"same\", activation=\"relu\")(x)\n",
    "x = MaxPool1D(pool_size=2)(x)\n",
    "\n",
    "x = Conv1D(filters=256, kernel_size=3, padding=\"same\", activation=\"relu\")(x)\n",
    "x = Conv1D(filters=256, kernel_size=3, padding=\"same\", activation=\"relu\")(x)\n",
    "x = MaxPool1D(pool_size=2)(x)\n",
    "\n",
    "x = Conv1D(filters=512, kernel_size=3, padding=\"same\", activation=\"relu\")(x)\n",
    "x = Conv1D(filters=512, kernel_size=3, padding=\"same\", activation=\"relu\")(x)\n",
    "\n",
    "\n",
    "x = GlobalAveragePooling1D()(x)\n",
    "\n",
    "outputs = Dense(num_classes, activation=\"softmax\")(x)\n",
    "\n",
    "model_1 = Model(inputs, outputs)"
   ]
  },
  {
   "cell_type": "code",
   "execution_count": 45,
   "id": "bf1c8bb6-a4ce-4d52-86c7-8f8a2a507efb",
   "metadata": {},
   "outputs": [],
   "source": [
    "# Compile model\n",
    "model_1.compile(loss=\"categorical_crossentropy\", \n",
    "                optimizer=tf.keras.optimizers.Adam(),\n",
    "                metrics=[\"accuracy\"])"
   ]
  },
  {
   "cell_type": "code",
   "execution_count": 46,
   "id": "bdc88296-5f71-4080-ad5b-043e1ba9beef",
   "metadata": {},
   "outputs": [
    {
     "name": "stdout",
     "output_type": "stream",
     "text": [
      "Model: \"model\"\n",
      "_________________________________________________________________\n",
      "Layer (type)                 Output Shape              Param #   \n",
      "=================================================================\n",
      "input_1 (InputLayer)         [(None, 1)]               0         \n",
      "_________________________________________________________________\n",
      "text_vectorization (TextVect (None, 55)                0         \n",
      "_________________________________________________________________\n",
      "token_embedding (Embedding)  (None, 55, 256)           16599296  \n",
      "_________________________________________________________________\n",
      "conv1d (Conv1D)              (None, 55, 64)            49216     \n",
      "_________________________________________________________________\n",
      "conv1d_1 (Conv1D)            (None, 55, 64)            12352     \n",
      "_________________________________________________________________\n",
      "max_pooling1d (MaxPooling1D) (None, 27, 64)            0         \n",
      "_________________________________________________________________\n",
      "conv1d_2 (Conv1D)            (None, 27, 128)           24704     \n",
      "_________________________________________________________________\n",
      "conv1d_3 (Conv1D)            (None, 27, 128)           49280     \n",
      "_________________________________________________________________\n",
      "max_pooling1d_1 (MaxPooling1 (None, 13, 128)           0         \n",
      "_________________________________________________________________\n",
      "conv1d_4 (Conv1D)            (None, 13, 256)           98560     \n",
      "_________________________________________________________________\n",
      "conv1d_5 (Conv1D)            (None, 13, 256)           196864    \n",
      "_________________________________________________________________\n",
      "max_pooling1d_2 (MaxPooling1 (None, 6, 256)            0         \n",
      "_________________________________________________________________\n",
      "conv1d_6 (Conv1D)            (None, 6, 512)            393728    \n",
      "_________________________________________________________________\n",
      "conv1d_7 (Conv1D)            (None, 6, 512)            786944    \n",
      "_________________________________________________________________\n",
      "global_average_pooling1d (Gl (None, 512)               0         \n",
      "_________________________________________________________________\n",
      "dense (Dense)                (None, 5)                 2565      \n",
      "=================================================================\n",
      "Total params: 18,213,509\n",
      "Trainable params: 18,213,509\n",
      "Non-trainable params: 0\n",
      "_________________________________________________________________\n"
     ]
    },
    {
     "data": {
      "image/png": "[encoded data removed]",
      "text/plain": [
       "<IPython.core.display.Image object>"
      ]
     },
     "execution_count": 46,
     "metadata": {},
     "output_type": "execute_result"
    }
   ],
   "source": [
    "# Get summary of Conv1D model\n",
    "model_1.summary()\n",
    "tf.keras.utils.plot_model(model_1, to_file='Model_1_Conv1D_with_token_embeddings.png')"
   ]
  },
  {
   "cell_type": "code",
   "execution_count": 47,
   "id": "858ff237-a170-479b-aeaa-7fd7dbef56b5",
   "metadata": {},
   "outputs": [
    {
     "name": "stdout",
     "output_type": "stream",
     "text": [
      "Epoch 1/20\n"
     ]
    },
    {
     "name": "stderr",
     "output_type": "stream",
     "text": [
      "2021-10-28 21:51:40.460324: I tensorflow/stream_executor/cuda/cuda_dnn.cc:369] Loaded cuDNN version 8204\n",
      "2021-10-28 21:51:40.905752: I tensorflow/core/platform/default/subprocess.cc:304] Start cannot spawn child process: No such file or directory\n"
     ]
    },
    {
     "name": "stdout",
     "output_type": "stream",
     "text": [
      "352/352 [==============================] - 19s 45ms/step - loss: 0.8069 - accuracy: 0.6554 - val_loss: 0.5155 - val_accuracy: 0.8083\n",
      "Epoch 2/20\n",
      "352/352 [==============================] - 15s 42ms/step - loss: 0.4550 - accuracy: 0.8338 - val_loss: 0.5129 - val_accuracy: 0.8145\n",
      "Epoch 3/20\n",
      "352/352 [==============================] - 15s 42ms/step - loss: 0.3569 - accuracy: 0.8726 - val_loss: 0.6078 - val_accuracy: 0.8049\n",
      "Epoch 4/20\n",
      "352/352 [==============================] - 15s 42ms/step - loss: 0.2963 - accuracy: 0.8937 - val_loss: 0.6493 - val_accuracy: 0.7968\n",
      "Epoch 5/20\n",
      "352/352 [==============================] - 15s 42ms/step - loss: 0.2353 - accuracy: 0.9171 - val_loss: 0.7755 - val_accuracy: 0.7825\n",
      "Epoch 6/20\n",
      "352/352 [==============================] - 16s 45ms/step - loss: 0.1992 - accuracy: 0.9309 - val_loss: 0.7761 - val_accuracy: 0.7942\n",
      "Epoch 7/20\n",
      "352/352 [==============================] - 16s 46ms/step - loss: 0.1755 - accuracy: 0.9397 - val_loss: 0.8339 - val_accuracy: 0.7985\n",
      "Epoch 8/20\n",
      "352/352 [==============================] - 15s 42ms/step - loss: 0.1476 - accuracy: 0.9505 - val_loss: 0.8417 - val_accuracy: 0.8002\n",
      "Epoch 9/20\n",
      "352/352 [==============================] - 15s 42ms/step - loss: 0.1163 - accuracy: 0.9617 - val_loss: 0.9201 - val_accuracy: 0.7938\n",
      "Epoch 10/20\n",
      "352/352 [==============================] - 15s 43ms/step - loss: 0.1001 - accuracy: 0.9677 - val_loss: 1.0559 - val_accuracy: 0.7740\n",
      "Epoch 11/20\n",
      "352/352 [==============================] - 15s 43ms/step - loss: 0.1005 - accuracy: 0.9673 - val_loss: 1.0861 - val_accuracy: 0.7751\n",
      "Epoch 12/20\n",
      "352/352 [==============================] - 15s 43ms/step - loss: 0.0999 - accuracy: 0.9682 - val_loss: 1.0309 - val_accuracy: 0.7897\n",
      "Epoch 13/20\n",
      "352/352 [==============================] - 15s 43ms/step - loss: 0.0773 - accuracy: 0.9753 - val_loss: 1.1091 - val_accuracy: 0.7840\n",
      "Epoch 14/20\n",
      "352/352 [==============================] - 15s 43ms/step - loss: 0.0571 - accuracy: 0.9819 - val_loss: 1.1464 - val_accuracy: 0.7834\n",
      "Epoch 15/20\n",
      "352/352 [==============================] - 15s 43ms/step - loss: 0.0432 - accuracy: 0.9868 - val_loss: 1.4871 - val_accuracy: 0.7710\n",
      "Epoch 16/20\n",
      "352/352 [==============================] - 15s 43ms/step - loss: 0.0388 - accuracy: 0.9881 - val_loss: 1.3381 - val_accuracy: 0.7924\n",
      "Epoch 17/20\n",
      "352/352 [==============================] - 15s 43ms/step - loss: 0.0334 - accuracy: 0.9900 - val_loss: 1.6089 - val_accuracy: 0.7828\n",
      "Epoch 18/20\n",
      "352/352 [==============================] - 15s 44ms/step - loss: 0.0336 - accuracy: 0.9896 - val_loss: 1.5150 - val_accuracy: 0.7854\n",
      "Epoch 19/20\n",
      "352/352 [==============================] - 15s 44ms/step - loss: 0.0327 - accuracy: 0.9899 - val_loss: 1.5458 - val_accuracy: 0.7859\n",
      "Epoch 20/20\n",
      "352/352 [==============================] - 15s 44ms/step - loss: 0.0294 - accuracy: 0.9911 - val_loss: 1.6417 - val_accuracy: 0.7805\n"
     ]
    }
   ],
   "source": [
    "# Fit the model\n",
    "model_1_history = model_1.fit(train_dataset,\n",
    "                              epochs=20,\n",
    "                              validation_data=valid_dataset)"
   ]
  },
  {
   "cell_type": "markdown",
   "id": "601e1f54-d0bd-4991-b698-db6572bd91b3",
   "metadata": {},
   "source": [
    "#### EVALUATION RESULT"
   ]
  },
  {
   "cell_type": "code",
   "execution_count": 48,
   "id": "6359c9ad-0480-4715-82db-b498185208a0",
   "metadata": {},
   "outputs": [],
   "source": [
    "def learning_curves(history):\n",
    "    pd.DataFrame(history.history).plot(figsize=(20, 8))\n",
    "    plt.grid(True)\n",
    "    plt.title('Learning curves')\n",
    "    plt.gca().set_ylim(0, 1)\n",
    "    plt.show()\n",
    "\n",
    "\n",
    "def evaluation_model(history):\n",
    "    fig, (axL, axR) = plt.subplots(ncols=2, figsize=(20, 8))\n",
    "    axL.plot(history.history['loss'], label=\"Training loss\")\n",
    "    axL.plot(history.history['val_loss'], label=\"Validation loss\")\n",
    "    axL.set_title('Training and Validation loss')\n",
    "    axL.set_xlabel('Epochs')\n",
    "    axL.set_ylabel('Loss')\n",
    "    axL.legend(loc='upper right')\n",
    "\n",
    "    axR.plot(history.history['accuracy'], label=\"Training accuracy\")\n",
    "    axR.plot(history.history['val_accuracy'], label=\"Validation accuracy\")\n",
    "    axR.set_title('Training and Validation accuracy')\n",
    "    axR.set_xlabel('Epoch')\n",
    "    axR.set_ylabel('Accuracy')\n",
    "    axR.legend(loc='upper right')\n",
    "\n",
    "    plt.show()"
   ]
  },
  {
   "cell_type": "code",
   "execution_count": 49,
   "id": "5138dc73-dc28-4e27-93dd-3ef61c6c7407",
   "metadata": {},
   "outputs": [
    {
     "data": {
      "image/png": "[encoded data removed]",
      "text/plain": [
       "<Figure size 1440x576 with 1 Axes>"
      ]
     },
     "metadata": {},
     "output_type": "display_data"
    }
   ],
   "source": [
    "# Learning curves\n",
    "learning_curves(model_1_history)"
   ]
  },
  {
   "cell_type": "code",
   "execution_count": 50,
   "id": "61e94602-0c5e-4403-94ae-a3e0a09385ca",
   "metadata": {},
   "outputs": [
    {
     "data": {
      "image/png": "[encoded data removed]",
      "text/plain": [
       "<Figure size 1440x576 with 2 Axes>"
      ]
     },
     "metadata": {},
     "output_type": "display_data"
    }
   ],
   "source": [
    "# Evaluation model\n",
    "evaluation_model(model_1_history)"
   ]
  },
  {
   "cell_type": "code",
   "execution_count": 51,
   "id": "d81f217b-821d-48ad-be63-908611f7dc8f",
   "metadata": {},
   "outputs": [
    {
     "name": "stdout",
     "output_type": "stream",
     "text": [
      "60/60 [==============================] - 1s 16ms/step - loss: 1.6417 - accuracy: 0.7805\n"
     ]
    },
    {
     "data": {
      "text/plain": [
       "[1.64173424243927, 0.7805176973342896]"
      ]
     },
     "execution_count": 51,
     "metadata": {},
     "output_type": "execute_result"
    }
   ],
   "source": [
    "# Evaluate the results\n",
    "model_1.evaluate(valid_dataset)"
   ]
  },
  {
   "cell_type": "code",
   "execution_count": 52,
   "id": "ec034903-23f4-4ff5-8ce9-57ec84a6ea1b",
   "metadata": {},
   "outputs": [
    {
     "data": {
      "text/plain": [
       "array([[3.95104568e-03, 3.18145976e-05, 4.22463454e-02, 9.53709781e-01,\n",
       "        6.10792849e-05],\n",
       "       [1.01651400e-02, 6.09764372e-09, 5.85574867e-07, 9.89834309e-01,\n",
       "        5.16128633e-11],\n",
       "       [1.20911755e-01, 1.02511263e-10, 1.62994493e-05, 8.79071951e-01,\n",
       "        2.03258677e-11],\n",
       "       ...,\n",
       "       [3.64481623e-09, 9.81149100e-08, 1.28908505e-05, 7.43253861e-11,\n",
       "        9.99987006e-01],\n",
       "       [3.45304422e-03, 8.12768579e-01, 6.41942490e-04, 3.62097198e-04,\n",
       "        1.82774305e-01],\n",
       "       [4.98749708e-10, 1.00000000e+00, 4.25622870e-11, 8.65296446e-11,\n",
       "        9.39579525e-09]], dtype=float32)"
      ]
     },
     "execution_count": 52,
     "metadata": {},
     "output_type": "execute_result"
    }
   ],
   "source": [
    "# Predictions\n",
    "model_1_pred_probs = model_1.predict(valid_dataset)\n",
    "model_1_pred_probs"
   ]
  },
  {
   "cell_type": "code",
   "execution_count": 53,
   "id": "8a6e1789-f8b3-435f-967c-eda3c3c4a158",
   "metadata": {},
   "outputs": [
    {
     "data": {
      "text/plain": [
       "<tf.Tensor: shape=(30212,), dtype=int64, numpy=array([3, 3, 3, ..., 4, 1, 1])>"
      ]
     },
     "execution_count": 53,
     "metadata": {},
     "output_type": "execute_result"
    }
   ],
   "source": [
    "# Convert pred probs to classes\n",
    "model_1_preds = tf.argmax(model_1_pred_probs, axis=1)\n",
    "model_1_preds"
   ]
  },
  {
   "cell_type": "code",
   "execution_count": 54,
   "id": "ebf047d2-6df8-4342-95fc-c4db1735ef17",
   "metadata": {},
   "outputs": [
    {
     "data": {
      "text/plain": [
       "{'accuracy': 78.05176750959883,\n",
       " 'precision': 0.7867098305761318,\n",
       " 'recall': 0.7805176750959884,\n",
       " 'f1': 0.7817299578520043}"
      ]
     },
     "execution_count": 54,
     "metadata": {},
     "output_type": "execute_result"
    }
   ],
   "source": [
    "# Calculate model_1 results\n",
    "model_1_results = calculate_results(y_true=val_labels_encoded,\n",
    "                                    y_pred=model_1_preds)\n",
    "model_1_results"
   ]
  },
  {
   "cell_type": "code",
   "execution_count": 55,
   "id": "26184f81-3285-4e25-bfb1-11e997bfda97",
   "metadata": {},
   "outputs": [
    {
     "name": "stderr",
     "output_type": "stream",
     "text": [
      "2021-10-28 21:56:50.562533: W tensorflow/python/util/util.cc:348] Sets are not currently considered sequences, but this may change in the future, so consider avoiding using them.\n"
     ]
    },
    {
     "name": "stdout",
     "output_type": "stream",
     "text": [
      "INFO:tensorflow:Assets written to: Model_1_Conv1D_with_token_embeddings/assets\n"
     ]
    }
   ],
   "source": [
    "# Save model \n",
    "model_1.save(\"Model_1_Conv1D_with_token_embeddings\")"
   ]
  }
 ],
 "metadata": {
  "kernelspec": {
   "display_name": "Python 3 (ipykernel)",
   "language": "python",
   "name": "python3"
  },
  "language_info": {
   "codemirror_mode": {
    "name": "ipython",
    "version": 3
   },
   "file_extension": ".py",
   "mimetype": "text/x-python",
   "name": "python",
   "nbconvert_exporter": "python",
   "pygments_lexer": "ipython3",
   "version": "3.8.12"
  }
 },
 "nbformat": 4,
 "nbformat_minor": 5
}
